{
 "cells": [
  {
   "cell_type": "markdown",
   "metadata": {},
   "source": [
    "Model selection is the task of selecting a statistical model from a set of candidate models, given data. In the simplest cases, a pre-existing set of data is considered. Given candidate models of similar predictive or explanatory power, the simplest model is most likely to be the best choice."
   ]
  },
  {
   "cell_type": "markdown",
   "metadata": {},
   "source": [
    "The data is available in Google BigQuery that can be downloaded from here. The data is also publicly available at this Cloud Storage URL: https://storage.googleapis.com/tensorflow-workshop-examples/stack-overflow-data.csv."
   ]
  },
  {
   "cell_type": "code",
   "execution_count": 1,
   "metadata": {},
   "outputs": [],
   "source": [
    "import logging\n",
    "import pandas as pd\n",
    "import numpy as np\n",
    "from numpy import random\n",
    "import gensim\n",
    "import nltk\n",
    "from sklearn.model_selection import train_test_split\n",
    "from sklearn.feature_extraction.text import CountVectorizer, TfidfVectorizer\n",
    "from sklearn.metrics import accuracy_score, confusion_matrix\n",
    "import matplotlib.pyplot as plt\n",
    "from nltk.corpus import stopwords\n",
    "import re\n",
    "\n",
    "\n",
    "%matplotlib inline"
   ]
  },
  {
   "cell_type": "code",
   "execution_count": 2,
   "metadata": {},
   "outputs": [
    {
     "data": {
      "text/html": [
       "<div>\n",
       "<style scoped>\n",
       "    .dataframe tbody tr th:only-of-type {\n",
       "        vertical-align: middle;\n",
       "    }\n",
       "\n",
       "    .dataframe tbody tr th {\n",
       "        vertical-align: top;\n",
       "    }\n",
       "\n",
       "    .dataframe thead th {\n",
       "        text-align: right;\n",
       "    }\n",
       "</style>\n",
       "<table border=\"1\" class=\"dataframe\">\n",
       "  <thead>\n",
       "    <tr style=\"text-align: right;\">\n",
       "      <th></th>\n",
       "      <th>post</th>\n",
       "      <th>tags</th>\n",
       "    </tr>\n",
       "  </thead>\n",
       "  <tbody>\n",
       "    <tr>\n",
       "      <th>0</th>\n",
       "      <td>El rey de los animales Se reunieron los animal...</td>\n",
       "      <td>Cuentos</td>\n",
       "    </tr>\n",
       "    <tr>\n",
       "      <th>1</th>\n",
       "      <td>Domingo 7 Había una vez dos compadres jorobado...</td>\n",
       "      <td>Cuentos</td>\n",
       "    </tr>\n",
       "    <tr>\n",
       "      <th>2</th>\n",
       "      <td>Francisco El Hombre En los albores del siglo X...</td>\n",
       "      <td>Cuentos</td>\n",
       "    </tr>\n",
       "    <tr>\n",
       "      <th>3</th>\n",
       "      <td>Aminta Peláez- La leyenda de Wareke Hace muchí...</td>\n",
       "      <td>Cuentos</td>\n",
       "    </tr>\n",
       "    <tr>\n",
       "      <th>4</th>\n",
       "      <td>EL OASIS DE BELISSAMA ATLAUA pASeABA Con BeLis...</td>\n",
       "      <td>Cuentos</td>\n",
       "    </tr>\n",
       "    <tr>\n",
       "      <th>5</th>\n",
       "      <td>El Tío LEóN, REY DE LA T IERRA Y DE LA SELVA  ...</td>\n",
       "      <td>Cuentos</td>\n",
       "    </tr>\n",
       "    <tr>\n",
       "      <th>6</th>\n",
       "      <td>Azulay Vásquez - La historia de la ceiba que n...</td>\n",
       "      <td>Cuentos</td>\n",
       "    </tr>\n",
       "    <tr>\n",
       "      <th>7</th>\n",
       "      <td>El leñador Érase un joven leñador muy honrado....</td>\n",
       "      <td>Cuentos</td>\n",
       "    </tr>\n",
       "    <tr>\n",
       "      <th>8</th>\n",
       "      <td>Clara Helena Baquero - El tigre y el fuego Viv...</td>\n",
       "      <td>Cuentos</td>\n",
       "    </tr>\n",
       "    <tr>\n",
       "      <th>9</th>\n",
       "      <td>El compadre rico y el compadre pobre En una al...</td>\n",
       "      <td>Cuentos</td>\n",
       "    </tr>\n",
       "  </tbody>\n",
       "</table>\n",
       "</div>"
      ],
      "text/plain": [
       "                                                post     tags\n",
       "0  El rey de los animales Se reunieron los animal...  Cuentos\n",
       "1  Domingo 7 Había una vez dos compadres jorobado...  Cuentos\n",
       "2  Francisco El Hombre En los albores del siglo X...  Cuentos\n",
       "3  Aminta Peláez- La leyenda de Wareke Hace muchí...  Cuentos\n",
       "4  EL OASIS DE BELISSAMA ATLAUA pASeABA Con BeLis...  Cuentos\n",
       "5  El Tío LEóN, REY DE LA T IERRA Y DE LA SELVA  ...  Cuentos\n",
       "6  Azulay Vásquez - La historia de la ceiba que n...  Cuentos\n",
       "7  El leñador Érase un joven leñador muy honrado....  Cuentos\n",
       "8  Clara Helena Baquero - El tigre y el fuego Viv...  Cuentos\n",
       "9  El compadre rico y el compadre pobre En una al...  Cuentos"
      ]
     },
     "execution_count": 2,
     "metadata": {},
     "output_type": "execute_result"
    }
   ],
   "source": [
    "df = pd.read_excel('database_clean.xlsx')[[\"Texto\",\"Tipo de fuente\"]]\n",
    "df.columns=[\"post\",\"tags\"]\n",
    "df = df[pd.notnull(df['tags'])]\n",
    "df.head(10)\n",
    "\n"
   ]
  },
  {
   "cell_type": "code",
   "execution_count": 3,
   "metadata": {},
   "outputs": [
    {
     "data": {
      "text/html": [
       "<div>\n",
       "<style scoped>\n",
       "    .dataframe tbody tr th:only-of-type {\n",
       "        vertical-align: middle;\n",
       "    }\n",
       "\n",
       "    .dataframe tbody tr th {\n",
       "        vertical-align: top;\n",
       "    }\n",
       "\n",
       "    .dataframe thead th {\n",
       "        text-align: right;\n",
       "    }\n",
       "</style>\n",
       "<table border=\"1\" class=\"dataframe\">\n",
       "  <thead>\n",
       "    <tr style=\"text-align: right;\">\n",
       "      <th></th>\n",
       "      <th>post</th>\n",
       "      <th>tags</th>\n",
       "    </tr>\n",
       "  </thead>\n",
       "  <tbody>\n",
       "    <tr>\n",
       "      <th>0</th>\n",
       "      <td>El rey de los animales Se reunieron los animal...</td>\n",
       "      <td>Cuentos</td>\n",
       "    </tr>\n",
       "    <tr>\n",
       "      <th>1</th>\n",
       "      <td>Domingo 7 Había una vez dos compadres jorobado...</td>\n",
       "      <td>Cuentos</td>\n",
       "    </tr>\n",
       "    <tr>\n",
       "      <th>2</th>\n",
       "      <td>Francisco El Hombre En los albores del siglo X...</td>\n",
       "      <td>Cuentos</td>\n",
       "    </tr>\n",
       "    <tr>\n",
       "      <th>3</th>\n",
       "      <td>Aminta Peláez- La leyenda de Wareke Hace muchí...</td>\n",
       "      <td>Cuentos</td>\n",
       "    </tr>\n",
       "    <tr>\n",
       "      <th>4</th>\n",
       "      <td>EL OASIS DE BELISSAMA ATLAUA pASeABA Con BeLis...</td>\n",
       "      <td>Cuentos</td>\n",
       "    </tr>\n",
       "    <tr>\n",
       "      <th>...</th>\n",
       "      <td>...</td>\n",
       "      <td>...</td>\n",
       "    </tr>\n",
       "    <tr>\n",
       "      <th>3843</th>\n",
       "      <td>la justicia es la base de la democracia y el e...</td>\n",
       "      <td>Tweets</td>\n",
       "    </tr>\n",
       "    <tr>\n",
       "      <th>3844</th>\n",
       "      <td>la violencia y la delincuencia son una amenaza...</td>\n",
       "      <td>Tweets</td>\n",
       "    </tr>\n",
       "    <tr>\n",
       "      <th>3845</th>\n",
       "      <td>la educación es la base d. es importante que s...</td>\n",
       "      <td>Tweets</td>\n",
       "    </tr>\n",
       "    <tr>\n",
       "      <th>3846</th>\n",
       "      <td>la economía es un factor clave para el bienest...</td>\n",
       "      <td>Tweets</td>\n",
       "    </tr>\n",
       "    <tr>\n",
       "      <th>3847</th>\n",
       "      <td>la paz es un anhelo de todos los colombianos. ...</td>\n",
       "      <td>Tweets</td>\n",
       "    </tr>\n",
       "  </tbody>\n",
       "</table>\n",
       "<p>3848 rows × 2 columns</p>\n",
       "</div>"
      ],
      "text/plain": [
       "                                                   post     tags\n",
       "0     El rey de los animales Se reunieron los animal...  Cuentos\n",
       "1     Domingo 7 Había una vez dos compadres jorobado...  Cuentos\n",
       "2     Francisco El Hombre En los albores del siglo X...  Cuentos\n",
       "3     Aminta Peláez- La leyenda de Wareke Hace muchí...  Cuentos\n",
       "4     EL OASIS DE BELISSAMA ATLAUA pASeABA Con BeLis...  Cuentos\n",
       "...                                                 ...      ...\n",
       "3843  la justicia es la base de la democracia y el e...   Tweets\n",
       "3844  la violencia y la delincuencia son una amenaza...   Tweets\n",
       "3845  la educación es la base d. es importante que s...   Tweets\n",
       "3846  la economía es un factor clave para el bienest...   Tweets\n",
       "3847  la paz es un anhelo de todos los colombianos. ...   Tweets\n",
       "\n",
       "[3848 rows x 2 columns]"
      ]
     },
     "execution_count": 3,
     "metadata": {},
     "output_type": "execute_result"
    }
   ],
   "source": [
    "df"
   ]
  },
  {
   "cell_type": "code",
   "execution_count": 4,
   "metadata": {},
   "outputs": [
    {
     "data": {
      "text/plain": [
       "544868"
      ]
     },
     "execution_count": 4,
     "metadata": {},
     "output_type": "execute_result"
    }
   ],
   "source": [
    "df['post'].apply(lambda x: len(x.split(' '))).sum()"
   ]
  },
  {
   "cell_type": "markdown",
   "metadata": {},
   "source": [
    "We have over 10 million words in the data."
   ]
  },
  {
   "cell_type": "code",
   "execution_count": 5,
   "metadata": {},
   "outputs": [
    {
     "data": {
      "image/png": "[encoded data removed]",
      "text/plain": [
       "<Figure size 1000x400 with 1 Axes>"
      ]
     },
     "metadata": {},
     "output_type": "display_data"
    }
   ],
   "source": [
    "my_tags = ['Tweets','Noticias','Poemas','Fabulas','Ensayos','Cuentos']\n",
    "plt.figure(figsize=(10,4))\n",
    "df.tags.value_counts().plot(kind='bar');"
   ]
  },
  {
   "cell_type": "markdown",
   "metadata": {},
   "source": [
    "The classes are very well balanced."
   ]
  },
  {
   "cell_type": "code",
   "execution_count": 6,
   "metadata": {},
   "outputs": [],
   "source": [
    "def print_plot(index):\n",
    "    example = df[df.index == index][['post', 'tags']].values[0]\n",
    "    if len(example) > 0:\n",
    "        print(example[0])\n",
    "        print('Tag:', example[1])"
   ]
  },
  {
   "cell_type": "markdown",
   "metadata": {},
   "source": [
    "Have a look a few post and tag pairs."
   ]
  },
  {
   "cell_type": "code",
   "execution_count": 7,
   "metadata": {},
   "outputs": [
    {
     "name": "stdout",
     "output_type": "stream",
     "text": [
      "UN INSTANTE DE CLARIDAD LA SomBRA deL desempLeo empezó A enTRisTeceR Los díAS de Beleño cuando el candidato de la oposición comenzó a repuntar en las encuestas. Tras ocho años al frente de la empresa de servi- cios públicos Emdesa, sus temores se materializaron el día de las elecciones: a partir del primero de enero ya no estaría en su cargo. Beleño entregó su despacho con la satisfacción del deber cumplido, pero con la preocupación de que los proyectos puestos en marcha a lo largo de esos años fueran llevados al fracaso por un advenedi- zo que no conocía el tema. Eternamente inconforme, juntó el di- nero de las cesantías y los ahorros de aquellos años para montar un negocio, pero su ocupación principal desde ese día fue dirigir la oposición al nuevo Gobierno municipal y hacerle la vida impo- sible a su reemplazo en Emdesa. Con la experiencia de sus ocho años de gerencia, Beleño delegaba la administración del negocio a su mujer, mientras rondaba por las instalaciones del acueducto, vigilaba las rutas del camión re- colector de basuras y vigilaba los taponamientos de las redes de alcantarillado, en una marcha frenética que hacía recordar sus mejores momentos en la empresa, cuando él personalmente se armaba de segueta y pegante para solucionar fugas y no le impor- taba quedar impregnado de olores nauseabundos para enmendar un taponamiento. Durante el primer semestre del nuevo Gobierno denunció los retra- sos en el mejoramiento de la presión del fiujo de agua en los barrios más altos, y logró que apareciera un enorme lote de tubería que había desaparecido misteriosamente. Asimismo, impidió que se efectuara una transacción millonaria para la compra de un nuevo camión recolector, demostrando que el existente solo necesitaba unos cuantos retoques de latonería y pintura. Con su natural ca- pacidad de liderazgo, convocaba a los habitantes de las nuevas in- vasiones, acompañándolos hasta su antigua oficina para solicitar la conexión inmediata del acueducto y del alcantarillado. Ajeno a las encrucijadas del presupuesto familiar, Beleño dormía tranquilo, porque el presupuesto de Emdesa nunca había rendido tanto como ahora, cuando se había autoproclamado fiscal contra el despilfarro. Vientos de tranquilidad circulaban desde la empresa de servicios públicos, estacionando el tedio como una fina capa de polvo sobre los días de Beleño, cuando un sorpresivo rumor llegó hasta sus oí- dos alterando los ritmos pausados de su sangre: el acueducto se- ría entregado en concesión a una entidad de orden departamental, que ya administraba los acueductos de varios municipios, y que traería como consecuencia un aumento en el valor del consumo y la inminente privatización de los demás servicios. Preocupado por las últimas noticias, Beleño puso en marcha su po- der de convocatoria, reunió a los líderes de los barrios y las veredas, y conformó un frente de trabajo que apelaría a una acción popular en contra de la concesión del acueducto, y vislumbrando posibles alianzas para su candidatura a la Alcaldía en las próximas eleccio- nes. Sin embargo, el acueducto funcionaba con total regularidad. Una repentina campaña de salubridad, liderada por la inspección de sanidad, pero con recursos de Emdesa, eclipsó los rumores sobre el acueducto, y Beleño pensó que sería su oportunidad de demostrar malos manejos en la empresa. La campaña buscaba contrarrestar una supuesta infestación de roedores, pero que se- gún la opinión popular era innecesaria, porque en cada vivienda se combatían esas plagas con los remedios de siempre. Beleño pensó que el gerente de la empresa solo buscaba sacar provecho propio de la nueva campaña. Beleño inició sus investigaciones, comprobando que Emdesa ya había acordado la compra de una cantidad desproporcionada de veneno, para ser repartido en el municipio. Tan pronto como reci- bió los sobres con los gránulos rosados delegó en algunos simpa- tizantes la captura de unos cuantos ratones para experimentar el veneno. Se armó de pequeñas pinzas y guantes quirúrgicos para obligarlos a tragarlo. Repitió el experimento varias noches, pero al otro día los ratones amanecían más rozagantes, rondando la jaula en busca de comida. Al culminar la primera fase de su investigación, Beleño decidió via- jar a la capital departamental, donde hizo analizar la sustancia dis- tribuida como un veneno mortal para toda clase de roedores, que incluso advertía en la etiqueta que su grado de toxicidad podía ser peligroso para el ser humano. Los resultados de las pruebas fue- ron contundentes. El especialista explicó con gráficos y nombres extraños la composición química de los pequeños gránulos, cuya traducción inmediata al más cotidiano español resultó ser que no contenían más que harina y azúcar, que no pondría en peligro la vida del más insignificante insecto y que incluso podría servir para endulzar el café. Beleño regresó al pueblo decidido a desenmascarar el fraude, con- vocando a los líderes para una manifestación en la plaza principal. La gente acudió a la hora señalada, confirmando su gran poder de convocatoria; ya soñaba con inminentes discursos políticos en ese mismo escenario. Minutos antes de iniciar su intervención Beleño sintió temor, porque no había solicitado un permiso para la mani- festación en la plaza pública, pero ninguna autoridad se presentó para impedirla. Ante la mirada incrédula del gentío, expuso el ex- perimento con los ratones y explicó en detalle los resultados de las pruebas de laboratorio. Las diatribas de la muchedumbre infiama- ron su orgullo, y en un arrebato de temeridad, recordando las pala- bras del tipo del laboratorio, declaró que él mismo estaba dispuesto a ingerir el veneno para que no quedaran dudas de su ineficacia. Un desconocido salió de la multitud, abriéndose paso hasta la ta- rima con un sobre del veneno. Beleño se lo arrebató con la mano temblorosa y ante el fragor de la muchedumbre tragó los gránulos de forma ceremoniosa. De inmediato empezó el sudor inconteni- ble, los espasmos, y con las manos fuertemente apretadas contra el pecho, Beleño se desplomó ante la mirada incrédula de la multitud que desbordaba la plaza. Trataba de reconocer las figuras borrosas que acudían a socorrerlo y en la ineludible claridad del último ins- tante, comprendió hasta los más sutiles detalles de la infame, in- genua y previsible conspiración que sus opositores habían puesto en marcha para matarlo.    \n",
      "Tag: Cuentos\n"
     ]
    }
   ],
   "source": [
    "print_plot(10)"
   ]
  },
  {
   "cell_type": "code",
   "execution_count": 8,
   "metadata": {},
   "outputs": [
    {
     "name": "stdout",
     "output_type": "stream",
     "text": [
      "JAIRO NO SIRVIÓ COMO ABONO PARA YUCAS AQUeL ATAJo eRA peLiGRoso, peRo Lo más impoRTAnTe eRA llegar a tiempo. Brayan no quería perder a su hermana y Jairo no quería enviudar. Llevaban los implementos para la cesárea de María, luego de haber trotado para buscarlos al pueblo vecino. Estaban exhaustos, pero ya casi podían oler los árboles en la cima de la última loma que tenían que subir. —Deberían ponerle mi nombre al pelao —dijo Brayan respirando entrecortado y tratando de animar a su amigo—, tal vez se le pegue algo de lo mío —Eso depende de si tu hermana quiere un hijo bobo —contestó Jairo tratando de sonar alegre. —Si ese pelao sale amable —dijo Brayan—, ya sabemos que no es tuyo. Sonrieron. Hablaban para no pensar en lo que podía salir mal y eso solo les servía para quedarse sin aire. Jairo se detuvo. —Creo, creo que estoy pisando una mina. Brayan dejó de andar y miró la cara de su cuñado. —¿Bromeas? Jairo negó con suavidad. Señaló la cuerda que había quedado entre la lengüeta del zapato y la canilla. La cuerda estaba atada a dos arbustos y luego iba al suelo. —Aunque podría ser solo una pita atascada —dijo Jairo queriendo creerlo—, se supone que hace años quitaron todas las minas de por acá. —Se supone —recalcó Brayan. —Ojalá la mina la haya puesto el Gobierno —dijo Jairo—, para que sea como el jodido hospital y tampoco funcione. Ninguno sonrió. Quedaron en silencio por un rato. Jairo tenía la boca reseca. Solo pensaba en que cuanto más tardara en empezar la cesárea más probable era que muriera alguien en ella. —Llévale el botiquín a María. —No te puedo dejar solo —respondió Brayan. —No la podemos dejar sola a ella —dijo Jairo—. Ve a casa que a mí no me sirves de nada. —Si veo a alguien que te pueda ayudar, le diré que venga. Brayan quiso agregar que lo quería mucho, pero sabía que se le quebraría la voz. Echó a correr. Jairo también lo quería, nunca lo decía. —¡Ve con cuidado, idiota! —gritó Jairo—. ¡Si tú pisas una, te mato! Jairo seguía agitado y el calor no ayudaba. Se secó la frente con el antebrazo fornido de tanto sacar yuca. No le gustaba la yuca y desde niño había tenido que arrancarla. Su papá nunca estuvo y alguien tenía que ayudar a su mamá con tanto trabajo. Jairo juró que su esposa no pasaría por lo mismo, que su hijo tendría un papá. Consideró perder una pierna para acompañar a María en el parto. Descartó la idea. La mina podía tener metralla, y muerto solo serviría de abono para las yucas. Jairo creyó escuchar un estallido. Miró enseguida hacia abajo, sospechando que la mina había explotado. Sonrió y se dijo que tenía que calmarse. Se le agrandó la sonrisa al oír un ruido de voces y pasos, y pensar que la ayuda ya estaba llegando. Les gritó a las voces y sacudió una mano para llamarlas. Siguió gritando, y decenas de hombres armados salieron de entre los árboles hacia él. Solo entonces se preguntó si no habrían sido ellos los que habían puesto la mina. Consideró huir. Pensó que, tal vez, si se movía lo suficientemente rápido, lograría quitar la pierna y apartarse antes de que la explosión lo alcanzara. Se golpeó la frente y se dijo que dejara de pensar estupideces. Decidió salvarse hablando. Pediría amablemente ayuda, aunque no le gustara pedir favores ni supiera ser amable. —¿Qué está haciendo allí parado? —le gritó el sargento cuando se hubo acercado. —Se me enredó el pie en una mina. —Jairo alzó las manos. El sargento retrocedió y le indicó a los otros que hicieran lo mismo. —Entonces, jefe —dijo el subsargento y señaló a Jairo con los labios—, ¿ya tenemos la baja confirmada que nos faltaba? —Y les seguirá faltando, porque yo no soy guerrillero —se apresuró a decir Jairo. —¿Cómo sabemos que no fuiste tú el que estaba instalando la mina? —preguntó el subsargento sin creer lo que él mismo insinuaba. —¿La instalé con el culo tuyo o qué? ¿Ves alguna mierda para instalar minas? El subsargento miró con furia al par de soldados que no lograron suprimir la risa. El sargento, por otra parte, no reparaba en ello. Todo se había vuelto confuso desde que habían ofrecido vacaciones y aumentos a cambio de bajas en combate. Deseaba que sus hombres estuvieran bien, sabía que ellos necesitaban volver a casa luego de meses de ver morir a amigos y de no comer más que micos y serpientes, pero no se sentía del todo cómodo con eso de disfrazar civiles. Jairo vio el rostro reflexivo del sargento y creyó tener una oportunidad. —Hombre, solo quiero ir a casa —hablaba con tanta amabilidad como podía—, hoy nace mi hijo. El cielo se arrebolaba y coloreaba los verdes del campo. Hubo un silencio largo. —Mis hombres también tienen hijos. —Cabo, vaya sacando las botas y el camuflaje —dijo el subsargento—, yo le disparo. —¿Y si le disparamos y no explota la mina? —El sargento miraba el cielo naranja—. Nos podría explotar cuando estemos quitando el cuerpo. Jairo exhaló con fuerza. «Bueno, que se jodan», pensó. Decidió quedarse de pie, esperando el tiro o a que alguno de los malditos se acercara. Solo entonces haría estallar la mina. Jairo cerró los ojos. María tendría que mantener y criar ella sola al niño. Justo lo que le había jurado que no pasaría. Sentía afluirlas lágrimas, pero no les daría el gusto a esos malditos de verlo llorar. «Al menos», se dijo, «Brayan estará allí para ayudarla». Jairo se es- tremeció. Si Brayan regresaba con la ayuda, no serían más que bajas adicionales. Jairo no podía seguir demorando a los militares. Así que, sin pensarlo, pateó la cuerda para darles a los malnacidos el cadáver que buscaban. Cuando la tierra dejó de caer, le pusieron la ropa de combatiente a lo que quedaba de Jairo, y pusieron su cadáver cerca del cuerpo uniformado de Brayan. \n",
      "Tag: Cuentos\n"
     ]
    }
   ],
   "source": [
    "print_plot(30)"
   ]
  },
  {
   "cell_type": "markdown",
   "metadata": {},
   "source": [
    "The text need to be cleaned up."
   ]
  },
  {
   "cell_type": "code",
   "execution_count": 9,
   "metadata": {},
   "outputs": [],
   "source": [
    "REPLACE_BY_SPACE_RE = re.compile('[/(){}\\[\\]\\|@,;]')\n",
    "BAD_SYMBOLS_RE = re.compile('[^0-9a-z #+_]')\n",
    "STOPWORDS = set(stopwords.words('spanish'))\n",
    "\n",
    "def clean_text(text):\n",
    "    \"\"\"\n",
    "        text: a string\n",
    "        \n",
    "        return: modified initial string\n",
    "    \"\"\"\n",
    "\n",
    "    text = text.lower() # lowercase text\n",
    "    text = REPLACE_BY_SPACE_RE.sub(' ', text) # replace REPLACE_BY_SPACE_RE symbols by space in text\n",
    "    text = BAD_SYMBOLS_RE.sub('', text) # delete symbols which are in BAD_SYMBOLS_RE from text\n",
    "    text = ' '.join(word for word in text.split() if word not in STOPWORDS) # delete stopwors from text\n",
    "    return text"
   ]
  },
  {
   "cell_type": "code",
   "execution_count": 10,
   "metadata": {},
   "outputs": [],
   "source": [
    "df['post'] = df['post'].apply(clean_text)"
   ]
  },
  {
   "cell_type": "code",
   "execution_count": 11,
   "metadata": {},
   "outputs": [
    {
     "name": "stdout",
     "output_type": "stream",
     "text": [
      "instante claridad sombra desempleo empez entristecer das beleo candidato oposicin comenz repuntar encuestas tras ocho aos frente empresa servi cios pblicos emdesa temores materializaron da elecciones partir primero enero estara cargo beleo entreg despacho satisfaccin deber cumplido preocupacin proyectos puestos marcha largo aos llevados fracaso advenedi zo conoca tema eternamente inconforme junt di nero cesantas ahorros aquellos aos montar negocio ocupacin principal da dirigir oposicin nuevo gobierno municipal hacerle vida impo sible reemplazo emdesa experiencia ocho aos gerencia beleo delegaba administracin negocio mujer mientras rondaba instalaciones acueducto vigilaba rutas camin re colector basuras vigilaba taponamientos redes alcantarillado marcha frentica haca recordar mejores momentos empresa l personalmente armaba segueta pegante solucionar fugas impor taba quedar impregnado olores nauseabundos enmendar taponamiento primer semestre nuevo gobierno denunci retra sos mejoramiento presin fiujo agua barrios ms altos logr apareciera enorme lote tubera haba desaparecido misteriosamente asimismo impidi efectuara transaccin millonaria compra nuevo camin recolector demostrando existente solo necesitaba cuantos retoques latonera pintura natural ca pacidad liderazgo convocaba habitantes nuevas in vasiones acompandolos antigua oficina solicitar conexin inmediata acueducto alcantarillado ajeno encrucijadas presupuesto familiar beleo dorma tranquilo presupuesto emdesa nunca haba rendido ahora haba autoproclamado fiscal despilfarro vientos tranquilidad circulaban empresa servicios pblicos estacionando tedio fina capa polvo das beleo sorpresivo rumor lleg dos alterando ritmos pausados sangre acueducto ra entregado concesin entidad orden departamental administraba acueductos varios municipios traera consecuencia aumento valor consumo inminente privatizacin dems servicios preocupado ltimas noticias beleo puso marcha po der convocatoria reuni lderes barrios veredas conform frente trabajo apelara accin popular concesin acueducto vislumbrando posibles alianzas candidatura alcalda prximas eleccio nes embargo acueducto funcionaba total regularidad repentina campaa salubridad liderada inspeccin sanidad recursos emdesa eclips rumores acueducto beleo pens sera oportunidad demostrar malos manejos empresa campaa buscaba contrarrestar supuesta infestacin roedores gn opinin popular innecesaria cada vivienda combatan plagas remedios siempre beleo pens gerente empresa solo buscaba sacar provecho propio nueva campaa beleo inici investigaciones comprobando emdesa haba acordado compra cantidad desproporcionada veneno ser repartido municipio tan pronto reci bi sobres grnulos rosados deleg simpa tizantes captura cuantos ratones experimentar veneno arm pequeas pinzas guantes quirrgicos obligarlos tragarlo repiti experimento varias noches da ratones amanecan ms rozagantes rondando jaula busca comida culminar primera fase investigacin beleo decidi via jar capital departamental hizo analizar sustancia dis tribuida veneno mortal toda clase roedores incluso adverta etiqueta grado toxicidad poda ser peligroso ser humano resultados pruebas ron contundentes especialista explic grficos nombres extraos composicin qumica pequeos grnulos cuya traduccin inmediata ms cotidiano espaol result ser contenan ms harina azcar pondra peligro vida ms insignificante insecto incluso podra servir endulzar caf beleo regres pueblo decidido desenmascarar fraude vocando lderes manifestacin plaza principal gente acudi hora sealada confirmando gran poder convocatoria soaba inminentes discursos polticos mismo escenario minutos iniciar intervencin beleo sinti temor haba solicitado permiso mani festacin plaza pblica ninguna autoridad present impedirla mirada incrdula gento expuso ex perimento ratones explic detalle resultados pruebas laboratorio diatribas muchedumbre infiama ron orgullo arrebato temeridad recordando pala bras tipo laboratorio declar l mismo dispuesto ingerir veneno quedaran dudas ineficacia desconocido sali multitud abrindose paso ta rima veneno beleo arrebat mano temblorosa fragor muchedumbre trag grnulos forma ceremoniosa inmediato empez sudor inconteni ble espasmos manos fuertemente apretadas pecho beleo desplom mirada incrdula multitud desbordaba plaza trataba reconocer figuras borrosas acudan socorrerlo ineludible claridad ltimo ins tante comprendi ms sutiles detalles infame in genua previsible conspiracin opositores haban puesto marcha matarlo\n",
      "Tag: Cuentos\n"
     ]
    }
   ],
   "source": [
    "print_plot(10)"
   ]
  },
  {
   "cell_type": "markdown",
   "metadata": {},
   "source": [
    "Way better!"
   ]
  },
  {
   "cell_type": "code",
   "execution_count": 12,
   "metadata": {
    "scrolled": true
   },
   "outputs": [
    {
     "data": {
      "text/plain": [
       "292275"
      ]
     },
     "execution_count": 12,
     "metadata": {},
     "output_type": "execute_result"
    }
   ],
   "source": [
    "df['post'].apply(lambda x: len(x.split(' '))).sum()"
   ]
  },
  {
   "cell_type": "markdown",
   "metadata": {},
   "source": [
    "Now we have over 3 million words to work with."
   ]
  },
  {
   "cell_type": "code",
   "execution_count": 13,
   "metadata": {},
   "outputs": [],
   "source": [
    "X = df.post\n",
    "y = df.tags\n",
    "X_train, X_test, y_train, y_test = train_test_split(X, y, test_size=0.3, random_state = 0)"
   ]
  },
  {
   "cell_type": "markdown",
   "metadata": {},
   "source": [
    "The next steps includes feature engineering. We will convert our text documents to a matrix of token counts (CountVectorizer), then transform a count matrix to a normalized tf-idf representation (tf-idf transformer). After that, we train several classifiers. \n",
    "\n",
    "### Naive Bayes classifier for multinomial models"
   ]
  },
  {
   "cell_type": "code",
   "execution_count": 14,
   "metadata": {},
   "outputs": [
    {
     "data": {
      "text/html": [
       "<style>#sk-container-id-1 {color: black;}#sk-container-id-1 pre{padding: 0;}#sk-container-id-1 div.sk-toggleable {background-color: white;}#sk-container-id-1 label.sk-toggleable__label {cursor: pointer;display: block;width: 100%;margin-bottom: 0;padding: 0.3em;box-sizing: border-box;text-align: center;}#sk-container-id-1 label.sk-toggleable__label-arrow:before {content: \"▸\";float: left;margin-right: 0.25em;color: #696969;}#sk-container-id-1 label.sk-toggleable__label-arrow:hover:before {color: black;}#sk-container-id-1 div.sk-estimator:hover label.sk-toggleable__label-arrow:before {color: black;}#sk-container-id-1 div.sk-toggleable__content {max-height: 0;max-width: 0;overflow: hidden;text-align: left;background-color: #f0f8ff;}#sk-container-id-1 div.sk-toggleable__content pre {margin: 0.2em;color: black;border-radius: 0.25em;background-color: #f0f8ff;}#sk-container-id-1 input.sk-toggleable__control:checked~div.sk-toggleable__content {max-height: 200px;max-width: 100%;overflow: auto;}#sk-container-id-1 input.sk-toggleable__control:checked~label.sk-toggleable__label-arrow:before {content: \"▾\";}#sk-container-id-1 div.sk-estimator input.sk-toggleable__control:checked~label.sk-toggleable__label {background-color: #d4ebff;}#sk-container-id-1 div.sk-label input.sk-toggleable__control:checked~label.sk-toggleable__label {background-color: #d4ebff;}#sk-container-id-1 input.sk-hidden--visually {border: 0;clip: rect(1px 1px 1px 1px);clip: rect(1px, 1px, 1px, 1px);height: 1px;margin: -1px;overflow: hidden;padding: 0;position: absolute;width: 1px;}#sk-container-id-1 div.sk-estimator {font-family: monospace;background-color: #f0f8ff;border: 1px dotted black;border-radius: 0.25em;box-sizing: border-box;margin-bottom: 0.5em;}#sk-container-id-1 div.sk-estimator:hover {background-color: #d4ebff;}#sk-container-id-1 div.sk-parallel-item::after {content: \"\";width: 100%;border-bottom: 1px solid gray;flex-grow: 1;}#sk-container-id-1 div.sk-label:hover label.sk-toggleable__label {background-color: #d4ebff;}#sk-container-id-1 div.sk-serial::before {content: \"\";position: absolute;border-left: 1px solid gray;box-sizing: border-box;top: 0;bottom: 0;left: 50%;z-index: 0;}#sk-container-id-1 div.sk-serial {display: flex;flex-direction: column;align-items: center;background-color: white;padding-right: 0.2em;padding-left: 0.2em;position: relative;}#sk-container-id-1 div.sk-item {position: relative;z-index: 1;}#sk-container-id-1 div.sk-parallel {display: flex;align-items: stretch;justify-content: center;background-color: white;position: relative;}#sk-container-id-1 div.sk-item::before, #sk-container-id-1 div.sk-parallel-item::before {content: \"\";position: absolute;border-left: 1px solid gray;box-sizing: border-box;top: 0;bottom: 0;left: 50%;z-index: -1;}#sk-container-id-1 div.sk-parallel-item {display: flex;flex-direction: column;z-index: 1;position: relative;background-color: white;}#sk-container-id-1 div.sk-parallel-item:first-child::after {align-self: flex-end;width: 50%;}#sk-container-id-1 div.sk-parallel-item:last-child::after {align-self: flex-start;width: 50%;}#sk-container-id-1 div.sk-parallel-item:only-child::after {width: 0;}#sk-container-id-1 div.sk-dashed-wrapped {border: 1px dashed gray;margin: 0 0.4em 0.5em 0.4em;box-sizing: border-box;padding-bottom: 0.4em;background-color: white;}#sk-container-id-1 div.sk-label label {font-family: monospace;font-weight: bold;display: inline-block;line-height: 1.2em;}#sk-container-id-1 div.sk-label-container {text-align: center;}#sk-container-id-1 div.sk-container {/* jupyter's `normalize.less` sets `[hidden] { display: none; }` but bootstrap.min.css set `[hidden] { display: none !important; }` so we also need the `!important` here to be able to override the default hidden behavior on the sphinx rendered scikit-learn.org. See: https://github.com/scikit-learn/scikit-learn/issues/21755 */display: inline-block !important;position: relative;}#sk-container-id-1 div.sk-text-repr-fallback {display: none;}</style><div id=\"sk-container-id-1\" class=\"sk-top-container\"><div class=\"sk-text-repr-fallback\"><pre>Pipeline(steps=[(&#x27;vect&#x27;, CountVectorizer()), (&#x27;tfidf&#x27;, TfidfTransformer()),\n",
       "                (&#x27;clf&#x27;, MultinomialNB())])</pre><b>In a Jupyter environment, please rerun this cell to show the HTML representation or trust the notebook. <br />On GitHub, the HTML representation is unable to render, please try loading this page with nbviewer.org.</b></div><div class=\"sk-container\" hidden><div class=\"sk-item sk-dashed-wrapped\"><div class=\"sk-label-container\"><div class=\"sk-label sk-toggleable\"><input class=\"sk-toggleable__control sk-hidden--visually\" id=\"sk-estimator-id-1\" type=\"checkbox\" ><label for=\"sk-estimator-id-1\" class=\"sk-toggleable__label sk-toggleable__label-arrow\">Pipeline</label><div class=\"sk-toggleable__content\"><pre>Pipeline(steps=[(&#x27;vect&#x27;, CountVectorizer()), (&#x27;tfidf&#x27;, TfidfTransformer()),\n",
       "                (&#x27;clf&#x27;, MultinomialNB())])</pre></div></div></div><div class=\"sk-serial\"><div class=\"sk-item\"><div class=\"sk-estimator sk-toggleable\"><input class=\"sk-toggleable__control sk-hidden--visually\" id=\"sk-estimator-id-2\" type=\"checkbox\" ><label for=\"sk-estimator-id-2\" class=\"sk-toggleable__label sk-toggleable__label-arrow\">CountVectorizer</label><div class=\"sk-toggleable__content\"><pre>CountVectorizer()</pre></div></div></div><div class=\"sk-item\"><div class=\"sk-estimator sk-toggleable\"><input class=\"sk-toggleable__control sk-hidden--visually\" id=\"sk-estimator-id-3\" type=\"checkbox\" ><label for=\"sk-estimator-id-3\" class=\"sk-toggleable__label sk-toggleable__label-arrow\">TfidfTransformer</label><div class=\"sk-toggleable__content\"><pre>TfidfTransformer()</pre></div></div></div><div class=\"sk-item\"><div class=\"sk-estimator sk-toggleable\"><input class=\"sk-toggleable__control sk-hidden--visually\" id=\"sk-estimator-id-4\" type=\"checkbox\" ><label for=\"sk-estimator-id-4\" class=\"sk-toggleable__label sk-toggleable__label-arrow\">MultinomialNB</label><div class=\"sk-toggleable__content\"><pre>MultinomialNB()</pre></div></div></div></div></div></div></div>"
      ],
      "text/plain": [
       "Pipeline(steps=[('vect', CountVectorizer()), ('tfidf', TfidfTransformer()),\n",
       "                ('clf', MultinomialNB())])"
      ]
     },
     "execution_count": 14,
     "metadata": {},
     "output_type": "execute_result"
    }
   ],
   "source": [
    "from sklearn.naive_bayes import MultinomialNB\n",
    "from sklearn.pipeline import Pipeline\n",
    "from sklearn.feature_extraction.text import TfidfTransformer\n",
    "\n",
    "nb = Pipeline([('vect', CountVectorizer()),\n",
    "               ('tfidf', TfidfTransformer()),\n",
    "               ('clf', MultinomialNB()),\n",
    "              ])\n",
    "nb.fit(X_train, y_train)"
   ]
  },
  {
   "cell_type": "code",
   "execution_count": 15,
   "metadata": {},
   "outputs": [
    {
     "data": {
      "text/plain": [
       "406     Noticias\n",
       "3532      Tweets\n",
       "652       Tweets\n",
       "3233      Tweets\n",
       "2316    Noticias\n",
       "          ...   \n",
       "835       Tweets\n",
       "3264      Tweets\n",
       "1653      Tweets\n",
       "2607      Tweets\n",
       "2732      Tweets\n",
       "Name: tags, Length: 2693, dtype: object"
      ]
     },
     "execution_count": 15,
     "metadata": {},
     "output_type": "execute_result"
    }
   ],
   "source": [
    "y_train"
   ]
  },
  {
   "cell_type": "code",
   "execution_count": 16,
   "metadata": {},
   "outputs": [
    {
     "data": {
      "text/plain": [
       "['Tweets', 'Noticias', 'Poemas', 'Fabulas', 'Ensayos', 'Cuentos']"
      ]
     },
     "execution_count": 16,
     "metadata": {},
     "output_type": "execute_result"
    }
   ],
   "source": [
    "my_tags"
   ]
  },
  {
   "cell_type": "code",
   "execution_count": 17,
   "metadata": {},
   "outputs": [
    {
     "name": "stdout",
     "output_type": "stream",
     "text": [
      "accuracy 0.8\n",
      "              precision    recall  f1-score   support\n",
      "\n",
      "      Tweets       0.00      0.00      0.00        38\n",
      "    Noticias       1.00      0.91      0.95        33\n",
      "      Poemas       0.00      0.00      0.00        56\n",
      "     Fabulas       0.99      0.56      0.72       137\n",
      "     Ensayos       1.00      0.06      0.12        79\n",
      "     Cuentos       0.78      1.00      0.88       812\n",
      "\n",
      "    accuracy                           0.80      1155\n",
      "   macro avg       0.63      0.42      0.44      1155\n",
      "weighted avg       0.76      0.80      0.74      1155\n",
      "\n",
      "CPU times: user 116 ms, sys: 0 ns, total: 116 ms\n",
      "Wall time: 119 ms\n"
     ]
    },
    {
     "name": "stderr",
     "output_type": "stream",
     "text": [
      "/home/sergio/anaconda3/envs/datasc/lib/python3.8/site-packages/sklearn/metrics/_classification.py:1471: UndefinedMetricWarning: Precision and F-score are ill-defined and being set to 0.0 in labels with no predicted samples. Use `zero_division` parameter to control this behavior.\n",
      "  _warn_prf(average, modifier, msg_start, len(result))\n",
      "/home/sergio/anaconda3/envs/datasc/lib/python3.8/site-packages/sklearn/metrics/_classification.py:1471: UndefinedMetricWarning: Precision and F-score are ill-defined and being set to 0.0 in labels with no predicted samples. Use `zero_division` parameter to control this behavior.\n",
      "  _warn_prf(average, modifier, msg_start, len(result))\n",
      "/home/sergio/anaconda3/envs/datasc/lib/python3.8/site-packages/sklearn/metrics/_classification.py:1471: UndefinedMetricWarning: Precision and F-score are ill-defined and being set to 0.0 in labels with no predicted samples. Use `zero_division` parameter to control this behavior.\n",
      "  _warn_prf(average, modifier, msg_start, len(result))\n"
     ]
    }
   ],
   "source": [
    "%%time\n",
    "from sklearn.metrics import classification_report\n",
    "y_pred = nb.predict(X_test)\n",
    "\n",
    "print('accuracy %s' % accuracy_score(y_pred, y_test))\n",
    "print(classification_report(y_test, y_pred,target_names=my_tags))"
   ]
  },
  {
   "cell_type": "markdown",
   "metadata": {},
   "source": [
    "### Linear support vector machine"
   ]
  },
  {
   "cell_type": "code",
   "execution_count": 18,
   "metadata": {},
   "outputs": [
    {
     "data": {
      "text/html": [
       "<style>#sk-container-id-2 {color: black;}#sk-container-id-2 pre{padding: 0;}#sk-container-id-2 div.sk-toggleable {background-color: white;}#sk-container-id-2 label.sk-toggleable__label {cursor: pointer;display: block;width: 100%;margin-bottom: 0;padding: 0.3em;box-sizing: border-box;text-align: center;}#sk-container-id-2 label.sk-toggleable__label-arrow:before {content: \"▸\";float: left;margin-right: 0.25em;color: #696969;}#sk-container-id-2 label.sk-toggleable__label-arrow:hover:before {color: black;}#sk-container-id-2 div.sk-estimator:hover label.sk-toggleable__label-arrow:before {color: black;}#sk-container-id-2 div.sk-toggleable__content {max-height: 0;max-width: 0;overflow: hidden;text-align: left;background-color: #f0f8ff;}#sk-container-id-2 div.sk-toggleable__content pre {margin: 0.2em;color: black;border-radius: 0.25em;background-color: #f0f8ff;}#sk-container-id-2 input.sk-toggleable__control:checked~div.sk-toggleable__content {max-height: 200px;max-width: 100%;overflow: auto;}#sk-container-id-2 input.sk-toggleable__control:checked~label.sk-toggleable__label-arrow:before {content: \"▾\";}#sk-container-id-2 div.sk-estimator input.sk-toggleable__control:checked~label.sk-toggleable__label {background-color: #d4ebff;}#sk-container-id-2 div.sk-label input.sk-toggleable__control:checked~label.sk-toggleable__label {background-color: #d4ebff;}#sk-container-id-2 input.sk-hidden--visually {border: 0;clip: rect(1px 1px 1px 1px);clip: rect(1px, 1px, 1px, 1px);height: 1px;margin: -1px;overflow: hidden;padding: 0;position: absolute;width: 1px;}#sk-container-id-2 div.sk-estimator {font-family: monospace;background-color: #f0f8ff;border: 1px dotted black;border-radius: 0.25em;box-sizing: border-box;margin-bottom: 0.5em;}#sk-container-id-2 div.sk-estimator:hover {background-color: #d4ebff;}#sk-container-id-2 div.sk-parallel-item::after {content: \"\";width: 100%;border-bottom: 1px solid gray;flex-grow: 1;}#sk-container-id-2 div.sk-label:hover label.sk-toggleable__label {background-color: #d4ebff;}#sk-container-id-2 div.sk-serial::before {content: \"\";position: absolute;border-left: 1px solid gray;box-sizing: border-box;top: 0;bottom: 0;left: 50%;z-index: 0;}#sk-container-id-2 div.sk-serial {display: flex;flex-direction: column;align-items: center;background-color: white;padding-right: 0.2em;padding-left: 0.2em;position: relative;}#sk-container-id-2 div.sk-item {position: relative;z-index: 1;}#sk-container-id-2 div.sk-parallel {display: flex;align-items: stretch;justify-content: center;background-color: white;position: relative;}#sk-container-id-2 div.sk-item::before, #sk-container-id-2 div.sk-parallel-item::before {content: \"\";position: absolute;border-left: 1px solid gray;box-sizing: border-box;top: 0;bottom: 0;left: 50%;z-index: -1;}#sk-container-id-2 div.sk-parallel-item {display: flex;flex-direction: column;z-index: 1;position: relative;background-color: white;}#sk-container-id-2 div.sk-parallel-item:first-child::after {align-self: flex-end;width: 50%;}#sk-container-id-2 div.sk-parallel-item:last-child::after {align-self: flex-start;width: 50%;}#sk-container-id-2 div.sk-parallel-item:only-child::after {width: 0;}#sk-container-id-2 div.sk-dashed-wrapped {border: 1px dashed gray;margin: 0 0.4em 0.5em 0.4em;box-sizing: border-box;padding-bottom: 0.4em;background-color: white;}#sk-container-id-2 div.sk-label label {font-family: monospace;font-weight: bold;display: inline-block;line-height: 1.2em;}#sk-container-id-2 div.sk-label-container {text-align: center;}#sk-container-id-2 div.sk-container {/* jupyter's `normalize.less` sets `[hidden] { display: none; }` but bootstrap.min.css set `[hidden] { display: none !important; }` so we also need the `!important` here to be able to override the default hidden behavior on the sphinx rendered scikit-learn.org. See: https://github.com/scikit-learn/scikit-learn/issues/21755 */display: inline-block !important;position: relative;}#sk-container-id-2 div.sk-text-repr-fallback {display: none;}</style><div id=\"sk-container-id-2\" class=\"sk-top-container\"><div class=\"sk-text-repr-fallback\"><pre>Pipeline(steps=[(&#x27;vect&#x27;, CountVectorizer()), (&#x27;tfidf&#x27;, TfidfTransformer()),\n",
       "                (&#x27;clf&#x27;,\n",
       "                 SGDClassifier(alpha=0.001, max_iter=5, random_state=42,\n",
       "                               tol=None))])</pre><b>In a Jupyter environment, please rerun this cell to show the HTML representation or trust the notebook. <br />On GitHub, the HTML representation is unable to render, please try loading this page with nbviewer.org.</b></div><div class=\"sk-container\" hidden><div class=\"sk-item sk-dashed-wrapped\"><div class=\"sk-label-container\"><div class=\"sk-label sk-toggleable\"><input class=\"sk-toggleable__control sk-hidden--visually\" id=\"sk-estimator-id-5\" type=\"checkbox\" ><label for=\"sk-estimator-id-5\" class=\"sk-toggleable__label sk-toggleable__label-arrow\">Pipeline</label><div class=\"sk-toggleable__content\"><pre>Pipeline(steps=[(&#x27;vect&#x27;, CountVectorizer()), (&#x27;tfidf&#x27;, TfidfTransformer()),\n",
       "                (&#x27;clf&#x27;,\n",
       "                 SGDClassifier(alpha=0.001, max_iter=5, random_state=42,\n",
       "                               tol=None))])</pre></div></div></div><div class=\"sk-serial\"><div class=\"sk-item\"><div class=\"sk-estimator sk-toggleable\"><input class=\"sk-toggleable__control sk-hidden--visually\" id=\"sk-estimator-id-6\" type=\"checkbox\" ><label for=\"sk-estimator-id-6\" class=\"sk-toggleable__label sk-toggleable__label-arrow\">CountVectorizer</label><div class=\"sk-toggleable__content\"><pre>CountVectorizer()</pre></div></div></div><div class=\"sk-item\"><div class=\"sk-estimator sk-toggleable\"><input class=\"sk-toggleable__control sk-hidden--visually\" id=\"sk-estimator-id-7\" type=\"checkbox\" ><label for=\"sk-estimator-id-7\" class=\"sk-toggleable__label sk-toggleable__label-arrow\">TfidfTransformer</label><div class=\"sk-toggleable__content\"><pre>TfidfTransformer()</pre></div></div></div><div class=\"sk-item\"><div class=\"sk-estimator sk-toggleable\"><input class=\"sk-toggleable__control sk-hidden--visually\" id=\"sk-estimator-id-8\" type=\"checkbox\" ><label for=\"sk-estimator-id-8\" class=\"sk-toggleable__label sk-toggleable__label-arrow\">SGDClassifier</label><div class=\"sk-toggleable__content\"><pre>SGDClassifier(alpha=0.001, max_iter=5, random_state=42, tol=None)</pre></div></div></div></div></div></div></div>"
      ],
      "text/plain": [
       "Pipeline(steps=[('vect', CountVectorizer()), ('tfidf', TfidfTransformer()),\n",
       "                ('clf',\n",
       "                 SGDClassifier(alpha=0.001, max_iter=5, random_state=42,\n",
       "                               tol=None))])"
      ]
     },
     "execution_count": 18,
     "metadata": {},
     "output_type": "execute_result"
    }
   ],
   "source": [
    "from sklearn.linear_model import SGDClassifier\n",
    "\n",
    "sgd = Pipeline([('vect', CountVectorizer()),\n",
    "                ('tfidf', TfidfTransformer()),\n",
    "                ('clf', SGDClassifier(loss='hinge', penalty='l2',alpha=1e-3, random_state=42, max_iter=5, tol=None)),\n",
    "               ])\n",
    "sgd.fit(X_train, y_train)"
   ]
  },
  {
   "cell_type": "code",
   "execution_count": 19,
   "metadata": {},
   "outputs": [
    {
     "name": "stdout",
     "output_type": "stream",
     "text": [
      "accuracy 0.9662337662337662\n",
      "              precision    recall  f1-score   support\n",
      "\n",
      "      Tweets       0.97      0.76      0.85        38\n",
      "    Noticias       1.00      0.97      0.98        33\n",
      "      Poemas       0.94      0.79      0.85        56\n",
      "     Fabulas       0.96      0.99      0.97       137\n",
      "     Ensayos       0.97      0.81      0.88        79\n",
      "     Cuentos       0.97      1.00      0.98       812\n",
      "\n",
      "    accuracy                           0.97      1155\n",
      "   macro avg       0.97      0.89      0.92      1155\n",
      "weighted avg       0.97      0.97      0.96      1155\n",
      "\n",
      "CPU times: user 219 ms, sys: 101 ms, total: 320 ms\n",
      "Wall time: 160 ms\n"
     ]
    }
   ],
   "source": [
    "%%time\n",
    "\n",
    "y_pred = sgd.predict(X_test)\n",
    "\n",
    "print('accuracy %s' % accuracy_score(y_pred, y_test))\n",
    "print(classification_report(y_test, y_pred,target_names=my_tags))"
   ]
  },
  {
   "cell_type": "markdown",
   "metadata": {},
   "source": [
    "### Logistic regression"
   ]
  },
  {
   "cell_type": "code",
   "execution_count": 20,
   "metadata": {},
   "outputs": [
    {
     "name": "stderr",
     "output_type": "stream",
     "text": [
      "/home/sergio/anaconda3/envs/datasc/lib/python3.8/site-packages/sklearn/linear_model/_logistic.py:460: ConvergenceWarning: lbfgs failed to converge (status=1):\n",
      "STOP: TOTAL NO. of ITERATIONS REACHED LIMIT.\n",
      "\n",
      "Increase the number of iterations (max_iter) or scale the data as shown in:\n",
      "    https://scikit-learn.org/stable/modules/preprocessing.html\n",
      "Please also refer to the documentation for alternative solver options:\n",
      "    https://scikit-learn.org/stable/modules/linear_model.html#logistic-regression\n",
      "  n_iter_i = _check_optimize_result(\n"
     ]
    },
    {
     "data": {
      "text/html": [
       "<style>#sk-container-id-3 {color: black;}#sk-container-id-3 pre{padding: 0;}#sk-container-id-3 div.sk-toggleable {background-color: white;}#sk-container-id-3 label.sk-toggleable__label {cursor: pointer;display: block;width: 100%;margin-bottom: 0;padding: 0.3em;box-sizing: border-box;text-align: center;}#sk-container-id-3 label.sk-toggleable__label-arrow:before {content: \"▸\";float: left;margin-right: 0.25em;color: #696969;}#sk-container-id-3 label.sk-toggleable__label-arrow:hover:before {color: black;}#sk-container-id-3 div.sk-estimator:hover label.sk-toggleable__label-arrow:before {color: black;}#sk-container-id-3 div.sk-toggleable__content {max-height: 0;max-width: 0;overflow: hidden;text-align: left;background-color: #f0f8ff;}#sk-container-id-3 div.sk-toggleable__content pre {margin: 0.2em;color: black;border-radius: 0.25em;background-color: #f0f8ff;}#sk-container-id-3 input.sk-toggleable__control:checked~div.sk-toggleable__content {max-height: 200px;max-width: 100%;overflow: auto;}#sk-container-id-3 input.sk-toggleable__control:checked~label.sk-toggleable__label-arrow:before {content: \"▾\";}#sk-container-id-3 div.sk-estimator input.sk-toggleable__control:checked~label.sk-toggleable__label {background-color: #d4ebff;}#sk-container-id-3 div.sk-label input.sk-toggleable__control:checked~label.sk-toggleable__label {background-color: #d4ebff;}#sk-container-id-3 input.sk-hidden--visually {border: 0;clip: rect(1px 1px 1px 1px);clip: rect(1px, 1px, 1px, 1px);height: 1px;margin: -1px;overflow: hidden;padding: 0;position: absolute;width: 1px;}#sk-container-id-3 div.sk-estimator {font-family: monospace;background-color: #f0f8ff;border: 1px dotted black;border-radius: 0.25em;box-sizing: border-box;margin-bottom: 0.5em;}#sk-container-id-3 div.sk-estimator:hover {background-color: #d4ebff;}#sk-container-id-3 div.sk-parallel-item::after {content: \"\";width: 100%;border-bottom: 1px solid gray;flex-grow: 1;}#sk-container-id-3 div.sk-label:hover label.sk-toggleable__label {background-color: #d4ebff;}#sk-container-id-3 div.sk-serial::before {content: \"\";position: absolute;border-left: 1px solid gray;box-sizing: border-box;top: 0;bottom: 0;left: 50%;z-index: 0;}#sk-container-id-3 div.sk-serial {display: flex;flex-direction: column;align-items: center;background-color: white;padding-right: 0.2em;padding-left: 0.2em;position: relative;}#sk-container-id-3 div.sk-item {position: relative;z-index: 1;}#sk-container-id-3 div.sk-parallel {display: flex;align-items: stretch;justify-content: center;background-color: white;position: relative;}#sk-container-id-3 div.sk-item::before, #sk-container-id-3 div.sk-parallel-item::before {content: \"\";position: absolute;border-left: 1px solid gray;box-sizing: border-box;top: 0;bottom: 0;left: 50%;z-index: -1;}#sk-container-id-3 div.sk-parallel-item {display: flex;flex-direction: column;z-index: 1;position: relative;background-color: white;}#sk-container-id-3 div.sk-parallel-item:first-child::after {align-self: flex-end;width: 50%;}#sk-container-id-3 div.sk-parallel-item:last-child::after {align-self: flex-start;width: 50%;}#sk-container-id-3 div.sk-parallel-item:only-child::after {width: 0;}#sk-container-id-3 div.sk-dashed-wrapped {border: 1px dashed gray;margin: 0 0.4em 0.5em 0.4em;box-sizing: border-box;padding-bottom: 0.4em;background-color: white;}#sk-container-id-3 div.sk-label label {font-family: monospace;font-weight: bold;display: inline-block;line-height: 1.2em;}#sk-container-id-3 div.sk-label-container {text-align: center;}#sk-container-id-3 div.sk-container {/* jupyter's `normalize.less` sets `[hidden] { display: none; }` but bootstrap.min.css set `[hidden] { display: none !important; }` so we also need the `!important` here to be able to override the default hidden behavior on the sphinx rendered scikit-learn.org. See: https://github.com/scikit-learn/scikit-learn/issues/21755 */display: inline-block !important;position: relative;}#sk-container-id-3 div.sk-text-repr-fallback {display: none;}</style><div id=\"sk-container-id-3\" class=\"sk-top-container\"><div class=\"sk-text-repr-fallback\"><pre>Pipeline(steps=[(&#x27;vect&#x27;, CountVectorizer()), (&#x27;tfidf&#x27;, TfidfTransformer()),\n",
       "                (&#x27;clf&#x27;, LogisticRegression(C=100000.0, n_jobs=1))])</pre><b>In a Jupyter environment, please rerun this cell to show the HTML representation or trust the notebook. <br />On GitHub, the HTML representation is unable to render, please try loading this page with nbviewer.org.</b></div><div class=\"sk-container\" hidden><div class=\"sk-item sk-dashed-wrapped\"><div class=\"sk-label-container\"><div class=\"sk-label sk-toggleable\"><input class=\"sk-toggleable__control sk-hidden--visually\" id=\"sk-estimator-id-9\" type=\"checkbox\" ><label for=\"sk-estimator-id-9\" class=\"sk-toggleable__label sk-toggleable__label-arrow\">Pipeline</label><div class=\"sk-toggleable__content\"><pre>Pipeline(steps=[(&#x27;vect&#x27;, CountVectorizer()), (&#x27;tfidf&#x27;, TfidfTransformer()),\n",
       "                (&#x27;clf&#x27;, LogisticRegression(C=100000.0, n_jobs=1))])</pre></div></div></div><div class=\"sk-serial\"><div class=\"sk-item\"><div class=\"sk-estimator sk-toggleable\"><input class=\"sk-toggleable__control sk-hidden--visually\" id=\"sk-estimator-id-10\" type=\"checkbox\" ><label for=\"sk-estimator-id-10\" class=\"sk-toggleable__label sk-toggleable__label-arrow\">CountVectorizer</label><div class=\"sk-toggleable__content\"><pre>CountVectorizer()</pre></div></div></div><div class=\"sk-item\"><div class=\"sk-estimator sk-toggleable\"><input class=\"sk-toggleable__control sk-hidden--visually\" id=\"sk-estimator-id-11\" type=\"checkbox\" ><label for=\"sk-estimator-id-11\" class=\"sk-toggleable__label sk-toggleable__label-arrow\">TfidfTransformer</label><div class=\"sk-toggleable__content\"><pre>TfidfTransformer()</pre></div></div></div><div class=\"sk-item\"><div class=\"sk-estimator sk-toggleable\"><input class=\"sk-toggleable__control sk-hidden--visually\" id=\"sk-estimator-id-12\" type=\"checkbox\" ><label for=\"sk-estimator-id-12\" class=\"sk-toggleable__label sk-toggleable__label-arrow\">LogisticRegression</label><div class=\"sk-toggleable__content\"><pre>LogisticRegression(C=100000.0, n_jobs=1)</pre></div></div></div></div></div></div></div>"
      ],
      "text/plain": [
       "Pipeline(steps=[('vect', CountVectorizer()), ('tfidf', TfidfTransformer()),\n",
       "                ('clf', LogisticRegression(C=100000.0, n_jobs=1))])"
      ]
     },
     "execution_count": 20,
     "metadata": {},
     "output_type": "execute_result"
    }
   ],
   "source": [
    "from sklearn.linear_model import LogisticRegression\n",
    "\n",
    "logreg = Pipeline([('vect', CountVectorizer()),\n",
    "                ('tfidf', TfidfTransformer()),\n",
    "                ('clf', LogisticRegression(n_jobs=1, C=1e5)),\n",
    "               ])\n",
    "logreg.fit(X_train, y_train)"
   ]
  },
  {
   "cell_type": "code",
   "execution_count": 21,
   "metadata": {},
   "outputs": [
    {
     "data": {
      "text/plain": [
       "(1155,)"
      ]
     },
     "execution_count": 21,
     "metadata": {},
     "output_type": "execute_result"
    }
   ],
   "source": [
    "y_test.shape"
   ]
  },
  {
   "cell_type": "code",
   "execution_count": 22,
   "metadata": {},
   "outputs": [
    {
     "data": {
      "text/plain": [
       "tags\n",
       "Tweets      812\n",
       "Noticias    137\n",
       "Poemas       79\n",
       "Fabulas      56\n",
       "Cuentos      38\n",
       "Ensayos      33\n",
       "Name: count, dtype: int64"
      ]
     },
     "execution_count": 22,
     "metadata": {},
     "output_type": "execute_result"
    }
   ],
   "source": [
    "y_test.value_counts()"
   ]
  },
  {
   "cell_type": "code",
   "execution_count": 23,
   "metadata": {},
   "outputs": [
    {
     "name": "stdout",
     "output_type": "stream",
     "text": [
      "accuracy 0.9904761904761905\n",
      "              precision    recall  f1-score   support\n",
      "\n",
      "      Tweets       0.95      0.92      0.93        38\n",
      "    Noticias       1.00      0.97      0.98        33\n",
      "      Poemas       0.98      0.95      0.96        56\n",
      "     Fabulas       0.98      1.00      0.99       137\n",
      "     Ensayos       1.00      0.95      0.97        79\n",
      "     Cuentos       0.99      1.00      1.00       812\n",
      "\n",
      "    accuracy                           0.99      1155\n",
      "   macro avg       0.98      0.96      0.97      1155\n",
      "weighted avg       0.99      0.99      0.99      1155\n",
      "\n",
      "CPU times: user 180 ms, sys: 79.1 ms, total: 259 ms\n",
      "Wall time: 186 ms\n"
     ]
    }
   ],
   "source": [
    "%%time\n",
    "\n",
    "y_pred = logreg.predict(X_test)\n",
    "\n",
    "print('accuracy %s' % accuracy_score(y_pred, y_test))\n",
    "print(classification_report(y_test, y_pred,target_names=my_tags))"
   ]
  },
  {
   "cell_type": "markdown",
   "metadata": {},
   "source": [
    "### Word2vec embedding and Logistic Regression"
   ]
  },
  {
   "cell_type": "markdown",
   "metadata": {},
   "source": [
    "### Doc2vec and Logistic Regression"
   ]
  },
  {
   "cell_type": "markdown",
   "metadata": {},
   "source": [
    "Doc2vec, taking the linear combination of every term in the document creates a random walk with bias process in the word2vec space."
   ]
  },
  {
   "cell_type": "markdown",
   "metadata": {},
   "source": [
    "### BOW with keras"
   ]
  },
  {
   "cell_type": "code",
   "execution_count": 24,
   "metadata": {},
   "outputs": [
    {
     "name": "stderr",
     "output_type": "stream",
     "text": [
      "2023-12-10 16:34:42.480991: I tensorflow/tsl/cuda/cudart_stub.cc:28] Could not find cuda drivers on your machine, GPU will not be used.\n",
      "2023-12-10 16:34:42.550581: I tensorflow/tsl/cuda/cudart_stub.cc:28] Could not find cuda drivers on your machine, GPU will not be used.\n",
      "2023-12-10 16:34:42.551336: I tensorflow/core/platform/cpu_feature_guard.cc:182] This TensorFlow binary is optimized to use available CPU instructions in performance-critical operations.\n",
      "To enable the following instructions: AVX2 FMA, in other operations, rebuild TensorFlow with the appropriate compiler flags.\n",
      "2023-12-10 16:34:43.686345: W tensorflow/compiler/tf2tensorrt/utils/py_utils.cc:38] TF-TRT Warning: Could not find TensorRT\n"
     ]
    }
   ],
   "source": [
    "\n",
    "\n",
    "%matplotlib inline\n",
    "import matplotlib.pyplot as plt\n",
    "import numpy as np\n",
    "import pandas as pd\n",
    "import tensorflow as tf\n",
    "\n",
    "from sklearn.preprocessing import LabelBinarizer, LabelEncoder\n",
    "from sklearn.metrics import confusion_matrix\n",
    "\n",
    "from tensorflow import keras\n",
    "from keras.models import Sequential\n",
    "from keras.layers import Dense, Activation, Dropout\n",
    "from keras.preprocessing import text, sequence\n",
    "from keras import utils"
   ]
  },
  {
   "cell_type": "code",
   "execution_count": 25,
   "metadata": {},
   "outputs": [
    {
     "name": "stdout",
     "output_type": "stream",
     "text": [
      "Train size: 2693\n",
      "Test size: 1155\n"
     ]
    }
   ],
   "source": [
    "train_size = int(len(df) * .7)\n",
    "print (\"Train size: %d\" % train_size)\n",
    "print (\"Test size: %d\" % (len(df) - train_size))"
   ]
  },
  {
   "cell_type": "code",
   "execution_count": 26,
   "metadata": {},
   "outputs": [],
   "source": [
    "train_posts = df['post'][:train_size]\n",
    "train_tags = df['tags'][:train_size]\n",
    "\n",
    "test_posts = df['post'][train_size:]\n",
    "test_tags = df['tags'][train_size:]"
   ]
  },
  {
   "cell_type": "code",
   "execution_count": 27,
   "metadata": {},
   "outputs": [],
   "source": [
    "max_words = 6000\n",
    "tokenize = text.Tokenizer(num_words=max_words, char_level=False)"
   ]
  },
  {
   "cell_type": "code",
   "execution_count": 28,
   "metadata": {},
   "outputs": [],
   "source": [
    "tokenize.fit_on_texts(train_posts) # only fit on train\n",
    "x_train = tokenize.texts_to_matrix(train_posts)\n",
    "x_test = tokenize.texts_to_matrix(test_posts)"
   ]
  },
  {
   "cell_type": "code",
   "execution_count": 29,
   "metadata": {},
   "outputs": [
    {
     "data": {
      "text/plain": [
       "0       rey animales reunieron animales monte elegir r...\n",
       "1       domingo 7 haba vez dos compadres jorobados ric...\n",
       "2       francisco hombre albores siglo xx dos comercia...\n",
       "3       aminta pelez leyenda wareke hace muchsimos aos...\n",
       "4       oasis belissama atlaua paseaba belissama ancia...\n",
       "                              ...                        \n",
       "2688    rt franciscoa_l artculo #elnuevopobre hoy dcor...\n",
       "2689    rt melissagil1 familia miembros clase media pr...\n",
       "2690    rt padillaivn dcoronell esposa quimica trabaj ...\n",
       "2691    rt andresfruizv #elnuevopobre veces pienso mej...\n",
       "2692    pgina pirata roba trabajo vende publicidad htt...\n",
       "Name: post, Length: 2693, dtype: object"
      ]
     },
     "execution_count": 29,
     "metadata": {},
     "output_type": "execute_result"
    }
   ],
   "source": [
    "train_posts"
   ]
  },
  {
   "cell_type": "code",
   "execution_count": 30,
   "metadata": {},
   "outputs": [],
   "source": [
    "encoder = LabelEncoder()\n",
    "encoder.fit(train_tags)\n",
    "y_train = encoder.transform(train_tags)\n",
    "y_test = encoder.transform(test_tags)"
   ]
  },
  {
   "cell_type": "code",
   "execution_count": 31,
   "metadata": {},
   "outputs": [
    {
     "data": {
      "text/plain": [
       "0"
      ]
     },
     "execution_count": 31,
     "metadata": {},
     "output_type": "execute_result"
    }
   ],
   "source": [
    "y_train[0]"
   ]
  },
  {
   "cell_type": "code",
   "execution_count": 32,
   "metadata": {},
   "outputs": [],
   "source": [
    "num_classes = np.max(y_train) + 1\n",
    "y_train = utils.to_categorical(y_train, num_classes)\n",
    "y_test = utils.to_categorical(y_test, num_classes)"
   ]
  },
  {
   "cell_type": "code",
   "execution_count": 33,
   "metadata": {},
   "outputs": [
    {
     "data": {
      "text/plain": [
       "(6,)"
      ]
     },
     "execution_count": 33,
     "metadata": {},
     "output_type": "execute_result"
    }
   ],
   "source": [
    "y_train[0].shape"
   ]
  },
  {
   "cell_type": "code",
   "execution_count": 34,
   "metadata": {},
   "outputs": [
    {
     "name": "stdout",
     "output_type": "stream",
     "text": [
      "x_train shape: (2693, 6000)\n",
      "x_test shape: (1155, 6000)\n",
      "y_train shape: (2693, 6)\n",
      "y_test shape: (1155, 6)\n"
     ]
    }
   ],
   "source": [
    "print('x_train shape:', x_train.shape)\n",
    "print('x_test shape:', x_test.shape)\n",
    "print('y_train shape:', y_train.shape)\n",
    "print('y_test shape:', y_test.shape)"
   ]
  },
  {
   "cell_type": "code",
   "execution_count": 35,
   "metadata": {},
   "outputs": [],
   "source": [
    "batch_size = 32\n",
    "epochs = 2"
   ]
  },
  {
   "cell_type": "code",
   "execution_count": 36,
   "metadata": {},
   "outputs": [
    {
     "name": "stderr",
     "output_type": "stream",
     "text": [
      "2023-12-10 16:34:45.568116: I tensorflow/compiler/xla/stream_executor/cuda/cuda_gpu_executor.cc:995] successful NUMA node read from SysFS had negative value (-1), but there must be at least one NUMA node, so returning NUMA node zero. See more at https://github.com/torvalds/linux/blob/v6.0/Documentation/ABI/testing/sysfs-bus-pci#L344-L355\n",
      "2023-12-10 16:34:45.569020: W tensorflow/core/common_runtime/gpu/gpu_device.cc:1960] Cannot dlopen some GPU libraries. Please make sure the missing libraries mentioned above are installed properly if you would like to use GPU. Follow the guide at https://www.tensorflow.org/install/gpu for how to download and setup the required libraries for your platform.\n",
      "Skipping registering GPU devices...\n"
     ]
    }
   ],
   "source": [
    "# Build the model\n",
    "model = Sequential()\n",
    "model.add(Dense(512, input_shape=(max_words,)))\n",
    "model.add(Activation('relu'))\n",
    "model.add(Dropout(0.5))\n",
    "model.add(Dense(num_classes))\n",
    "model.add(Activation('softmax'))\n",
    "\n",
    "model.compile(loss='categorical_crossentropy',\n",
    "              optimizer='adam',\n",
    "              metrics=['accuracy'])"
   ]
  },
  {
   "cell_type": "code",
   "execution_count": 37,
   "metadata": {},
   "outputs": [
    {
     "name": "stdout",
     "output_type": "stream",
     "text": [
      "Epoch 1/2\n"
     ]
    },
    {
     "name": "stdout",
     "output_type": "stream",
     "text": [
      "76/76 [==============================] - 5s 49ms/step - loss: 0.6236 - accuracy: 0.8910 - val_loss: 0.1981 - val_accuracy: 0.9963\n",
      "Epoch 2/2\n",
      "76/76 [==============================] - 3s 45ms/step - loss: 0.0485 - accuracy: 0.9950 - val_loss: 0.0863 - val_accuracy: 1.0000\n"
     ]
    }
   ],
   "source": [
    "history = model.fit(x_train, y_train,\n",
    "                    batch_size=batch_size,\n",
    "                    epochs=epochs,\n",
    "                    verbose=1,\n",
    "                    validation_split=0.1)"
   ]
  },
  {
   "cell_type": "code",
   "execution_count": 38,
   "metadata": {},
   "outputs": [
    {
     "name": "stdout",
     "output_type": "stream",
     "text": [
      "37/37 [==============================] - 0s 9ms/step - loss: 0.0925 - accuracy: 1.0000\n",
      "Test accuracy: 1.0\n"
     ]
    }
   ],
   "source": [
    "score = model.evaluate(x_test, y_test,\n",
    "                       batch_size=batch_size, verbose=1)\n",
    "print('Test accuracy:', score[1])"
   ]
  },
  {
   "cell_type": "code",
   "execution_count": 59,
   "metadata": {},
   "outputs": [
    {
     "data": {
      "text/plain": [
       "0       rey animales reunieron animales monte elegir r...\n",
       "1       domingo 7 haba vez dos compadres jorobados ric...\n",
       "2       francisco hombre albores siglo xx dos comercia...\n",
       "3       aminta pelez leyenda wareke hace muchsimos aos...\n",
       "4       oasis belissama atlaua paseaba belissama ancia...\n",
       "                              ...                        \n",
       "2688    rt franciscoa_l artculo #elnuevopobre hoy dcor...\n",
       "2689    rt melissagil1 familia miembros clase media pr...\n",
       "2690    rt padillaivn dcoronell esposa quimica trabaj ...\n",
       "2691    rt andresfruizv #elnuevopobre veces pienso mej...\n",
       "2692    pgina pirata roba trabajo vende publicidad htt...\n",
       "Name: post, Length: 2693, dtype: object"
      ]
     },
     "execution_count": 59,
     "metadata": {},
     "output_type": "execute_result"
    }
   ],
   "source": [
    "input=\"En la penumbra de la noche sosegada, donde las estrellas sus secretos revelan, mi mente vuela en alas de la nada, donde los sueños como luciérnagas destellan.Bajo el manto plateado de la luna, se tejen historias en el silencio, donde el corazón, como una fortuna, se llena de anhelos en este trance eterno.Susurros de hojas danzan con el viento, mientras la noche abraza el suspenso, y en el lienzo del cielo, un firmamento, pintado con los sueños que llevo dentro.Allí, donde los recuerdos se entrelazan, y las sombras danzan con la melodía, se despiertan los sueños que abrazan, la esperanza en esta mágica poesía.Que las estrellas guarden mis secretos, y la luna cuente mis anhelos, en este rincón de sueños discretos, donde la noche se convierte en cielo.\"\n",
    "train_posts"
   ]
  },
  {
   "cell_type": "code",
   "execution_count": null,
   "metadata": {},
   "outputs": [],
   "source": []
  },
  {
   "cell_type": "code",
   "execution_count": 60,
   "metadata": {},
   "outputs": [
    {
     "data": {
      "text/plain": [
       "'penumbra noche sosegada estrellas secretos revelan mente vuela alas sueos lucirnagas destellanbajo manto plateado luna tejen historias silencio corazn fortuna llena anhelos trance eternosusurros hojas danzan viento mientras noche abraza suspenso lienzo cielo firmamento pintado sueos llevo dentroall recuerdos entrelazan sombras danzan meloda despiertan sueos abrazan esperanza mgica poesaque estrellas guarden secretos luna cuente anhelos rincn sueos discretos noche convierte cielo'"
      ]
     },
     "execution_count": 60,
     "metadata": {},
     "output_type": "execute_result"
    }
   ],
   "source": [
    "clean_text(input)"
   ]
  },
  {
   "cell_type": "code",
   "execution_count": 61,
   "metadata": {},
   "outputs": [
    {
     "name": "stdout",
     "output_type": "stream",
     "text": [
      "16/16 [==============================] - 0s 7ms/step\n"
     ]
    }
   ],
   "source": [
    "prediccion=model.predict(tokenize.texts_to_matrix(clean_text(input)))"
   ]
  },
  {
   "cell_type": "code",
   "execution_count": 62,
   "metadata": {},
   "outputs": [
    {
     "data": {
      "text/plain": [
       "(483, 6)"
      ]
     },
     "execution_count": 62,
     "metadata": {},
     "output_type": "execute_result"
    }
   ],
   "source": [
    "prediccion.shape"
   ]
  },
  {
   "cell_type": "code",
   "execution_count": 63,
   "metadata": {},
   "outputs": [
    {
     "data": {
      "text/plain": [
       "array([0., 1., 1., ..., 0., 0., 0.])"
      ]
     },
     "execution_count": 63,
     "metadata": {},
     "output_type": "execute_result"
    }
   ],
   "source": [
    "x_train[0]"
   ]
  },
  {
   "cell_type": "code",
   "execution_count": 64,
   "metadata": {},
   "outputs": [],
   "source": [
    "clean_input=pd.Series([clean_text(input)])"
   ]
  },
  {
   "cell_type": "code",
   "execution_count": 65,
   "metadata": {},
   "outputs": [
    {
     "data": {
      "text/plain": [
       "0    penumbra noche sosegada estrellas secretos rev...\n",
       "dtype: object"
      ]
     },
     "execution_count": 65,
     "metadata": {},
     "output_type": "execute_result"
    }
   ],
   "source": [
    "clean_input"
   ]
  },
  {
   "cell_type": "code",
   "execution_count": 66,
   "metadata": {},
   "outputs": [],
   "source": [
    "predict=tokenize.texts_to_matrix(clean_input)"
   ]
  },
  {
   "cell_type": "code",
   "execution_count": 67,
   "metadata": {},
   "outputs": [
    {
     "name": "stdout",
     "output_type": "stream",
     "text": [
      "1/1 [==============================] - 0s 23ms/step\n"
     ]
    }
   ],
   "source": [
    "prediccion=model.predict(predict)"
   ]
  },
  {
   "cell_type": "code",
   "execution_count": 68,
   "metadata": {},
   "outputs": [
    {
     "data": {
      "text/plain": [
       "array(['Poemas'], dtype=object)"
      ]
     },
     "execution_count": 68,
     "metadata": {},
     "output_type": "execute_result"
    }
   ],
   "source": [
    "encoder.inverse_transform([prediccion[0].argmax()])"
   ]
  }
 ],
 "metadata": {
  "kernelspec": {
   "display_name": "Python 3",
   "language": "python",
   "name": "python3"
  },
  "language_info": {
   "codemirror_mode": {
    "name": "ipython",
    "version": 3
   },
   "file_extension": ".py",
   "mimetype": "text/x-python",
   "name": "python",
   "nbconvert_exporter": "python",
   "pygments_lexer": "ipython3",
   "version": "3.8.5"
  }
 },
 "nbformat": 4,
 "nbformat_minor": 2
}
