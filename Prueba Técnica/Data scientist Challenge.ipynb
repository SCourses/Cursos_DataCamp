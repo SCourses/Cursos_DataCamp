{
 "cells": [
  {
   "cell_type": "markdown",
   "metadata": {},
   "source": [
    "# CIGO Data scientist Challenge"
   ]
  },
  {
   "cell_type": "markdown",
   "metadata": {},
   "source": [
    "## Motivación "
   ]
  },
  {
   "cell_type": "markdown",
   "metadata": {},
   "source": [
    "Somos un centro de Transformación Digital Interna que busca de manera innovadora mejorar los procesos del Banco adoptando prácticas ágiles\n",
    "\n",
    "Nos encargamos de impulsar las iniciativas de los funcionarios como si fueran Emprendedores, Tomamos el concepto de incubadoras acompañándolos y empoderándolos  para que sus iniciativas sean materializadas con mínimas soluciones viables, rápidas y eficientes.\n",
    "\n",
    "En CIGO buscamos explorar nuevas iniciativas  con Inteligencia artificial que nos permita aumentar la productividad y los espacios de trabajo de tal forma podamos tener un crecimiento exponencial en ingresos y disminución de costos administrativos, en el equipo CIGO buscamos transformar el Banco con nuevas tendencias tecnológicas y nuevas formas de trabajo."
   ]
  },
  {
   "cell_type": "markdown",
   "metadata": {},
   "source": [
    "## Consigna "
   ]
  },
  {
   "cell_type": "markdown",
   "metadata": {},
   "source": [
    "El objetivo de este desafío consiste en utilizar un conjunto de datos proporcionados\n",
    "\n",
    "El cual consiste en textos generados tanto por Modelos de Lenguaje Largos (LLM) tales como Chatgpt, Llama2 entre otros, como por autores humanos.  El reto es doble:"
   ]
  },
  {
   "cell_type": "markdown",
   "metadata": {},
   "source": [
    "### Análisis de estilo: "
   ]
  },
  {
   "cell_type": "markdown",
   "metadata": {},
   "source": [
    "Realizar el proceso de exploración y análisis sobre los textos para cada texto (EDA), logrando identificar elementos o aspectos distintivos en el estilo de texto generado por los LLMs en comparación con los creados por los humanos."
   ]
  },
  {
   "cell_type": "code",
   "execution_count": 414,
   "metadata": {},
   "outputs": [
    {
     "name": "stderr",
     "output_type": "stream",
     "text": [
      "[nltk_data] Downloading package stopwords to /home/sergio/nltk_data...\n",
      "[nltk_data]   Package stopwords is already up-to-date!\n"
     ]
    }
   ],
   "source": [
    "#libreriaa necesarias\n",
    "import nltk\n",
    "nltk.download('stopwords')\n",
    "import pandas as pd\n",
    "from nltk.tokenize import word_tokenize\n",
    "from nltk.corpus import stopwords\n",
    "from nltk.stem import PorterStemmer\n",
    "from nltk.tokenize import TweetTokenizer  \n",
    "import matplotlib.pyplot as plt\n",
    "import re\n",
    "import string\n",
    "\n",
    "\n"
   ]
  },
  {
   "cell_type": "code",
   "execution_count": 415,
   "metadata": {},
   "outputs": [],
   "source": [
    "#importamos los datos\n",
    "data=pd.read_excel(\"database_clean.xlsx\")"
   ]
  },
  {
   "cell_type": "markdown",
   "metadata": {},
   "source": [
    "### Prerocesamiento de los datos"
   ]
  },
  {
   "cell_type": "code",
   "execution_count": 416,
   "metadata": {},
   "outputs": [],
   "source": [
    "# Se corrigen algunos caracteres existentes en los textos, como lo son errores en lectura de tíldes y simbolos caracteristicos usados en tweets\n",
    "def prerpocesamiento(texto):\n",
    "    diccionario_tildes= {\n",
    "        \"Ã¡\": \"á\",\n",
    "        \"Ã©\": \"é\",\n",
    "        \"Ã\": \"í\",\n",
    "        \"Ã³\": \"ó\",\n",
    "        \"Ãº\": \"ú\",\n",
    "        \"Ã±\": \"ñ\",\n",
    "    }\n",
    "    for mal_codificado, bien_codificado in diccionario_tildes.items():\n",
    "        texto = texto.replace(mal_codificado, bien_codificado)\n",
    "\n",
    "    #preprocesamiento para los tweets\n",
    "    # remover el símbolo de retweet \"rt\"\n",
    "    texto = re.sub(r'^RT[\\s]+', '', texto)\n",
    "    # remover los liks\n",
    "    texto = re.sub(r'https?://[^\\s\\n\\r]+', '', texto)\n",
    "\n",
    "    # remover hashtags\n",
    "    # osolo se remueven los # de las palabras\n",
    "    texto = re.sub(r'#', '', texto)\n",
    "    texto=texto.lower()\n",
    "\n",
    "\n",
    "    return texto\n",
    "\n",
    "data.drop_duplicates(inplace=True)\n",
    "#Corrección de caracteres existentes en los textos\n",
    "data[\"Texto\"]=data[\"Texto\"].str.replace('\\xad', '')\n",
    "#Correccipón de tíldes\n",
    "data[\"Texto\"]=data[\"Texto\"].apply(prerpocesamiento)\n",
    "\n"
   ]
  },
  {
   "cell_type": "code",
   "execution_count": 417,
   "metadata": {},
   "outputs": [],
   "source": [
    "data['type']= data[\"Clasificacion\"].replace([\"LLM\",\"Human\"],[1,0])"
   ]
  },
  {
   "cell_type": "code",
   "execution_count": 418,
   "metadata": {},
   "outputs": [
    {
     "data": {
      "text/plain": [
       "array(['Cuentos', 'Ensayos', 'Fabulas', 'Noticias', 'Poemas', 'Tweets'],\n",
       "      dtype=object)"
      ]
     },
     "execution_count": 418,
     "metadata": {},
     "output_type": "execute_result"
    }
   ],
   "source": [
    "data[\"Tipo de fuente\"].unique()"
   ]
  },
  {
   "cell_type": "code",
   "execution_count": null,
   "metadata": {},
   "outputs": [],
   "source": []
  },
  {
   "cell_type": "code",
   "execution_count": 419,
   "metadata": {},
   "outputs": [],
   "source": [
    "from nltk.stem import SnowballStemmer\n",
    "spanish_stemmer = SnowballStemmer('spanish')\n"
   ]
  },
  {
   "cell_type": "code",
   "execution_count": 420,
   "metadata": {},
   "outputs": [
    {
     "name": "stderr",
     "output_type": "stream",
     "text": [
      "[nltk_data] Downloading package wordnet to /home/sergio/nltk_data...\n",
      "[nltk_data]   Package wordnet is already up-to-date!\n"
     ]
    }
   ],
   "source": [
    "import re\n",
    "\n",
    "from nltk.corpus import stopwords\n",
    "\n",
    "from nltk.stem import WordNetLemmatizer\n",
    "nltk.download('wordnet')\n",
    "lemmatizer = WordNetLemmatizer()\n",
    "\n",
    "\n",
    "\n",
    "\n",
    "corpus = []\n",
    "\n",
    "\n",
    "text = list(data['Texto'])\n",
    "\n",
    "for i in range(len(text)):\n",
    "\n",
    "    r = re.sub('[^a-zA-Z]', ' ', text[i])\n",
    "\n",
    "    r = r.lower()\n",
    "\n",
    "    r = r.split()\n",
    "\n",
    "    r = [word for word in r if word not in stopwords.words('spanish')]\n",
    "\n",
    "    r = [spanish_stemmer.stem(word) for word in r]\n",
    "\n",
    "    r = ' '.join(r)\n",
    "\n",
    "    corpus.append(r)\n",
    "\n",
    "data['text'] = corpus"
   ]
  },
  {
   "cell_type": "code",
   "execution_count": 421,
   "metadata": {},
   "outputs": [
    {
     "data": {
      "text/html": [
       "<div>\n",
       "<style scoped>\n",
       "    .dataframe tbody tr th:only-of-type {\n",
       "        vertical-align: middle;\n",
       "    }\n",
       "\n",
       "    .dataframe tbody tr th {\n",
       "        vertical-align: top;\n",
       "    }\n",
       "\n",
       "    .dataframe thead th {\n",
       "        text-align: right;\n",
       "    }\n",
       "</style>\n",
       "<table border=\"1\" class=\"dataframe\">\n",
       "  <thead>\n",
       "    <tr style=\"text-align: right;\">\n",
       "      <th></th>\n",
       "      <th>Texto</th>\n",
       "      <th>Tipo de fuente</th>\n",
       "      <th>Clasificacion</th>\n",
       "      <th>type</th>\n",
       "      <th>text</th>\n",
       "    </tr>\n",
       "  </thead>\n",
       "  <tbody>\n",
       "    <tr>\n",
       "      <th>0</th>\n",
       "      <td>el rey de los animales se reunieron los animal...</td>\n",
       "      <td>Cuentos</td>\n",
       "      <td>Human</td>\n",
       "      <td>0</td>\n",
       "      <td>rey animal reun animal mont eleg rey hac d as ...</td>\n",
       "    </tr>\n",
       "    <tr>\n",
       "      <th>1</th>\n",
       "      <td>domingo 7 había una vez dos compadres jorobado...</td>\n",
       "      <td>Cuentos</td>\n",
       "      <td>Human</td>\n",
       "      <td>0</td>\n",
       "      <td>doming hab vez dos compadr jorob ric pobr ric ...</td>\n",
       "    </tr>\n",
       "    <tr>\n",
       "      <th>2</th>\n",
       "      <td>francisco el hombre en los albores del siglo x...</td>\n",
       "      <td>Cuentos</td>\n",
       "      <td>Human</td>\n",
       "      <td>0</td>\n",
       "      <td>francisc hombr albor sigl xx dos comerci orig ...</td>\n",
       "    </tr>\n",
       "    <tr>\n",
       "      <th>3</th>\n",
       "      <td>aminta peláez- la leyenda de wareke hace muchí...</td>\n",
       "      <td>Cuentos</td>\n",
       "      <td>Human</td>\n",
       "      <td>0</td>\n",
       "      <td>amint pel ez leyend warek hac much sim inici p...</td>\n",
       "    </tr>\n",
       "    <tr>\n",
       "      <th>4</th>\n",
       "      <td>el oasis de belissama atlaua paseaba con belis...</td>\n",
       "      <td>Cuentos</td>\n",
       "      <td>Human</td>\n",
       "      <td>0</td>\n",
       "      <td>oasis belissam atlau pas belissam ancian cabal...</td>\n",
       "    </tr>\n",
       "    <tr>\n",
       "      <th>...</th>\n",
       "      <td>...</td>\n",
       "      <td>...</td>\n",
       "      <td>...</td>\n",
       "      <td>...</td>\n",
       "      <td>...</td>\n",
       "    </tr>\n",
       "    <tr>\n",
       "      <th>3833</th>\n",
       "      <td>la educación cívica es fundamental para la con...</td>\n",
       "      <td>Tweets</td>\n",
       "      <td>LLM</td>\n",
       "      <td>1</td>\n",
       "      <td>educaci n c vic fundamental construcci n socie...</td>\n",
       "    </tr>\n",
       "    <tr>\n",
       "      <th>3839</th>\n",
       "      <td>la corrupción es una amenaza para la democraci...</td>\n",
       "      <td>Tweets</td>\n",
       "      <td>LLM</td>\n",
       "      <td>1</td>\n",
       "      <td>corrupci n amenaz democraci desarroll pa s tom...</td>\n",
       "    </tr>\n",
       "    <tr>\n",
       "      <th>3841</th>\n",
       "      <td>el sistema político necesita una reforma profu...</td>\n",
       "      <td>Tweets</td>\n",
       "      <td>LLM</td>\n",
       "      <td>1</td>\n",
       "      <td>sistem pol tic necesit reform profund garantic...</td>\n",
       "    </tr>\n",
       "    <tr>\n",
       "      <th>3844</th>\n",
       "      <td>la violencia y la delincuencia son una amenaza...</td>\n",
       "      <td>Tweets</td>\n",
       "      <td>LLM</td>\n",
       "      <td>1</td>\n",
       "      <td>violenci delincuent amenaz segur ciudadan bien...</td>\n",
       "    </tr>\n",
       "    <tr>\n",
       "      <th>3845</th>\n",
       "      <td>la educación es la base d. es importante que s...</td>\n",
       "      <td>Tweets</td>\n",
       "      <td>LLM</td>\n",
       "      <td>1</td>\n",
       "      <td>educaci n bas d import inviert calid educaci n...</td>\n",
       "    </tr>\n",
       "  </tbody>\n",
       "</table>\n",
       "<p>3707 rows × 5 columns</p>\n",
       "</div>"
      ],
      "text/plain": [
       "                                                  Texto Tipo de fuente  \\\n",
       "0     el rey de los animales se reunieron los animal...        Cuentos   \n",
       "1     domingo 7 había una vez dos compadres jorobado...        Cuentos   \n",
       "2     francisco el hombre en los albores del siglo x...        Cuentos   \n",
       "3     aminta peláez- la leyenda de wareke hace muchí...        Cuentos   \n",
       "4     el oasis de belissama atlaua paseaba con belis...        Cuentos   \n",
       "...                                                 ...            ...   \n",
       "3833  la educación cívica es fundamental para la con...         Tweets   \n",
       "3839  la corrupción es una amenaza para la democraci...         Tweets   \n",
       "3841  el sistema político necesita una reforma profu...         Tweets   \n",
       "3844  la violencia y la delincuencia son una amenaza...         Tweets   \n",
       "3845  la educación es la base d. es importante que s...         Tweets   \n",
       "\n",
       "     Clasificacion  type                                               text  \n",
       "0            Human     0  rey animal reun animal mont eleg rey hac d as ...  \n",
       "1            Human     0  doming hab vez dos compadr jorob ric pobr ric ...  \n",
       "2            Human     0  francisc hombr albor sigl xx dos comerci orig ...  \n",
       "3            Human     0  amint pel ez leyend warek hac much sim inici p...  \n",
       "4            Human     0  oasis belissam atlau pas belissam ancian cabal...  \n",
       "...            ...   ...                                                ...  \n",
       "3833           LLM     1  educaci n c vic fundamental construcci n socie...  \n",
       "3839           LLM     1  corrupci n amenaz democraci desarroll pa s tom...  \n",
       "3841           LLM     1  sistem pol tic necesit reform profund garantic...  \n",
       "3844           LLM     1  violenci delincuent amenaz segur ciudadan bien...  \n",
       "3845           LLM     1  educaci n bas d import inviert calid educaci n...  \n",
       "\n",
       "[3707 rows x 5 columns]"
      ]
     },
     "execution_count": 421,
     "metadata": {},
     "output_type": "execute_result"
    }
   ],
   "source": [
    "data"
   ]
  },
  {
   "cell_type": "code",
   "execution_count": 404,
   "metadata": {},
   "outputs": [],
   "source": [
    "# Split the dataset into train and test sets\n",
    "from sklearn.model_selection import train_test_split\n",
    "X_train, X_test, y_train, y_test = train_test_split(data[\"text\"],\n",
    "                                                    data[\"type\"],\n",
    "                                                    test_size=0.33,\n",
    "                                                    random_state=42)"
   ]
  },
  {
   "cell_type": "code",
   "execution_count": 405,
   "metadata": {},
   "outputs": [],
   "source": [
    "from sklearn.pipeline import Pipeline\n",
    "from sklearn.feature_extraction.text import CountVectorizer\n",
    "from sklearn.feature_extraction.text import TfidfTransformer\n",
    "from sklearn.naive_bayes import MultinomialNB\n",
    "\n",
    "vectorizer= CountVectorizer(ngram_range=(1,2)).fit(X_train)\n",
    "X_train_vectorized =vectorizer.transform(X_train)\n",
    "X_train_vectorized.toarray().shape\n",
    "\n",
    "model=MultinomialNB(alpha=0.1)\n",
    "model.fit(X_train_vectorized,y_train)\n",
    "\n",
    "predictions= model.predict(vectorizer.transform(X_test))"
   ]
  },
  {
   "cell_type": "code",
   "execution_count": 406,
   "metadata": {},
   "outputs": [
    {
     "data": {
      "text/plain": [
       "array([0, 1, 0, 1, 1, 0, 0, 1, 0, 0, 1, 0, 0, 1, 0, 1, 0, 1, 1, 0, 1, 0,\n",
       "       0, 0, 1, 1, 1, 1, 1, 1, 0, 1, 1, 0, 1, 1, 1, 1, 0, 1, 0, 0, 0, 0,\n",
       "       0, 1, 0, 1, 0, 0, 0, 0, 0, 0, 0, 0, 1, 0, 1, 0, 0, 0, 0, 0, 1, 0,\n",
       "       0, 1, 1, 1, 0, 1, 1, 0, 0, 1, 0, 1, 0, 0, 0, 0, 1, 1, 1, 0, 0, 0,\n",
       "       0, 1, 0, 0, 0, 1, 1, 1, 0, 0, 1, 1, 1, 1, 1, 1, 0, 1, 1, 1, 0, 0,\n",
       "       0, 0, 1, 0, 1, 0, 0, 1, 1, 1, 1, 0, 0, 1, 0, 0, 0, 1, 1, 1, 1, 0,\n",
       "       1, 0, 1, 0, 1, 1, 1, 0, 1, 1, 0, 1, 0, 0, 1, 0, 1, 1, 0, 0, 0, 0,\n",
       "       0, 0, 0, 0, 1, 1, 0, 0, 0, 1, 1, 1, 0, 1, 0, 0, 0, 1, 1, 1, 0, 0,\n",
       "       1, 1, 1, 1, 0, 1, 0, 1, 0, 1, 0, 1, 0, 0, 1, 1, 0, 0, 0, 0, 0, 0,\n",
       "       0, 1, 1, 1, 0, 0, 1, 0, 0, 0, 0, 1, 1, 0, 0, 1, 0, 0, 0, 0, 0, 0,\n",
       "       0, 1, 1, 0, 0, 0, 0, 1, 0, 1, 1, 0, 0, 1, 0, 1, 0, 1, 0, 0, 1, 0,\n",
       "       0, 1, 0, 1, 0, 0, 1, 1, 1, 1, 0, 0, 1, 0, 1, 1, 1, 0, 1, 0, 0, 0,\n",
       "       0, 1, 1, 0, 0, 0, 1, 0, 0, 1, 0, 0, 0, 0, 1, 0, 0, 0, 0, 0, 1, 1,\n",
       "       1, 1, 1, 0, 1, 0, 0, 1, 1, 1, 1, 1, 1, 0, 1, 0, 0, 0, 0, 0, 1, 0,\n",
       "       1, 1, 1, 0, 0, 0, 0, 1, 0, 1, 1, 0, 0, 0, 1, 1, 0, 1, 0, 1, 1, 0,\n",
       "       1, 0, 0, 1, 0, 1, 0, 0, 0, 1, 0, 1, 0, 0, 0, 0, 0, 1, 0, 0, 0, 1,\n",
       "       0, 1, 0, 0, 0, 0, 1, 1, 0, 1, 1, 0, 1, 0, 1, 0, 1, 0, 0, 0, 0, 0,\n",
       "       0, 1, 0, 0, 1, 0, 0, 0, 1, 1, 0, 1, 0, 0, 1, 1, 0, 1, 0, 1, 1, 0,\n",
       "       1, 0, 1, 0, 0, 1, 0, 0, 0, 0, 0, 1, 0, 0, 0, 1, 1, 0, 1, 1, 1, 1,\n",
       "       1, 1, 0, 0, 1, 1, 1, 0, 1, 1, 1, 0, 1, 0, 1, 0, 0, 1, 1, 0, 0, 0,\n",
       "       0, 1, 1, 0, 0, 0, 1, 0, 0, 0, 0, 1, 1, 1, 1, 1, 0, 1, 0, 0, 0, 0,\n",
       "       1, 1, 1, 0, 1, 1, 0, 0, 1, 1, 1, 1, 1, 1, 0, 1, 0, 1, 0, 1, 0, 0,\n",
       "       1, 0, 1, 0, 0, 0, 0, 0, 0, 0, 1, 0, 1, 0, 0, 1, 1, 1, 1, 1, 0, 0,\n",
       "       0, 0, 1, 1, 1, 1, 0, 1, 1, 1, 0, 0, 0, 0, 1, 0, 0, 0, 1, 1, 0, 0,\n",
       "       0, 1, 1, 1, 0, 0, 1, 1, 0, 0, 0, 0, 1, 0, 1, 0, 1, 0, 0, 1, 0, 1,\n",
       "       1, 1, 1, 1, 1, 1, 0, 1, 0, 0, 1, 1, 1, 1, 1, 1, 0, 0, 0, 0, 0, 0,\n",
       "       1, 0, 0, 1, 0, 1, 0, 0, 1, 0, 1, 1, 0, 0, 1, 1, 0, 0, 0, 0, 1, 0,\n",
       "       0, 0, 0, 0, 1, 1, 0, 0, 1, 0, 0, 0, 0, 0, 0, 0, 0, 1, 1, 0, 1, 0,\n",
       "       0, 0, 0, 1, 0, 1, 1, 1, 0, 1, 0, 1, 1, 1, 1, 0, 0, 0, 0, 1, 1, 1,\n",
       "       1, 0, 0, 1, 1, 0, 0, 0, 1, 1, 1, 0, 1, 0, 0, 1, 0, 0, 1, 0, 0, 1,\n",
       "       0, 0, 0, 0, 0, 1, 1, 0, 0, 1, 0, 1, 0, 0, 0, 0, 0, 0, 0, 0, 1, 0,\n",
       "       1, 0, 1, 1, 0, 0, 0, 1, 0, 0, 0, 0, 1, 0, 1, 1, 0, 1, 1, 1, 1, 0,\n",
       "       0, 0, 1, 1, 1, 0, 1, 0, 0, 0, 0, 1, 0, 0, 1, 0, 0, 0, 0, 1, 0, 0,\n",
       "       0, 1, 0, 1, 0, 1, 1, 0, 0, 0, 1, 1, 0, 0, 0, 1, 1, 0, 0, 0, 1, 0,\n",
       "       0, 0, 0, 1, 0, 0, 0, 0, 1, 0, 0, 1, 0, 0, 0, 1, 1, 1, 1, 1, 0, 0,\n",
       "       0, 1, 0, 0, 1, 0, 0, 0, 1, 0, 1, 0, 0, 0, 1, 1, 0, 0, 1, 0, 1, 1,\n",
       "       1, 0, 0, 1, 1, 0, 1, 0, 1, 0, 1, 1, 1, 0, 0, 0, 1, 1, 0, 1, 1, 0,\n",
       "       1, 0, 1, 0, 0, 0, 1, 1, 0, 0, 0, 1, 1, 1, 0, 0, 0, 1, 0, 0, 0, 0,\n",
       "       0, 0, 1, 0, 1, 0, 0, 0, 0, 0, 1, 1, 0, 0, 0, 1, 0, 0, 0, 0, 1, 1,\n",
       "       1])"
      ]
     },
     "execution_count": 406,
     "metadata": {},
     "output_type": "execute_result"
    }
   ],
   "source": [
    "predictions"
   ]
  },
  {
   "cell_type": "code",
   "execution_count": 407,
   "metadata": {},
   "outputs": [
    {
     "data": {
      "text/plain": [
       "<Axes: >"
      ]
     },
     "execution_count": 407,
     "metadata": {},
     "output_type": "execute_result"
    },
    {
     "data": {
      "image/png": "[encoded data removed]",
      "text/plain": [
       "<Figure size 640x480 with 2 Axes>"
      ]
     },
     "metadata": {},
     "output_type": "display_data"
    }
   ],
   "source": [
    "from sklearn import metrics\n",
    "array = metrics.confusion_matrix(y_test, predictions)\n",
    "import seaborn as sn\n",
    "import pandas as pd\n",
    "import matplotlib.pyplot as plt\n",
    "%matplotlib inline\n",
    "\n",
    "df_cm = pd.DataFrame(array)\n",
    "\n",
    "sn.set(font_scale=1.4)\n",
    "sn.heatmap(df_cm, annot=True,annot_kws={\"size\": 16})"
   ]
  },
  {
   "cell_type": "code",
   "execution_count": 408,
   "metadata": {},
   "outputs": [
    {
     "name": "stdout",
     "output_type": "stream",
     "text": [
      "the accuracy from Nave Bayes model is 0.729918509895227\n",
      "the recall from Nave Bayes model is 0.6731234866828087\n"
     ]
    }
   ],
   "source": [
    "from sklearn.metrics import accuracy_score\n",
    "from sklearn.metrics import recall_score\n",
    "\n",
    "print(\"the accuracy from Nave Bayes model is \"+ str(accuracy_score(y_test, predictions)))\n",
    "print(\"the recall from Nave Bayes model is \"+ str(recall_score(y_test, predictions)))"
   ]
  },
  {
   "cell_type": "code",
   "execution_count": 409,
   "metadata": {},
   "outputs": [
    {
     "data": {
      "image/png": "[encoded data removed]",
      "text/plain": [
       "<Figure size 640x480 with 1 Axes>"
      ]
     },
     "metadata": {},
     "output_type": "display_data"
    }
   ],
   "source": [
    "from sklearn.metrics import roc_curve,auc\n",
    "\n",
    "y_pred_proba=model.predict_proba(vectorizer.transform(X_test))[:, 1]\n",
    "\n",
    "fpr,tpr,thresholds=roc_curve(y_test,y_pred_proba)\n",
    "roc_auc = auc(fpr, tpr)\n",
    "# Graficar la curva ROC\n",
    "plt.plot(fpr, tpr, color='blue', label='ROC curve (area = %0.2f)' % roc_auc)\n",
    "plt.plot([0, 1], [0, 1], color='red', linestyle= '--')\n",
    "plt.xlim([0.0, 1.0])\n",
    "plt.ylim([0.0, 1.05])\n",
    "plt.xlabel('False Positive Rate')\n",
    "plt.ylabel('True Positive Rate')\n",
    "plt.title('Naive Bayes Receiver Operating Characteristic')\n",
    "plt.legend(loc=\"lower right\")\n",
    "plt.show()"
   ]
  },
  {
   "cell_type": "code",
   "execution_count": 410,
   "metadata": {},
   "outputs": [],
   "source": [
    "from sklearn.svm import SVC\n",
    "model_svm=SVC(C=1.0,kernel=\"linear\",probability=True)\n",
    "model_svm.fit(X_train_vectorized,y_train)\n",
    "y_pred_svm=model_svm.predict(vectorizer.transform(X_test))\n"
   ]
  },
  {
   "cell_type": "code",
   "execution_count": 411,
   "metadata": {},
   "outputs": [
    {
     "data": {
      "text/plain": [
       "<Axes: >"
      ]
     },
     "execution_count": 411,
     "metadata": {},
     "output_type": "execute_result"
    },
    {
     "data": {
      "image/png": "[encoded data removed]",
      "text/plain": [
       "<Figure size 640x480 with 2 Axes>"
      ]
     },
     "metadata": {},
     "output_type": "display_data"
    }
   ],
   "source": [
    "array = metrics.confusion_matrix(y_test, y_pred_svm)\n",
    "df_cm = pd.DataFrame(array)\n",
    "\n",
    "sn.set(font_scale=1.4)\n",
    "sn.heatmap(df_cm, annot=True,annot_kws={\"size\": 16})"
   ]
  },
  {
   "cell_type": "code",
   "execution_count": 412,
   "metadata": {},
   "outputs": [
    {
     "data": {
      "image/png": "[encoded data removed]",
      "text/plain": [
       "<Figure size 640x480 with 1 Axes>"
      ]
     },
     "metadata": {},
     "output_type": "display_data"
    }
   ],
   "source": [
    "from sklearn.metrics import roc_curve,auc\n",
    "\n",
    "y_pred_proba=model_svm.predict_proba(vectorizer.transform(X_test))[:, 1]\n",
    "\n",
    "fpr,tpr,thresholds=roc_curve(y_test,y_pred_svm)\n",
    "roc_auc=auc(fpr,tpr)\n",
    "\n",
    "roc_auc = auc(fpr, tpr)\n",
    "# Graficar la curva ROC\n",
    "plt.plot(fpr, tpr, color='blue', label='ROC curve (area = %0.2f)' % roc_auc)\n",
    "plt.plot([0, 1], [0, 1], color='red', linestyle= '--')\n",
    "plt.xlim([0.0, 1.0])\n",
    "plt.ylim([0.0, 1.05])\n",
    "plt.xlabel('False Positive Rate')\n",
    "plt.ylabel('True Positive Rate')\n",
    "plt.title('Receiver Operating Characteristic')\n",
    "plt.legend(loc=\"lower right\")\n",
    "plt.show()"
   ]
  },
  {
   "cell_type": "code",
   "execution_count": 413,
   "metadata": {},
   "outputs": [
    {
     "name": "stdout",
     "output_type": "stream",
     "text": [
      "the accuracy from Nave Bayes model is 0.7823050058207218\n",
      "the recall from Nave Bayes model is 0.6561743341404358\n"
     ]
    }
   ],
   "source": [
    "print(\"the accuracy from Nave Bayes model is \"+str(accuracy_score(y_test, y_pred_svm)))\n",
    "print(\"the recall from Nave Bayes model is \"+ str(recall_score(y_test, y_pred_svm)))"
   ]
  },
  {
   "cell_type": "code",
   "execution_count": 221,
   "metadata": {},
   "outputs": [],
   "source": [
    "stop_words = set(stopwords.words('spanish'))"
   ]
  },
  {
   "cell_type": "code",
   "execution_count": 222,
   "metadata": {},
   "outputs": [],
   "source": [
    "def numero_stop_words(texto):\n",
    "    texto=word_tokenize(texto)\n",
    "    stopwords_x = [w for w in texto if w in stop_words]\n",
    "    num_stopw=len(stopwords_x)\n",
    "    return num_stopw\n",
    "\n",
    "def numero_palabras_unicas(texto):\n",
    "    texto=word_tokenize(texto)\n",
    "    unicos = len([*set(texto)])\n",
    "    return unicos\n",
    "\n",
    "def numero_puntuacion(texto):\n",
    "    texto=word_tokenize(texto)\n",
    "    puntuacion = [w for w in texto if w in string.punctuation]\n",
    "    num_puntuacion=len(puntuacion)\n",
    "    return num_puntuacion\n"
   ]
  },
  {
   "cell_type": "code",
   "execution_count": 223,
   "metadata": {},
   "outputs": [],
   "source": [
    "data[\"numero_palabras\"]=data[\"Texto\"].apply(lambda x: len(word_tokenize(x)))\n",
    "data[\"numero_stopwords\"]=data[\"Texto\"].apply(numero_stop_words)\n",
    "data[\"numero_palabras_unicas\"]=data[\"Texto\"].apply(numero_palabras_unicas)\n",
    "data[\"numero_puntuacion\"]=data[\"Texto\"].apply(numero_puntuacion)\n",
    "data=data[data[\"numero_palabras\"]!=0]"
   ]
  },
  {
   "cell_type": "code",
   "execution_count": 224,
   "metadata": {},
   "outputs": [
    {
     "data": {
      "text/html": [
       "<div>\n",
       "<style scoped>\n",
       "    .dataframe tbody tr th:only-of-type {\n",
       "        vertical-align: middle;\n",
       "    }\n",
       "\n",
       "    .dataframe tbody tr th {\n",
       "        vertical-align: top;\n",
       "    }\n",
       "\n",
       "    .dataframe thead th {\n",
       "        text-align: right;\n",
       "    }\n",
       "</style>\n",
       "<table border=\"1\" class=\"dataframe\">\n",
       "  <thead>\n",
       "    <tr style=\"text-align: right;\">\n",
       "      <th></th>\n",
       "      <th>Texto</th>\n",
       "      <th>Tipo de fuente</th>\n",
       "      <th>Clasificacion</th>\n",
       "      <th>type</th>\n",
       "      <th>numero_palabras</th>\n",
       "      <th>numero_stopwords</th>\n",
       "      <th>numero_palabras_unicas</th>\n",
       "      <th>numero_puntuacion</th>\n",
       "    </tr>\n",
       "  </thead>\n",
       "  <tbody>\n",
       "  </tbody>\n",
       "</table>\n",
       "</div>"
      ],
      "text/plain": [
       "Empty DataFrame\n",
       "Columns: [Texto, Tipo de fuente, Clasificacion, type, numero_palabras, numero_stopwords, numero_palabras_unicas, numero_puntuacion]\n",
       "Index: []"
      ]
     },
     "execution_count": 224,
     "metadata": {},
     "output_type": "execute_result"
    }
   ],
   "source": [
    "data[data[\"numero_palabras\"]==0]"
   ]
  },
  {
   "cell_type": "code",
   "execution_count": 225,
   "metadata": {},
   "outputs": [],
   "source": [
    "data[\"stop_words/texto\"]=data[\"numero_stopwords\"]/data[\"numero_palabras\"]\n",
    "data[\"numero_palabras_unicas/texto\"]=data[\"numero_palabras_unicas\"]/data[\"numero_palabras\"]\n",
    "data[\"numero_puntuacion/texto\"]=data[\"numero_puntuacion\"]/data[\"numero_palabras\"]"
   ]
  },
  {
   "cell_type": "code",
   "execution_count": 226,
   "metadata": {},
   "outputs": [
    {
     "data": {
      "text/plain": [
       "(array([1.32252836, 1.65964344, 5.13452188, 4.82333874, 5.31604538,\n",
       "        3.8897893 , 2.85251216, 1.81523501, 2.02269044, 0.67423015,\n",
       "        0.82982172, 0.1815235 , 0.64829822, 0.10372771, 0.07779579,\n",
       "        0.        , 0.5445705 , 0.02593193, 0.        , 0.07779579]),\n",
       " array([0.     , 0.03125, 0.0625 , 0.09375, 0.125  , 0.15625, 0.1875 ,\n",
       "        0.21875, 0.25   , 0.28125, 0.3125 , 0.34375, 0.375  , 0.40625,\n",
       "        0.4375 , 0.46875, 0.5    , 0.53125, 0.5625 , 0.59375, 0.625  ]),\n",
       " <BarContainer object of 20 artists>)"
      ]
     },
     "execution_count": 226,
     "metadata": {},
     "output_type": "execute_result"
    },
    {
     "data": {
      "image/png": "[encoded data removed]",
      "text/plain": [
       "<Figure size 640x480 with 1 Axes>"
      ]
     },
     "metadata": {},
     "output_type": "display_data"
    }
   ],
   "source": [
    "data['type']= data[\"Clasificacion\"].replace([\"LLM\",\"Human\"],[1,0])\n",
    "\n",
    "\n",
    "plt.hist(data[(data[\"type\"]==0)][\"numero_puntuacion/texto\"], bins=20, density=True, alpha=0.5, label='0')\n",
    "plt.hist(data[(data[\"type\"]==1)][\"numero_puntuacion/texto\"], bins=20, density=True, alpha=0.5, label='1')\n",
    "\n",
    "\n"
   ]
  },
  {
   "cell_type": "code",
   "execution_count": 227,
   "metadata": {},
   "outputs": [
    {
     "data": {
      "text/plain": [
       "([<matplotlib.axis.XTick at 0x7f3f20e5fb50>,\n",
       "  <matplotlib.axis.XTick at 0x7f3f20e5fb20>],\n",
       " [Text(1, 0, 'Human'), Text(2, 0, 'LLM')])"
      ]
     },
     "execution_count": 227,
     "metadata": {},
     "output_type": "execute_result"
    },
    {
     "data": {
      "image/png": "[encoded data removed]",
      "text/plain": [
       "<Figure size 800x600 with 1 Axes>"
      ]
     },
     "metadata": {},
     "output_type": "display_data"
    }
   ],
   "source": [
    "plt.figure(figsize=(8, 6))\n",
    "plt.violinplot([data[(data[\"type\"]==0)][\"stop_words/texto\"], data[(data[\"type\"]==1)][\"stop_words/texto\"]], showmedians=True)\n",
    "plt.xticks([1, 2], ['Human', 'LLM'])"
   ]
  },
  {
   "cell_type": "code",
   "execution_count": 228,
   "metadata": {},
   "outputs": [
    {
     "data": {
      "text/html": [
       "<div>\n",
       "<style scoped>\n",
       "    .dataframe tbody tr th:only-of-type {\n",
       "        vertical-align: middle;\n",
       "    }\n",
       "\n",
       "    .dataframe tbody tr th {\n",
       "        vertical-align: top;\n",
       "    }\n",
       "\n",
       "    .dataframe thead th {\n",
       "        text-align: right;\n",
       "    }\n",
       "</style>\n",
       "<table border=\"1\" class=\"dataframe\">\n",
       "  <thead>\n",
       "    <tr style=\"text-align: right;\">\n",
       "      <th></th>\n",
       "      <th>Texto</th>\n",
       "      <th>Tipo de fuente</th>\n",
       "      <th>Clasificacion</th>\n",
       "      <th>type</th>\n",
       "      <th>numero_palabras</th>\n",
       "      <th>numero_stopwords</th>\n",
       "      <th>numero_palabras_unicas</th>\n",
       "      <th>numero_puntuacion</th>\n",
       "      <th>stop_words/texto</th>\n",
       "      <th>numero_palabras_unicas/texto</th>\n",
       "      <th>numero_puntuacion/texto</th>\n",
       "    </tr>\n",
       "  </thead>\n",
       "  <tbody>\n",
       "    <tr>\n",
       "      <th>2722</th>\n",
       "      <td>duquederrochon</td>\n",
       "      <td>Tweets</td>\n",
       "      <td>LLM</td>\n",
       "      <td>1</td>\n",
       "      <td>1</td>\n",
       "      <td>0</td>\n",
       "      <td>1</td>\n",
       "      <td>0</td>\n",
       "      <td>0.000000</td>\n",
       "      <td>1.000000</td>\n",
       "      <td>0.000000</td>\n",
       "    </tr>\n",
       "    <tr>\n",
       "      <th>628</th>\n",
       "      <td>vanessayoestoyviendo</td>\n",
       "      <td>Tweets</td>\n",
       "      <td>Human</td>\n",
       "      <td>0</td>\n",
       "      <td>1</td>\n",
       "      <td>0</td>\n",
       "      <td>1</td>\n",
       "      <td>0</td>\n",
       "      <td>0.000000</td>\n",
       "      <td>1.000000</td>\n",
       "      <td>0.000000</td>\n",
       "    </tr>\n",
       "    <tr>\n",
       "      <th>3311</th>\n",
       "      <td>carpetassecretas</td>\n",
       "      <td>Tweets</td>\n",
       "      <td>LLM</td>\n",
       "      <td>1</td>\n",
       "      <td>1</td>\n",
       "      <td>0</td>\n",
       "      <td>1</td>\n",
       "      <td>0</td>\n",
       "      <td>0.000000</td>\n",
       "      <td>1.000000</td>\n",
       "      <td>0.000000</td>\n",
       "    </tr>\n",
       "    <tr>\n",
       "      <th>784</th>\n",
       "      <td>itslocombianotcolombia</td>\n",
       "      <td>Tweets</td>\n",
       "      <td>Human</td>\n",
       "      <td>0</td>\n",
       "      <td>1</td>\n",
       "      <td>0</td>\n",
       "      <td>1</td>\n",
       "      <td>0</td>\n",
       "      <td>0.000000</td>\n",
       "      <td>1.000000</td>\n",
       "      <td>0.000000</td>\n",
       "    </tr>\n",
       "    <tr>\n",
       "      <th>625</th>\n",
       "      <td>vanessaalejandrosanzes</td>\n",
       "      <td>Tweets</td>\n",
       "      <td>Human</td>\n",
       "      <td>0</td>\n",
       "      <td>1</td>\n",
       "      <td>0</td>\n",
       "      <td>1</td>\n",
       "      <td>0</td>\n",
       "      <td>0.000000</td>\n",
       "      <td>1.000000</td>\n",
       "      <td>0.000000</td>\n",
       "    </tr>\n",
       "    <tr>\n",
       "      <th>...</th>\n",
       "      <td>...</td>\n",
       "      <td>...</td>\n",
       "      <td>...</td>\n",
       "      <td>...</td>\n",
       "      <td>...</td>\n",
       "      <td>...</td>\n",
       "      <td>...</td>\n",
       "      <td>...</td>\n",
       "      <td>...</td>\n",
       "      <td>...</td>\n",
       "      <td>...</td>\n",
       "    </tr>\n",
       "    <tr>\n",
       "      <th>1388</th>\n",
       "      <td>@lcvelez: hechos: - @avianca si paga impuestos...</td>\n",
       "      <td>Tweets</td>\n",
       "      <td>Human</td>\n",
       "      <td>0</td>\n",
       "      <td>35</td>\n",
       "      <td>9</td>\n",
       "      <td>27</td>\n",
       "      <td>9</td>\n",
       "      <td>0.257143</td>\n",
       "      <td>0.771429</td>\n",
       "      <td>0.257143</td>\n",
       "    </tr>\n",
       "    <tr>\n",
       "      <th>2812</th>\n",
       "      <td>rt @s_dumit: historias de balcón: el niño del ...</td>\n",
       "      <td>Tweets</td>\n",
       "      <td>LLM</td>\n",
       "      <td>1</td>\n",
       "      <td>35</td>\n",
       "      <td>14</td>\n",
       "      <td>30</td>\n",
       "      <td>6</td>\n",
       "      <td>0.400000</td>\n",
       "      <td>0.857143</td>\n",
       "      <td>0.171429</td>\n",
       "    </tr>\n",
       "    <tr>\n",
       "      <th>1276</th>\n",
       "      <td>@noticiasrcn: \"los niños, a partir del 11 de m...</td>\n",
       "      <td>Tweets</td>\n",
       "      <td>Human</td>\n",
       "      <td>0</td>\n",
       "      <td>35</td>\n",
       "      <td>13</td>\n",
       "      <td>29</td>\n",
       "      <td>5</td>\n",
       "      <td>0.371429</td>\n",
       "      <td>0.828571</td>\n",
       "      <td>0.142857</td>\n",
       "    </tr>\n",
       "    <tr>\n",
       "      <th>3745</th>\n",
       "      <td>la formación técnica y tecnológica es clave pa...</td>\n",
       "      <td>Tweets</td>\n",
       "      <td>LLM</td>\n",
       "      <td>1</td>\n",
       "      <td>35</td>\n",
       "      <td>19</td>\n",
       "      <td>29</td>\n",
       "      <td>2</td>\n",
       "      <td>0.542857</td>\n",
       "      <td>0.828571</td>\n",
       "      <td>0.057143</td>\n",
       "    </tr>\n",
       "    <tr>\n",
       "      <th>2727</th>\n",
       "      <td>rt @alegandrohoyos: me acaban d decir por chat...</td>\n",
       "      <td>Tweets</td>\n",
       "      <td>LLM</td>\n",
       "      <td>1</td>\n",
       "      <td>36</td>\n",
       "      <td>11</td>\n",
       "      <td>32</td>\n",
       "      <td>7</td>\n",
       "      <td>0.305556</td>\n",
       "      <td>0.888889</td>\n",
       "      <td>0.194444</td>\n",
       "    </tr>\n",
       "  </tbody>\n",
       "</table>\n",
       "<p>2593 rows × 11 columns</p>\n",
       "</div>"
      ],
      "text/plain": [
       "                                                  Texto Tipo de fuente  \\\n",
       "2722                                    duquederrochon          Tweets   \n",
       "628                               vanessayoestoyviendo          Tweets   \n",
       "3311                                  carpetassecretas          Tweets   \n",
       "784                             itslocombianotcolombia          Tweets   \n",
       "625                             vanessaalejandrosanzes          Tweets   \n",
       "...                                                 ...            ...   \n",
       "1388  @lcvelez: hechos: - @avianca si paga impuestos...         Tweets   \n",
       "2812  rt @s_dumit: historias de balcón: el niño del ...         Tweets   \n",
       "1276  @noticiasrcn: \"los niños, a partir del 11 de m...         Tweets   \n",
       "3745  la formación técnica y tecnológica es clave pa...         Tweets   \n",
       "2727  rt @alegandrohoyos: me acaban d decir por chat...         Tweets   \n",
       "\n",
       "     Clasificacion  type  numero_palabras  numero_stopwords  \\\n",
       "2722           LLM     1                1                 0   \n",
       "628          Human     0                1                 0   \n",
       "3311           LLM     1                1                 0   \n",
       "784          Human     0                1                 0   \n",
       "625          Human     0                1                 0   \n",
       "...            ...   ...              ...               ...   \n",
       "1388         Human     0               35                 9   \n",
       "2812           LLM     1               35                14   \n",
       "1276         Human     0               35                13   \n",
       "3745           LLM     1               35                19   \n",
       "2727           LLM     1               36                11   \n",
       "\n",
       "      numero_palabras_unicas  numero_puntuacion  stop_words/texto  \\\n",
       "2722                       1                  0          0.000000   \n",
       "628                        1                  0          0.000000   \n",
       "3311                       1                  0          0.000000   \n",
       "784                        1                  0          0.000000   \n",
       "625                        1                  0          0.000000   \n",
       "...                      ...                ...               ...   \n",
       "1388                      27                  9          0.257143   \n",
       "2812                      30                  6          0.400000   \n",
       "1276                      29                  5          0.371429   \n",
       "3745                      29                  2          0.542857   \n",
       "2727                      32                  7          0.305556   \n",
       "\n",
       "      numero_palabras_unicas/texto  numero_puntuacion/texto  \n",
       "2722                      1.000000                 0.000000  \n",
       "628                       1.000000                 0.000000  \n",
       "3311                      1.000000                 0.000000  \n",
       "784                       1.000000                 0.000000  \n",
       "625                       1.000000                 0.000000  \n",
       "...                            ...                      ...  \n",
       "1388                      0.771429                 0.257143  \n",
       "2812                      0.857143                 0.171429  \n",
       "1276                      0.828571                 0.142857  \n",
       "3745                      0.828571                 0.057143  \n",
       "2727                      0.888889                 0.194444  \n",
       "\n",
       "[2593 rows x 11 columns]"
      ]
     },
     "execution_count": 228,
     "metadata": {},
     "output_type": "execute_result"
    }
   ],
   "source": [
    "data.sort_values(\"numero_palabras\")"
   ]
  },
  {
   "cell_type": "code",
   "execution_count": 229,
   "metadata": {},
   "outputs": [
    {
     "data": {
      "text/plain": [
       "array(['Tweets'], dtype=object)"
      ]
     },
     "execution_count": 229,
     "metadata": {},
     "output_type": "execute_result"
    }
   ],
   "source": [
    "data[\"Tipo de fuente\"].unique()"
   ]
  },
  {
   "cell_type": "code",
   "execution_count": 230,
   "metadata": {},
   "outputs": [],
   "source": [
    "#EDA\n",
    "#Mayusculas\n",
    "#Frequencia en palabras\n",
    "#Puntuación\n",
    "\n"
   ]
  },
  {
   "cell_type": "code",
   "execution_count": 231,
   "metadata": {},
   "outputs": [],
   "source": [
    "def procesar_texto(texto):\n",
    "    tokens = word_tokenize(texto)\n",
    "    tokens = [word.lower() for word in tokens if word.isalpha() and word.lower() not in stop_words]\n",
    "    return ' '.join(tokens)\n",
    "\n",
    "data['texto_procesado'] = data['Texto'].apply(procesar_texto)"
   ]
  },
  {
   "cell_type": "code",
   "execution_count": 232,
   "metadata": {},
   "outputs": [
    {
     "data": {
      "text/plain": [
       "<matplotlib.collections.PathCollection at 0x7f3f22116a30>"
      ]
     },
     "execution_count": 232,
     "metadata": {},
     "output_type": "execute_result"
    },
    {
     "data": {
      "image/png": "[encoded data removed]",
      "text/plain": [
       "<Figure size 640x480 with 1 Axes>"
      ]
     },
     "metadata": {},
     "output_type": "display_data"
    }
   ],
   "source": [
    "df_human=data[data[\"Clasificacion\"]==\"Human\"]\n",
    "df_llm=data[data[\"Clasificacion\"]==\"LLM\"]\n",
    "\n",
    "\n",
    "\n",
    "def contar_palabras_mayusculas(texto):\n",
    "    palabras_con_mayusculas = [palabra for palabra in texto.split() if any(letra.isupper() for letra in palabra)]\n",
    "    return len(palabras_con_mayusculas)\n",
    "\n",
    "data['conteo_palabras_mayusculas'] = data['Texto'].apply(contar_palabras_mayusculas)\n",
    "data['type']= data[\"Clasificacion\"].replace([\"LLM\",\"Human\"],[1,0])\n",
    "\n",
    "\n",
    "plt.scatter(data['type'],data['conteo_palabras_mayusculas'] )\n"
   ]
  },
  {
   "cell_type": "code",
   "execution_count": 233,
   "metadata": {},
   "outputs": [
    {
     "data": {
      "text/html": [
       "<div>\n",
       "<style scoped>\n",
       "    .dataframe tbody tr th:only-of-type {\n",
       "        vertical-align: middle;\n",
       "    }\n",
       "\n",
       "    .dataframe tbody tr th {\n",
       "        vertical-align: top;\n",
       "    }\n",
       "\n",
       "    .dataframe thead th {\n",
       "        text-align: right;\n",
       "    }\n",
       "</style>\n",
       "<table border=\"1\" class=\"dataframe\">\n",
       "  <thead>\n",
       "    <tr style=\"text-align: right;\">\n",
       "      <th></th>\n",
       "      <th>Texto</th>\n",
       "      <th>Tipo de fuente</th>\n",
       "      <th>Clasificacion</th>\n",
       "      <th>type</th>\n",
       "      <th>numero_palabras</th>\n",
       "      <th>numero_stopwords</th>\n",
       "      <th>numero_palabras_unicas</th>\n",
       "      <th>numero_puntuacion</th>\n",
       "      <th>stop_words/texto</th>\n",
       "      <th>numero_palabras_unicas/texto</th>\n",
       "      <th>numero_puntuacion/texto</th>\n",
       "      <th>texto_procesado</th>\n",
       "      <th>conteo_palabras_mayusculas</th>\n",
       "    </tr>\n",
       "  </thead>\n",
       "  <tbody>\n",
       "    <tr>\n",
       "      <th>554</th>\n",
       "      <td>sobre este aporte voluntario adicional por la ...</td>\n",
       "      <td>Tweets</td>\n",
       "      <td>Human</td>\n",
       "      <td>0</td>\n",
       "      <td>18</td>\n",
       "      <td>8</td>\n",
       "      <td>18</td>\n",
       "      <td>1</td>\n",
       "      <td>0.444444</td>\n",
       "      <td>1.000000</td>\n",
       "      <td>0.055556</td>\n",
       "      <td>aporte voluntario adicional servicios públicos...</td>\n",
       "      <td>0</td>\n",
       "    </tr>\n",
       "    <tr>\n",
       "      <th>555</th>\n",
       "      <td>en medellín está circulando un video por whats...</td>\n",
       "      <td>Tweets</td>\n",
       "      <td>Human</td>\n",
       "      <td>0</td>\n",
       "      <td>19</td>\n",
       "      <td>10</td>\n",
       "      <td>16</td>\n",
       "      <td>0</td>\n",
       "      <td>0.526316</td>\n",
       "      <td>0.842105</td>\n",
       "      <td>0.000000</td>\n",
       "      <td>medellín circulando video whatsapp aporte volu...</td>\n",
       "      <td>0</td>\n",
       "    </tr>\n",
       "    <tr>\n",
       "      <th>556</th>\n",
       "      <td>un nuevo capítulo hoy acerca del debate sobre ...</td>\n",
       "      <td>Tweets</td>\n",
       "      <td>Human</td>\n",
       "      <td>0</td>\n",
       "      <td>21</td>\n",
       "      <td>9</td>\n",
       "      <td>20</td>\n",
       "      <td>0</td>\n",
       "      <td>0.428571</td>\n",
       "      <td>0.952381</td>\n",
       "      <td>0.000000</td>\n",
       "      <td>nuevo capítulo hoy acerca debate si congreso r...</td>\n",
       "      <td>0</td>\n",
       "    </tr>\n",
       "    <tr>\n",
       "      <th>557</th>\n",
       "      <td>@leydelmontes: “¿en qué momento el carnaval co...</td>\n",
       "      <td>Tweets</td>\n",
       "      <td>Human</td>\n",
       "      <td>0</td>\n",
       "      <td>26</td>\n",
       "      <td>9</td>\n",
       "      <td>24</td>\n",
       "      <td>4</td>\n",
       "      <td>0.346154</td>\n",
       "      <td>0.923077</td>\n",
       "      <td>0.153846</td>\n",
       "      <td>leydelmontes momento carnaval toda alegría des...</td>\n",
       "      <td>0</td>\n",
       "    </tr>\n",
       "    <tr>\n",
       "      <th>558</th>\n",
       "      <td>en esta intervención el senador @antoniosangui...</td>\n",
       "      <td>Tweets</td>\n",
       "      <td>Human</td>\n",
       "      <td>0</td>\n",
       "      <td>19</td>\n",
       "      <td>10</td>\n",
       "      <td>18</td>\n",
       "      <td>1</td>\n",
       "      <td>0.526316</td>\n",
       "      <td>0.947368</td>\n",
       "      <td>0.052632</td>\n",
       "      <td>intervención senador antoniosanguino expone ma...</td>\n",
       "      <td>0</td>\n",
       "    </tr>\n",
       "    <tr>\n",
       "      <th>...</th>\n",
       "      <td>...</td>\n",
       "      <td>...</td>\n",
       "      <td>...</td>\n",
       "      <td>...</td>\n",
       "      <td>...</td>\n",
       "      <td>...</td>\n",
       "      <td>...</td>\n",
       "      <td>...</td>\n",
       "      <td>...</td>\n",
       "      <td>...</td>\n",
       "      <td>...</td>\n",
       "      <td>...</td>\n",
       "      <td>...</td>\n",
       "    </tr>\n",
       "    <tr>\n",
       "      <th>3833</th>\n",
       "      <td>la educación cívica es fundamental para la con...</td>\n",
       "      <td>Tweets</td>\n",
       "      <td>LLM</td>\n",
       "      <td>1</td>\n",
       "      <td>24</td>\n",
       "      <td>11</td>\n",
       "      <td>19</td>\n",
       "      <td>2</td>\n",
       "      <td>0.458333</td>\n",
       "      <td>0.791667</td>\n",
       "      <td>0.083333</td>\n",
       "      <td>educación cívica fundamental construcción soci...</td>\n",
       "      <td>0</td>\n",
       "    </tr>\n",
       "    <tr>\n",
       "      <th>3839</th>\n",
       "      <td>la corrupción es una amenaza para la democraci...</td>\n",
       "      <td>Tweets</td>\n",
       "      <td>LLM</td>\n",
       "      <td>1</td>\n",
       "      <td>26</td>\n",
       "      <td>12</td>\n",
       "      <td>22</td>\n",
       "      <td>2</td>\n",
       "      <td>0.461538</td>\n",
       "      <td>0.846154</td>\n",
       "      <td>0.076923</td>\n",
       "      <td>corrupción amenaza democracia desarrollo país ...</td>\n",
       "      <td>0</td>\n",
       "    </tr>\n",
       "    <tr>\n",
       "      <th>3841</th>\n",
       "      <td>el sistema político necesita una reforma profu...</td>\n",
       "      <td>Tweets</td>\n",
       "      <td>LLM</td>\n",
       "      <td>1</td>\n",
       "      <td>29</td>\n",
       "      <td>12</td>\n",
       "      <td>23</td>\n",
       "      <td>2</td>\n",
       "      <td>0.413793</td>\n",
       "      <td>0.793103</td>\n",
       "      <td>0.068966</td>\n",
       "      <td>sistema político necesita reforma profunda gar...</td>\n",
       "      <td>0</td>\n",
       "    </tr>\n",
       "    <tr>\n",
       "      <th>3844</th>\n",
       "      <td>la violencia y la delincuencia son una amenaza...</td>\n",
       "      <td>Tweets</td>\n",
       "      <td>LLM</td>\n",
       "      <td>1</td>\n",
       "      <td>32</td>\n",
       "      <td>16</td>\n",
       "      <td>24</td>\n",
       "      <td>2</td>\n",
       "      <td>0.500000</td>\n",
       "      <td>0.750000</td>\n",
       "      <td>0.062500</td>\n",
       "      <td>violencia delincuencia amenaza seguridad ciuda...</td>\n",
       "      <td>0</td>\n",
       "    </tr>\n",
       "    <tr>\n",
       "      <th>3845</th>\n",
       "      <td>la educación es la base d. es importante que s...</td>\n",
       "      <td>Tweets</td>\n",
       "      <td>LLM</td>\n",
       "      <td>1</td>\n",
       "      <td>30</td>\n",
       "      <td>18</td>\n",
       "      <td>24</td>\n",
       "      <td>1</td>\n",
       "      <td>0.600000</td>\n",
       "      <td>0.800000</td>\n",
       "      <td>0.033333</td>\n",
       "      <td>educación base importante invierta calidad edu...</td>\n",
       "      <td>0</td>\n",
       "    </tr>\n",
       "  </tbody>\n",
       "</table>\n",
       "<p>2593 rows × 13 columns</p>\n",
       "</div>"
      ],
      "text/plain": [
       "                                                  Texto Tipo de fuente  \\\n",
       "554   sobre este aporte voluntario adicional por la ...         Tweets   \n",
       "555   en medellín está circulando un video por whats...         Tweets   \n",
       "556   un nuevo capítulo hoy acerca del debate sobre ...         Tweets   \n",
       "557   @leydelmontes: “¿en qué momento el carnaval co...         Tweets   \n",
       "558   en esta intervención el senador @antoniosangui...         Tweets   \n",
       "...                                                 ...            ...   \n",
       "3833  la educación cívica es fundamental para la con...         Tweets   \n",
       "3839  la corrupción es una amenaza para la democraci...         Tweets   \n",
       "3841  el sistema político necesita una reforma profu...         Tweets   \n",
       "3844  la violencia y la delincuencia son una amenaza...         Tweets   \n",
       "3845  la educación es la base d. es importante que s...         Tweets   \n",
       "\n",
       "     Clasificacion  type  numero_palabras  numero_stopwords  \\\n",
       "554          Human     0               18                 8   \n",
       "555          Human     0               19                10   \n",
       "556          Human     0               21                 9   \n",
       "557          Human     0               26                 9   \n",
       "558          Human     0               19                10   \n",
       "...            ...   ...              ...               ...   \n",
       "3833           LLM     1               24                11   \n",
       "3839           LLM     1               26                12   \n",
       "3841           LLM     1               29                12   \n",
       "3844           LLM     1               32                16   \n",
       "3845           LLM     1               30                18   \n",
       "\n",
       "      numero_palabras_unicas  numero_puntuacion  stop_words/texto  \\\n",
       "554                       18                  1          0.444444   \n",
       "555                       16                  0          0.526316   \n",
       "556                       20                  0          0.428571   \n",
       "557                       24                  4          0.346154   \n",
       "558                       18                  1          0.526316   \n",
       "...                      ...                ...               ...   \n",
       "3833                      19                  2          0.458333   \n",
       "3839                      22                  2          0.461538   \n",
       "3841                      23                  2          0.413793   \n",
       "3844                      24                  2          0.500000   \n",
       "3845                      24                  1          0.600000   \n",
       "\n",
       "      numero_palabras_unicas/texto  numero_puntuacion/texto  \\\n",
       "554                       1.000000                 0.055556   \n",
       "555                       0.842105                 0.000000   \n",
       "556                       0.952381                 0.000000   \n",
       "557                       0.923077                 0.153846   \n",
       "558                       0.947368                 0.052632   \n",
       "...                            ...                      ...   \n",
       "3833                      0.791667                 0.083333   \n",
       "3839                      0.846154                 0.076923   \n",
       "3841                      0.793103                 0.068966   \n",
       "3844                      0.750000                 0.062500   \n",
       "3845                      0.800000                 0.033333   \n",
       "\n",
       "                                        texto_procesado  \\\n",
       "554   aporte voluntario adicional servicios públicos...   \n",
       "555   medellín circulando video whatsapp aporte volu...   \n",
       "556   nuevo capítulo hoy acerca debate si congreso r...   \n",
       "557   leydelmontes momento carnaval toda alegría des...   \n",
       "558   intervención senador antoniosanguino expone ma...   \n",
       "...                                                 ...   \n",
       "3833  educación cívica fundamental construcción soci...   \n",
       "3839  corrupción amenaza democracia desarrollo país ...   \n",
       "3841  sistema político necesita reforma profunda gar...   \n",
       "3844  violencia delincuencia amenaza seguridad ciuda...   \n",
       "3845  educación base importante invierta calidad edu...   \n",
       "\n",
       "      conteo_palabras_mayusculas  \n",
       "554                            0  \n",
       "555                            0  \n",
       "556                            0  \n",
       "557                            0  \n",
       "558                            0  \n",
       "...                          ...  \n",
       "3833                           0  \n",
       "3839                           0  \n",
       "3841                           0  \n",
       "3844                           0  \n",
       "3845                           0  \n",
       "\n",
       "[2593 rows x 13 columns]"
      ]
     },
     "execution_count": 233,
     "metadata": {},
     "output_type": "execute_result"
    }
   ],
   "source": [
    "data\n",
    "\n"
   ]
  },
  {
   "cell_type": "code",
   "execution_count": 234,
   "metadata": {},
   "outputs": [],
   "source": [
    "import string\n",
    "def contar_signos_puntuacion(texto):\n",
    "    cantidad_signos = len([c for c in texto.split() if c in string.punctuation])\n",
    "\n",
    "    return cantidad_signos\n",
    "\n",
    "data['conteo_signos_puntuacion'] = data['Texto'].apply(contar_signos_puntuacion)\n",
    "\n"
   ]
  },
  {
   "cell_type": "code",
   "execution_count": 235,
   "metadata": {},
   "outputs": [
    {
     "name": "stdout",
     "output_type": "stream",
     "text": [
      "125\n",
      "120\n"
     ]
    }
   ],
   "source": [
    "puntuacion_human=data[data[\"Clasificacion\"]==\"Human\"]['conteo_signos_puntuacion'].sum()\n",
    "puntuacion_llm=data[data[\"Clasificacion\"]==\"LLM\"]['conteo_signos_puntuacion'].sum()\n",
    "\n",
    "print(puntuacion_human)\n",
    "print(puntuacion_llm)"
   ]
  },
  {
   "cell_type": "code",
   "execution_count": 236,
   "metadata": {},
   "outputs": [
    {
     "data": {
      "text/html": [
       "<div>\n",
       "<style scoped>\n",
       "    .dataframe tbody tr th:only-of-type {\n",
       "        vertical-align: middle;\n",
       "    }\n",
       "\n",
       "    .dataframe tbody tr th {\n",
       "        vertical-align: top;\n",
       "    }\n",
       "\n",
       "    .dataframe thead th {\n",
       "        text-align: right;\n",
       "    }\n",
       "</style>\n",
       "<table border=\"1\" class=\"dataframe\">\n",
       "  <thead>\n",
       "    <tr style=\"text-align: right;\">\n",
       "      <th></th>\n",
       "      <th>Texto</th>\n",
       "      <th>Tipo de fuente</th>\n",
       "      <th>Clasificacion</th>\n",
       "      <th>type</th>\n",
       "      <th>numero_palabras</th>\n",
       "      <th>numero_stopwords</th>\n",
       "      <th>numero_palabras_unicas</th>\n",
       "      <th>numero_puntuacion</th>\n",
       "      <th>stop_words/texto</th>\n",
       "      <th>numero_palabras_unicas/texto</th>\n",
       "      <th>numero_puntuacion/texto</th>\n",
       "      <th>texto_procesado</th>\n",
       "      <th>conteo_palabras_mayusculas</th>\n",
       "      <th>conteo_signos_puntuacion</th>\n",
       "    </tr>\n",
       "  </thead>\n",
       "  <tbody>\n",
       "    <tr>\n",
       "      <th>554</th>\n",
       "      <td>sobre este aporte voluntario adicional por la ...</td>\n",
       "      <td>Tweets</td>\n",
       "      <td>Human</td>\n",
       "      <td>0</td>\n",
       "      <td>18</td>\n",
       "      <td>8</td>\n",
       "      <td>18</td>\n",
       "      <td>1</td>\n",
       "      <td>0.444444</td>\n",
       "      <td>1.000000</td>\n",
       "      <td>0.055556</td>\n",
       "      <td>aporte voluntario adicional servicios públicos...</td>\n",
       "      <td>0</td>\n",
       "      <td>0</td>\n",
       "    </tr>\n",
       "    <tr>\n",
       "      <th>555</th>\n",
       "      <td>en medellín está circulando un video por whats...</td>\n",
       "      <td>Tweets</td>\n",
       "      <td>Human</td>\n",
       "      <td>0</td>\n",
       "      <td>19</td>\n",
       "      <td>10</td>\n",
       "      <td>16</td>\n",
       "      <td>0</td>\n",
       "      <td>0.526316</td>\n",
       "      <td>0.842105</td>\n",
       "      <td>0.000000</td>\n",
       "      <td>medellín circulando video whatsapp aporte volu...</td>\n",
       "      <td>0</td>\n",
       "      <td>0</td>\n",
       "    </tr>\n",
       "    <tr>\n",
       "      <th>556</th>\n",
       "      <td>un nuevo capítulo hoy acerca del debate sobre ...</td>\n",
       "      <td>Tweets</td>\n",
       "      <td>Human</td>\n",
       "      <td>0</td>\n",
       "      <td>21</td>\n",
       "      <td>9</td>\n",
       "      <td>20</td>\n",
       "      <td>0</td>\n",
       "      <td>0.428571</td>\n",
       "      <td>0.952381</td>\n",
       "      <td>0.000000</td>\n",
       "      <td>nuevo capítulo hoy acerca debate si congreso r...</td>\n",
       "      <td>0</td>\n",
       "      <td>0</td>\n",
       "    </tr>\n",
       "    <tr>\n",
       "      <th>557</th>\n",
       "      <td>@leydelmontes: “¿en qué momento el carnaval co...</td>\n",
       "      <td>Tweets</td>\n",
       "      <td>Human</td>\n",
       "      <td>0</td>\n",
       "      <td>26</td>\n",
       "      <td>9</td>\n",
       "      <td>24</td>\n",
       "      <td>4</td>\n",
       "      <td>0.346154</td>\n",
       "      <td>0.923077</td>\n",
       "      <td>0.153846</td>\n",
       "      <td>leydelmontes momento carnaval toda alegría des...</td>\n",
       "      <td>0</td>\n",
       "      <td>0</td>\n",
       "    </tr>\n",
       "    <tr>\n",
       "      <th>558</th>\n",
       "      <td>en esta intervención el senador @antoniosangui...</td>\n",
       "      <td>Tweets</td>\n",
       "      <td>Human</td>\n",
       "      <td>0</td>\n",
       "      <td>19</td>\n",
       "      <td>10</td>\n",
       "      <td>18</td>\n",
       "      <td>1</td>\n",
       "      <td>0.526316</td>\n",
       "      <td>0.947368</td>\n",
       "      <td>0.052632</td>\n",
       "      <td>intervención senador antoniosanguino expone ma...</td>\n",
       "      <td>0</td>\n",
       "      <td>0</td>\n",
       "    </tr>\n",
       "    <tr>\n",
       "      <th>...</th>\n",
       "      <td>...</td>\n",
       "      <td>...</td>\n",
       "      <td>...</td>\n",
       "      <td>...</td>\n",
       "      <td>...</td>\n",
       "      <td>...</td>\n",
       "      <td>...</td>\n",
       "      <td>...</td>\n",
       "      <td>...</td>\n",
       "      <td>...</td>\n",
       "      <td>...</td>\n",
       "      <td>...</td>\n",
       "      <td>...</td>\n",
       "      <td>...</td>\n",
       "    </tr>\n",
       "    <tr>\n",
       "      <th>3833</th>\n",
       "      <td>la educación cívica es fundamental para la con...</td>\n",
       "      <td>Tweets</td>\n",
       "      <td>LLM</td>\n",
       "      <td>1</td>\n",
       "      <td>24</td>\n",
       "      <td>11</td>\n",
       "      <td>19</td>\n",
       "      <td>2</td>\n",
       "      <td>0.458333</td>\n",
       "      <td>0.791667</td>\n",
       "      <td>0.083333</td>\n",
       "      <td>educación cívica fundamental construcción soci...</td>\n",
       "      <td>0</td>\n",
       "      <td>0</td>\n",
       "    </tr>\n",
       "    <tr>\n",
       "      <th>3839</th>\n",
       "      <td>la corrupción es una amenaza para la democraci...</td>\n",
       "      <td>Tweets</td>\n",
       "      <td>LLM</td>\n",
       "      <td>1</td>\n",
       "      <td>26</td>\n",
       "      <td>12</td>\n",
       "      <td>22</td>\n",
       "      <td>2</td>\n",
       "      <td>0.461538</td>\n",
       "      <td>0.846154</td>\n",
       "      <td>0.076923</td>\n",
       "      <td>corrupción amenaza democracia desarrollo país ...</td>\n",
       "      <td>0</td>\n",
       "      <td>0</td>\n",
       "    </tr>\n",
       "    <tr>\n",
       "      <th>3841</th>\n",
       "      <td>el sistema político necesita una reforma profu...</td>\n",
       "      <td>Tweets</td>\n",
       "      <td>LLM</td>\n",
       "      <td>1</td>\n",
       "      <td>29</td>\n",
       "      <td>12</td>\n",
       "      <td>23</td>\n",
       "      <td>2</td>\n",
       "      <td>0.413793</td>\n",
       "      <td>0.793103</td>\n",
       "      <td>0.068966</td>\n",
       "      <td>sistema político necesita reforma profunda gar...</td>\n",
       "      <td>0</td>\n",
       "      <td>0</td>\n",
       "    </tr>\n",
       "    <tr>\n",
       "      <th>3844</th>\n",
       "      <td>la violencia y la delincuencia son una amenaza...</td>\n",
       "      <td>Tweets</td>\n",
       "      <td>LLM</td>\n",
       "      <td>1</td>\n",
       "      <td>32</td>\n",
       "      <td>16</td>\n",
       "      <td>24</td>\n",
       "      <td>2</td>\n",
       "      <td>0.500000</td>\n",
       "      <td>0.750000</td>\n",
       "      <td>0.062500</td>\n",
       "      <td>violencia delincuencia amenaza seguridad ciuda...</td>\n",
       "      <td>0</td>\n",
       "      <td>0</td>\n",
       "    </tr>\n",
       "    <tr>\n",
       "      <th>3845</th>\n",
       "      <td>la educación es la base d. es importante que s...</td>\n",
       "      <td>Tweets</td>\n",
       "      <td>LLM</td>\n",
       "      <td>1</td>\n",
       "      <td>30</td>\n",
       "      <td>18</td>\n",
       "      <td>24</td>\n",
       "      <td>1</td>\n",
       "      <td>0.600000</td>\n",
       "      <td>0.800000</td>\n",
       "      <td>0.033333</td>\n",
       "      <td>educación base importante invierta calidad edu...</td>\n",
       "      <td>0</td>\n",
       "      <td>0</td>\n",
       "    </tr>\n",
       "  </tbody>\n",
       "</table>\n",
       "<p>2593 rows × 14 columns</p>\n",
       "</div>"
      ],
      "text/plain": [
       "                                                  Texto Tipo de fuente  \\\n",
       "554   sobre este aporte voluntario adicional por la ...         Tweets   \n",
       "555   en medellín está circulando un video por whats...         Tweets   \n",
       "556   un nuevo capítulo hoy acerca del debate sobre ...         Tweets   \n",
       "557   @leydelmontes: “¿en qué momento el carnaval co...         Tweets   \n",
       "558   en esta intervención el senador @antoniosangui...         Tweets   \n",
       "...                                                 ...            ...   \n",
       "3833  la educación cívica es fundamental para la con...         Tweets   \n",
       "3839  la corrupción es una amenaza para la democraci...         Tweets   \n",
       "3841  el sistema político necesita una reforma profu...         Tweets   \n",
       "3844  la violencia y la delincuencia son una amenaza...         Tweets   \n",
       "3845  la educación es la base d. es importante que s...         Tweets   \n",
       "\n",
       "     Clasificacion  type  numero_palabras  numero_stopwords  \\\n",
       "554          Human     0               18                 8   \n",
       "555          Human     0               19                10   \n",
       "556          Human     0               21                 9   \n",
       "557          Human     0               26                 9   \n",
       "558          Human     0               19                10   \n",
       "...            ...   ...              ...               ...   \n",
       "3833           LLM     1               24                11   \n",
       "3839           LLM     1               26                12   \n",
       "3841           LLM     1               29                12   \n",
       "3844           LLM     1               32                16   \n",
       "3845           LLM     1               30                18   \n",
       "\n",
       "      numero_palabras_unicas  numero_puntuacion  stop_words/texto  \\\n",
       "554                       18                  1          0.444444   \n",
       "555                       16                  0          0.526316   \n",
       "556                       20                  0          0.428571   \n",
       "557                       24                  4          0.346154   \n",
       "558                       18                  1          0.526316   \n",
       "...                      ...                ...               ...   \n",
       "3833                      19                  2          0.458333   \n",
       "3839                      22                  2          0.461538   \n",
       "3841                      23                  2          0.413793   \n",
       "3844                      24                  2          0.500000   \n",
       "3845                      24                  1          0.600000   \n",
       "\n",
       "      numero_palabras_unicas/texto  numero_puntuacion/texto  \\\n",
       "554                       1.000000                 0.055556   \n",
       "555                       0.842105                 0.000000   \n",
       "556                       0.952381                 0.000000   \n",
       "557                       0.923077                 0.153846   \n",
       "558                       0.947368                 0.052632   \n",
       "...                            ...                      ...   \n",
       "3833                      0.791667                 0.083333   \n",
       "3839                      0.846154                 0.076923   \n",
       "3841                      0.793103                 0.068966   \n",
       "3844                      0.750000                 0.062500   \n",
       "3845                      0.800000                 0.033333   \n",
       "\n",
       "                                        texto_procesado  \\\n",
       "554   aporte voluntario adicional servicios públicos...   \n",
       "555   medellín circulando video whatsapp aporte volu...   \n",
       "556   nuevo capítulo hoy acerca debate si congreso r...   \n",
       "557   leydelmontes momento carnaval toda alegría des...   \n",
       "558   intervención senador antoniosanguino expone ma...   \n",
       "...                                                 ...   \n",
       "3833  educación cívica fundamental construcción soci...   \n",
       "3839  corrupción amenaza democracia desarrollo país ...   \n",
       "3841  sistema político necesita reforma profunda gar...   \n",
       "3844  violencia delincuencia amenaza seguridad ciuda...   \n",
       "3845  educación base importante invierta calidad edu...   \n",
       "\n",
       "      conteo_palabras_mayusculas  conteo_signos_puntuacion  \n",
       "554                            0                         0  \n",
       "555                            0                         0  \n",
       "556                            0                         0  \n",
       "557                            0                         0  \n",
       "558                            0                         0  \n",
       "...                          ...                       ...  \n",
       "3833                           0                         0  \n",
       "3839                           0                         0  \n",
       "3841                           0                         0  \n",
       "3844                           0                         0  \n",
       "3845                           0                         0  \n",
       "\n",
       "[2593 rows x 14 columns]"
      ]
     },
     "execution_count": 236,
     "metadata": {},
     "output_type": "execute_result"
    }
   ],
   "source": [
    "data"
   ]
  },
  {
   "cell_type": "code",
   "execution_count": 237,
   "metadata": {},
   "outputs": [
    {
     "ename": "KeyError",
     "evalue": "'conteo_palabras_mayusculas'",
     "output_type": "error",
     "traceback": [
      "\u001b[0;31m---------------------------------------------------------------------------\u001b[0m",
      "\u001b[0;31mKeyError\u001b[0m                                  Traceback (most recent call last)",
      "File \u001b[0;32m~/anaconda3/envs/datasc/lib/python3.8/site-packages/pandas/core/indexes/base.py:3653\u001b[0m, in \u001b[0;36mIndex.get_loc\u001b[0;34m(self, key)\u001b[0m\n\u001b[1;32m   3652\u001b[0m \u001b[39mtry\u001b[39;00m:\n\u001b[0;32m-> 3653\u001b[0m     \u001b[39mreturn\u001b[39;00m \u001b[39mself\u001b[39;49m\u001b[39m.\u001b[39;49m_engine\u001b[39m.\u001b[39;49mget_loc(casted_key)\n\u001b[1;32m   3654\u001b[0m \u001b[39mexcept\u001b[39;00m \u001b[39mKeyError\u001b[39;00m \u001b[39mas\u001b[39;00m err:\n",
      "File \u001b[0;32m~/anaconda3/envs/datasc/lib/python3.8/site-packages/pandas/_libs/index.pyx:147\u001b[0m, in \u001b[0;36mpandas._libs.index.IndexEngine.get_loc\u001b[0;34m()\u001b[0m\n",
      "File \u001b[0;32m~/anaconda3/envs/datasc/lib/python3.8/site-packages/pandas/_libs/index.pyx:176\u001b[0m, in \u001b[0;36mpandas._libs.index.IndexEngine.get_loc\u001b[0;34m()\u001b[0m\n",
      "File \u001b[0;32mpandas/_libs/hashtable_class_helper.pxi:7080\u001b[0m, in \u001b[0;36mpandas._libs.hashtable.PyObjectHashTable.get_item\u001b[0;34m()\u001b[0m\n",
      "File \u001b[0;32mpandas/_libs/hashtable_class_helper.pxi:7088\u001b[0m, in \u001b[0;36mpandas._libs.hashtable.PyObjectHashTable.get_item\u001b[0;34m()\u001b[0m\n",
      "\u001b[0;31mKeyError\u001b[0m: 'conteo_palabras_mayusculas'",
      "\nThe above exception was the direct cause of the following exception:\n",
      "\u001b[0;31mKeyError\u001b[0m                                  Traceback (most recent call last)",
      "\u001b[1;32m/home/sergio/Desktop/Courses/Prueba Técnica/Data scientist Challenge.ipynb Cell 41\u001b[0m line \u001b[0;36m1\n\u001b[0;32m----> <a href='vscode-notebook-cell:/home/sergio/Desktop/Courses/Prueba%20T%C3%A9cnica/Data%20scientist%20Challenge.ipynb#X62sZmlsZQ%3D%3D?line=0'>1</a>\u001b[0m df_llm[\u001b[39m'\u001b[39;49m\u001b[39mconteo_palabras_mayusculas\u001b[39;49m\u001b[39m'\u001b[39;49m]\u001b[39m.\u001b[39msum()\n",
      "File \u001b[0;32m~/anaconda3/envs/datasc/lib/python3.8/site-packages/pandas/core/frame.py:3761\u001b[0m, in \u001b[0;36mDataFrame.__getitem__\u001b[0;34m(self, key)\u001b[0m\n\u001b[1;32m   3759\u001b[0m \u001b[39mif\u001b[39;00m \u001b[39mself\u001b[39m\u001b[39m.\u001b[39mcolumns\u001b[39m.\u001b[39mnlevels \u001b[39m>\u001b[39m \u001b[39m1\u001b[39m:\n\u001b[1;32m   3760\u001b[0m     \u001b[39mreturn\u001b[39;00m \u001b[39mself\u001b[39m\u001b[39m.\u001b[39m_getitem_multilevel(key)\n\u001b[0;32m-> 3761\u001b[0m indexer \u001b[39m=\u001b[39m \u001b[39mself\u001b[39;49m\u001b[39m.\u001b[39;49mcolumns\u001b[39m.\u001b[39;49mget_loc(key)\n\u001b[1;32m   3762\u001b[0m \u001b[39mif\u001b[39;00m is_integer(indexer):\n\u001b[1;32m   3763\u001b[0m     indexer \u001b[39m=\u001b[39m [indexer]\n",
      "File \u001b[0;32m~/anaconda3/envs/datasc/lib/python3.8/site-packages/pandas/core/indexes/base.py:3655\u001b[0m, in \u001b[0;36mIndex.get_loc\u001b[0;34m(self, key)\u001b[0m\n\u001b[1;32m   3653\u001b[0m     \u001b[39mreturn\u001b[39;00m \u001b[39mself\u001b[39m\u001b[39m.\u001b[39m_engine\u001b[39m.\u001b[39mget_loc(casted_key)\n\u001b[1;32m   3654\u001b[0m \u001b[39mexcept\u001b[39;00m \u001b[39mKeyError\u001b[39;00m \u001b[39mas\u001b[39;00m err:\n\u001b[0;32m-> 3655\u001b[0m     \u001b[39mraise\u001b[39;00m \u001b[39mKeyError\u001b[39;00m(key) \u001b[39mfrom\u001b[39;00m \u001b[39merr\u001b[39;00m\n\u001b[1;32m   3656\u001b[0m \u001b[39mexcept\u001b[39;00m \u001b[39mTypeError\u001b[39;00m:\n\u001b[1;32m   3657\u001b[0m     \u001b[39m# If we have a listlike key, _check_indexing_error will raise\u001b[39;00m\n\u001b[1;32m   3658\u001b[0m     \u001b[39m#  InvalidIndexError. Otherwise we fall through and re-raise\u001b[39;00m\n\u001b[1;32m   3659\u001b[0m     \u001b[39m#  the TypeError.\u001b[39;00m\n\u001b[1;32m   3660\u001b[0m     \u001b[39mself\u001b[39m\u001b[39m.\u001b[39m_check_indexing_error(key)\n",
      "\u001b[0;31mKeyError\u001b[0m: 'conteo_palabras_mayusculas'"
     ]
    }
   ],
   "source": [
    "df_llm['conteo_palabras_mayusculas'].sum()\n"
   ]
  },
  {
   "cell_type": "code",
   "execution_count": null,
   "metadata": {},
   "outputs": [
    {
     "data": {
      "text/plain": [
       "34825"
      ]
     },
     "execution_count": 65,
     "metadata": {},
     "output_type": "execute_result"
    }
   ],
   "source": [
    "df_human['conteo_palabras_mayusculas'].sum()"
   ]
  },
  {
   "cell_type": "code",
   "execution_count": null,
   "metadata": {},
   "outputs": [],
   "source": [
    "most_cuerrent_words_human=pd.Series(' '.join(df_human['texto_procesado']).lower().split()).value_counts()[:100]\n",
    "most_cuerrent_words_llm=pd.Series(' '.join(df_llm['texto_procesado']).lower().split()).value_counts()[:100]"
   ]
  },
  {
   "cell_type": "code",
   "execution_count": null,
   "metadata": {},
   "outputs": [
    {
     "name": "stdout",
     "output_type": "stream",
     "text": [
      "(1934, 5)\n",
      "(1914, 5)\n"
     ]
    }
   ],
   "source": [
    "print(df_human.shape)\n",
    "print(df_llm.shape)"
   ]
  }
 ],
 "metadata": {
  "kernelspec": {
   "display_name": "datasc",
   "language": "python",
   "name": "python3"
  },
  "language_info": {
   "codemirror_mode": {
    "name": "ipython",
    "version": 3
   },
   "file_extension": ".py",
   "mimetype": "text/x-python",
   "name": "python",
   "nbconvert_exporter": "python",
   "pygments_lexer": "ipython3",
   "version": "3.8.5"
  }
 },
 "nbformat": 4,
 "nbformat_minor": 2
}
