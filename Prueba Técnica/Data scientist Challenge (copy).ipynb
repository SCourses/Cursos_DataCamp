{
 "cells": [
  {
   "cell_type": "markdown",
   "metadata": {},
   "source": [
    "# CIGO Data scientist Challenge"
   ]
  },
  {
   "cell_type": "markdown",
   "metadata": {},
   "source": [
    "## Motivación "
   ]
  },
  {
   "cell_type": "markdown",
   "metadata": {},
   "source": [
    "Somos un centro de Transformación Digital Interna que busca de manera innovadora mejorar los procesos del Banco adoptando prácticas ágiles\n",
    "\n",
    "Nos encargamos de impulsar las iniciativas de los funcionarios como si fueran Emprendedores, Tomamos el concepto de incubadoras acompañándolos y empoderándolos  para que sus iniciativas sean materializadas con mínimas soluciones viables, rápidas y eficientes.\n",
    "\n",
    "En CIGO buscamos explorar nuevas iniciativas  con Inteligencia artificial que nos permita aumentar la productividad y los espacios de trabajo de tal forma podamos tener un crecimiento exponencial en ingresos y disminución de costos administrativos, en el equipo CIGO buscamos transformar el Banco con nuevas tendencias tecnológicas y nuevas formas de trabajo."
   ]
  },
  {
   "cell_type": "markdown",
   "metadata": {},
   "source": [
    "## Consigna "
   ]
  },
  {
   "cell_type": "markdown",
   "metadata": {},
   "source": [
    "El objetivo de este desafío consiste en utilizar un conjunto de datos proporcionados\n",
    "\n",
    "El cual consiste en textos generados tanto por Modelos de Lenguaje Largos (LLM) tales como Chatgpt, Llama2 entre otros, como por autores humanos.  El reto es doble:"
   ]
  },
  {
   "cell_type": "markdown",
   "metadata": {},
   "source": [
    "### Análisis de estilo: "
   ]
  },
  {
   "cell_type": "markdown",
   "metadata": {},
   "source": [
    "Realizar el proceso de exploración y análisis sobre los textos para cada texto (EDA), logrando identificar elementos o aspectos distintivos en el estilo de texto generado por los LLMs en comparación con los creados por los humanos."
   ]
  },
  {
   "cell_type": "code",
   "execution_count": 441,
   "metadata": {},
   "outputs": [
    {
     "name": "stderr",
     "output_type": "stream",
     "text": [
      "[nltk_data] Downloading package stopwords to /home/sergio/nltk_data...\n",
      "[nltk_data]   Package stopwords is already up-to-date!\n"
     ]
    }
   ],
   "source": [
    "#libreriaa necesarias\n",
    "#nltk\n",
    "import nltk\n",
    "nltk.download('stopwords')\n",
    "import pandas as pd\n",
    "from nltk.tokenize import word_tokenize\n",
    "from nltk.corpus import stopwords\n",
    "from nltk.stem import PorterStemmer\n",
    "from nltk.tokenize import TweetTokenizer\n",
    "#tensorflow-keras\n",
    "from tensorflow import keras\n",
    "from keras.models import Sequential\n",
    "from keras.layers import Dense, Activation, Dropout\n",
    "from keras.preprocessing import text, sequence\n",
    "from keras import utils\n",
    "\n",
    "#sklearn\n",
    "from sklearn.metrics import accuracy_score\n",
    "from sklearn.feature_extraction.text import CountVectorizer,TfidfTransformer\n",
    "from sklearn.pipeline import Pipeline\n",
    "from sklearn.model_selection import train_test_split\n",
    "from sklearn.preprocessing import LabelEncoder\n",
    "\n",
    "\n",
    "import matplotlib.pyplot as plt\n",
    "import numpy as np\n",
    "import re\n",
    "import string\n",
    "\n",
    "\n"
   ]
  },
  {
   "cell_type": "code",
   "execution_count": 442,
   "metadata": {},
   "outputs": [],
   "source": [
    "#importamos los datos\n",
    "data=pd.read_excel(\"database_clean.xlsx\")\n",
    "data.drop_duplicates(inplace=True)"
   ]
  },
  {
   "cell_type": "markdown",
   "metadata": {},
   "source": [
    "### Clasificación de textos:"
   ]
  },
  {
   "cell_type": "markdown",
   "metadata": {},
   "source": [
    "Desarrollar un modelo de aprendizaje automático capaz de realizar la clasificación de los textos según autoría es decir basándose en la columna clasificación y un modelo por cada tipo de fuente, reportando sus respectivas métricas F1, matriz de confusión o la que considere pertinente para este caso de uso. RECOMENDACIÓN: Para el último punto puede iterar el mismo modelo por cada tipo de fuente y generar los resultados y métricas."
   ]
  },
  {
   "cell_type": "markdown",
   "metadata": {},
   "source": [
    "### Prerocesamiento de los datos"
   ]
  },
  {
   "cell_type": "markdown",
   "metadata": {},
   "source": [
    "Se dividen los datos entre train y test"
   ]
  },
  {
   "cell_type": "markdown",
   "metadata": {},
   "source": [
    "Se inicia con el modelo de clasificar el tipo de fuente, primero se intenta con una maquina de soporte vectorial lineal "
   ]
  },
  {
   "cell_type": "markdown",
   "metadata": {},
   "source": [
    "Resultados:\n",
    "\n",
    "-as"
   ]
  },
  {
   "cell_type": "markdown",
   "metadata": {},
   "source": [
    "Ahora intentamos con bag of words con keras"
   ]
  },
  {
   "cell_type": "code",
   "execution_count": 443,
   "metadata": {},
   "outputs": [],
   "source": [
    "# Se corrigen algunos caracteres existentes en los textos, como lo son errores en lectura de tíldes y simbolos caracteristicos usados en tweets\n",
    "def prerpocesamiento(texto):\n",
    "    diccionario_tildes= {\n",
    "        \"Ã¡\": \"á\",\n",
    "        \"Ã©\": \"é\",\n",
    "        \"Ã\": \"í\",\n",
    "        \"Ã³\": \"ó\",\n",
    "        \"Ãº\": \"ú\",\n",
    "        \"Ã±\": \"ñ\",\n",
    "    }\n",
    "    for mal_codificado, bien_codificado in diccionario_tildes.items():\n",
    "        texto = texto.replace(mal_codificado, bien_codificado)\n",
    "\n",
    "    #preprocesamiento para los tweets\n",
    "    # remover el símbolo de retweet \"rt\"\n",
    "    texto = re.sub(r'^RT[\\s]+', '', texto)\n",
    "    # remover los liks\n",
    "    texto = re.sub(r'https?://[^\\s\\n\\r]+', '', texto)\n",
    "\n",
    "    # remover hashtags\n",
    "    # osolo se remueven los # de las palabras\n",
    "    texto = re.sub(r'#', '', texto)\n",
    "\n",
    "\n",
    "\n",
    "    return texto\n",
    "\n",
    "data.drop_duplicates(inplace=True)\n",
    "#Corrección de caracteres existentes en los textos\n",
    "data[\"Texto\"]=data[\"Texto\"].str.replace('\\xad', '')\n",
    "#Correccipón de tíldes\n",
    "data[\"Texto\"]=data[\"Texto\"].apply(prerpocesamiento)\n",
    "data['type']= data[\"Clasificacion\"].replace([\"LLM\",\"Human\"],[1,0])\n"
   ]
  },
  {
   "cell_type": "code",
   "execution_count": 444,
   "metadata": {},
   "outputs": [],
   "source": [
    "stop_words = set(stopwords.words('spanish'))"
   ]
  },
  {
   "cell_type": "code",
   "execution_count": 451,
   "metadata": {},
   "outputs": [],
   "source": [
    "def total_palabras(texto):\n",
    "    total=len(word_tokenize(texto))\n",
    "    return total\n",
    "\n",
    "def numero_stop_words_por_texto(texto,):\n",
    "    total=total_palabras(texto)\n",
    "    texto=word_tokenize(texto)\n",
    "    stopwords_x = [w for w in texto if w in stop_words]\n",
    "    num_stopw=len(stopwords_x)\n",
    "    num_stopw_per_total= num_stopw / total if total else 0\n",
    "    return num_stopw_per_total\n",
    "\n",
    "def numero_palabras_unicas_por_texto(texto):\n",
    "    total=total_palabras(texto)\n",
    "    texto=word_tokenize(texto)\n",
    "    unicos = len([*set(texto)])\n",
    "    unicos_per_text=unicos / total if total else 0\n",
    "    return unicos_per_text\n",
    "\n",
    "def palabras_mayusculas_por_texto(texto):\n",
    "    total=total_palabras(texto)\n",
    "    palabras_con_mayusculas = len([palabra for palabra in texto.split() if any(letra.isupper() for letra in palabra)])\n",
    "    palabras_con_mayusculas_per_text=palabras_con_mayusculas / total if total else 0\n",
    "    return palabras_con_mayusculas_per_text\n",
    "\n",
    "def signos_puntuacion_por_texto(texto):\n",
    "    total=total_palabras(texto)\n",
    "    cantidad_signos = lambda l1, l2: len(list(filter(lambda c: c in l2, l1)))\n",
    "    num=cantidad_signos(texto, string.punctuation)\n",
    "    return num / total if total else 0\n",
    "\n",
    "def palabras_repetidas_por_texto(texto):\n",
    "    total=total_palabras(texto)\n",
    "    conteo_palabra = {}\n",
    "    words = word_tokenize(texto)\n",
    "    for palabra in words:\n",
    "        # Remove punctuation if necessary, convert to lowercase, etc.\n",
    "        palabra = palabra.strip().lower()  # Adjust as needed\n",
    "        conteo_palabra[palabra] = conteo_palabra.get(palabra, 0) + 1\n",
    "    num=np.sum(np.array(list(conteo_palabra.values()))-1)\n",
    "    return num / total if total else 0\n",
    "\n",
    "\n",
    "\n"
   ]
  },
  {
   "cell_type": "code",
   "execution_count": 452,
   "metadata": {},
   "outputs": [],
   "source": [
    "data[\"stop_words/texto\"]=data[\"Texto\"].apply(numero_stop_words_por_texto)\n",
    "data[\"numero_palabras_unicas/texto\"]=data[\"Texto\"].apply(numero_palabras_unicas_por_texto)\n",
    "data[\"signos_puntuacion/texto\"]=data[\"Texto\"].apply(signos_puntuacion_por_texto)\n",
    "data[\"palabras_mayusculas/texto\"]=data[\"Texto\"].apply(palabras_mayusculas_por_texto)\n",
    "data[\"palabras_repetidas/texto\"]=data[\"Texto\"].apply(palabras_repetidas_por_texto)\n"
   ]
  },
  {
   "cell_type": "code",
   "execution_count": 455,
   "metadata": {},
   "outputs": [
    {
     "data": {
      "text/html": [
       "<div>\n",
       "<style scoped>\n",
       "    .dataframe tbody tr th:only-of-type {\n",
       "        vertical-align: middle;\n",
       "    }\n",
       "\n",
       "    .dataframe tbody tr th {\n",
       "        vertical-align: top;\n",
       "    }\n",
       "\n",
       "    .dataframe thead th {\n",
       "        text-align: right;\n",
       "    }\n",
       "</style>\n",
       "<table border=\"1\" class=\"dataframe\">\n",
       "  <thead>\n",
       "    <tr style=\"text-align: right;\">\n",
       "      <th></th>\n",
       "      <th>Texto</th>\n",
       "      <th>Tipo de fuente</th>\n",
       "      <th>Clasificacion</th>\n",
       "      <th>type</th>\n",
       "      <th>stop_words/texto</th>\n",
       "      <th>numero_palabras_unicas/texto</th>\n",
       "      <th>signos_puntuacion/texto</th>\n",
       "      <th>palabras_mayusculas/texto</th>\n",
       "      <th>palabras_repetidas/texto</th>\n",
       "    </tr>\n",
       "  </thead>\n",
       "  <tbody>\n",
       "    <tr>\n",
       "      <th>0</th>\n",
       "      <td>El rey de los animales Se reunieron los animal...</td>\n",
       "      <td>Cuentos</td>\n",
       "      <td>Human</td>\n",
       "      <td>0</td>\n",
       "      <td>0.370892</td>\n",
       "      <td>0.376761</td>\n",
       "      <td>0.166667</td>\n",
       "      <td>0.110329</td>\n",
       "      <td>0.645540</td>\n",
       "    </tr>\n",
       "    <tr>\n",
       "      <th>1</th>\n",
       "      <td>Domingo 7 Había una vez dos compadres jorobado...</td>\n",
       "      <td>Cuentos</td>\n",
       "      <td>Human</td>\n",
       "      <td>0</td>\n",
       "      <td>0.411960</td>\n",
       "      <td>0.390365</td>\n",
       "      <td>0.104651</td>\n",
       "      <td>0.068937</td>\n",
       "      <td>0.629568</td>\n",
       "    </tr>\n",
       "    <tr>\n",
       "      <th>2</th>\n",
       "      <td>Francisco El Hombre En los albores del siglo X...</td>\n",
       "      <td>Cuentos</td>\n",
       "      <td>Human</td>\n",
       "      <td>0</td>\n",
       "      <td>0.378271</td>\n",
       "      <td>0.441713</td>\n",
       "      <td>0.114195</td>\n",
       "      <td>0.082474</td>\n",
       "      <td>0.574148</td>\n",
       "    </tr>\n",
       "    <tr>\n",
       "      <th>3</th>\n",
       "      <td>Aminta Peláez- La leyenda de Wareke Hace muchí...</td>\n",
       "      <td>Cuentos</td>\n",
       "      <td>Human</td>\n",
       "      <td>0</td>\n",
       "      <td>0.432731</td>\n",
       "      <td>0.343373</td>\n",
       "      <td>0.128514</td>\n",
       "      <td>0.063253</td>\n",
       "      <td>0.675703</td>\n",
       "    </tr>\n",
       "    <tr>\n",
       "      <th>4</th>\n",
       "      <td>EL OASIS DE BELISSAMA ATLAUA pASeABA Con BeLis...</td>\n",
       "      <td>Cuentos</td>\n",
       "      <td>Human</td>\n",
       "      <td>0</td>\n",
       "      <td>0.376963</td>\n",
       "      <td>0.680628</td>\n",
       "      <td>0.094241</td>\n",
       "      <td>0.120419</td>\n",
       "      <td>0.392670</td>\n",
       "    </tr>\n",
       "    <tr>\n",
       "      <th>...</th>\n",
       "      <td>...</td>\n",
       "      <td>...</td>\n",
       "      <td>...</td>\n",
       "      <td>...</td>\n",
       "      <td>...</td>\n",
       "      <td>...</td>\n",
       "      <td>...</td>\n",
       "      <td>...</td>\n",
       "      <td>...</td>\n",
       "    </tr>\n",
       "    <tr>\n",
       "      <th>3833</th>\n",
       "      <td>la educación cívica es fundamental para la con...</td>\n",
       "      <td>Tweets</td>\n",
       "      <td>LLM</td>\n",
       "      <td>1</td>\n",
       "      <td>0.458333</td>\n",
       "      <td>0.791667</td>\n",
       "      <td>0.083333</td>\n",
       "      <td>0.000000</td>\n",
       "      <td>0.208333</td>\n",
       "    </tr>\n",
       "    <tr>\n",
       "      <th>3839</th>\n",
       "      <td>la corrupción es una amenaza para la democraci...</td>\n",
       "      <td>Tweets</td>\n",
       "      <td>LLM</td>\n",
       "      <td>1</td>\n",
       "      <td>0.461538</td>\n",
       "      <td>0.846154</td>\n",
       "      <td>0.076923</td>\n",
       "      <td>0.000000</td>\n",
       "      <td>0.153846</td>\n",
       "    </tr>\n",
       "    <tr>\n",
       "      <th>3841</th>\n",
       "      <td>el sistema político necesita una reforma profu...</td>\n",
       "      <td>Tweets</td>\n",
       "      <td>LLM</td>\n",
       "      <td>1</td>\n",
       "      <td>0.413793</td>\n",
       "      <td>0.793103</td>\n",
       "      <td>0.068966</td>\n",
       "      <td>0.000000</td>\n",
       "      <td>0.206897</td>\n",
       "    </tr>\n",
       "    <tr>\n",
       "      <th>3844</th>\n",
       "      <td>la violencia y la delincuencia son una amenaza...</td>\n",
       "      <td>Tweets</td>\n",
       "      <td>LLM</td>\n",
       "      <td>1</td>\n",
       "      <td>0.500000</td>\n",
       "      <td>0.750000</td>\n",
       "      <td>0.062500</td>\n",
       "      <td>0.000000</td>\n",
       "      <td>0.250000</td>\n",
       "    </tr>\n",
       "    <tr>\n",
       "      <th>3845</th>\n",
       "      <td>la educación es la base d. es importante que s...</td>\n",
       "      <td>Tweets</td>\n",
       "      <td>LLM</td>\n",
       "      <td>1</td>\n",
       "      <td>0.600000</td>\n",
       "      <td>0.800000</td>\n",
       "      <td>0.066667</td>\n",
       "      <td>0.000000</td>\n",
       "      <td>0.200000</td>\n",
       "    </tr>\n",
       "  </tbody>\n",
       "</table>\n",
       "<p>3707 rows × 9 columns</p>\n",
       "</div>"
      ],
      "text/plain": [
       "                                                  Texto Tipo de fuente  \\\n",
       "0     El rey de los animales Se reunieron los animal...        Cuentos   \n",
       "1     Domingo 7 Había una vez dos compadres jorobado...        Cuentos   \n",
       "2     Francisco El Hombre En los albores del siglo X...        Cuentos   \n",
       "3     Aminta Peláez- La leyenda de Wareke Hace muchí...        Cuentos   \n",
       "4     EL OASIS DE BELISSAMA ATLAUA pASeABA Con BeLis...        Cuentos   \n",
       "...                                                 ...            ...   \n",
       "3833  la educación cívica es fundamental para la con...         Tweets   \n",
       "3839  la corrupción es una amenaza para la democraci...         Tweets   \n",
       "3841  el sistema político necesita una reforma profu...         Tweets   \n",
       "3844  la violencia y la delincuencia son una amenaza...         Tweets   \n",
       "3845  la educación es la base d. es importante que s...         Tweets   \n",
       "\n",
       "     Clasificacion  type  stop_words/texto  numero_palabras_unicas/texto  \\\n",
       "0            Human     0          0.370892                      0.376761   \n",
       "1            Human     0          0.411960                      0.390365   \n",
       "2            Human     0          0.378271                      0.441713   \n",
       "3            Human     0          0.432731                      0.343373   \n",
       "4            Human     0          0.376963                      0.680628   \n",
       "...            ...   ...               ...                           ...   \n",
       "3833           LLM     1          0.458333                      0.791667   \n",
       "3839           LLM     1          0.461538                      0.846154   \n",
       "3841           LLM     1          0.413793                      0.793103   \n",
       "3844           LLM     1          0.500000                      0.750000   \n",
       "3845           LLM     1          0.600000                      0.800000   \n",
       "\n",
       "      signos_puntuacion/texto  palabras_mayusculas/texto  \\\n",
       "0                    0.166667                   0.110329   \n",
       "1                    0.104651                   0.068937   \n",
       "2                    0.114195                   0.082474   \n",
       "3                    0.128514                   0.063253   \n",
       "4                    0.094241                   0.120419   \n",
       "...                       ...                        ...   \n",
       "3833                 0.083333                   0.000000   \n",
       "3839                 0.076923                   0.000000   \n",
       "3841                 0.068966                   0.000000   \n",
       "3844                 0.062500                   0.000000   \n",
       "3845                 0.066667                   0.000000   \n",
       "\n",
       "      palabras_repetidas/texto  \n",
       "0                     0.645540  \n",
       "1                     0.629568  \n",
       "2                     0.574148  \n",
       "3                     0.675703  \n",
       "4                     0.392670  \n",
       "...                        ...  \n",
       "3833                  0.208333  \n",
       "3839                  0.153846  \n",
       "3841                  0.206897  \n",
       "3844                  0.250000  \n",
       "3845                  0.200000  \n",
       "\n",
       "[3707 rows x 9 columns]"
      ]
     },
     "execution_count": 455,
     "metadata": {},
     "output_type": "execute_result"
    }
   ],
   "source": [
    "data"
   ]
  },
  {
   "cell_type": "code",
   "execution_count": 456,
   "metadata": {},
   "outputs": [
    {
     "data": {
      "text/plain": [
       "(array([2.7638191 , 4.79061977, 1.63595757, 0.43551089, 0.16192071,\n",
       "        0.15633724, 0.01675042, 0.03350084, 0.        , 0.        ,\n",
       "        0.        , 0.        , 0.        , 0.        , 0.        ,\n",
       "        0.        , 0.        , 0.        , 0.        , 0.00558347]),\n",
       " array([0. , 0.1, 0.2, 0.3, 0.4, 0.5, 0.6, 0.7, 0.8, 0.9, 1. , 1.1, 1.2,\n",
       "        1.3, 1.4, 1.5, 1.6, 1.7, 1.8, 1.9, 2. ]),\n",
       " <BarContainer object of 20 artists>)"
      ]
     },
     "execution_count": 456,
     "metadata": {},
     "output_type": "execute_result"
    },
    {
     "data": {
      "image/png": "[encoded data removed]",
      "text/plain": [
       "<Figure size 640x480 with 1 Axes>"
      ]
     },
     "metadata": {},
     "output_type": "display_data"
    }
   ],
   "source": [
    "\n",
    "\n",
    "\n",
    "plt.hist(data[(data[\"type\"]==0)][\"signos_puntuacion/texto\"], bins=20, density=True, alpha=0.5, label='0')\n",
    "plt.hist(data[(data[\"type\"]==1)][\"signos_puntuacion/texto\"], bins=20, density=True, alpha=0.5, label='1')\n",
    "\n",
    "\n"
   ]
  },
  {
   "cell_type": "code",
   "execution_count": 457,
   "metadata": {},
   "outputs": [
    {
     "data": {
      "text/plain": [
       "([<matplotlib.axis.XTick at 0x7fad16d079d0>,\n",
       "  <matplotlib.axis.XTick at 0x7fad16d073a0>],\n",
       " [Text(1, 0, 'Human'), Text(2, 0, 'LLM')])"
      ]
     },
     "execution_count": 457,
     "metadata": {},
     "output_type": "execute_result"
    },
    {
     "data": {
      "image/png": "[encoded data removed]",
      "text/plain": [
       "<Figure size 800x600 with 1 Axes>"
      ]
     },
     "metadata": {},
     "output_type": "display_data"
    }
   ],
   "source": [
    "plt.figure(figsize=(8, 6))\n",
    "plt.violinplot([data[(data[\"type\"]==0)][\"stop_words/texto\"], data[(data[\"type\"]==1)][\"stop_words/texto\"]], showmedians=True)\n",
    "plt.xticks([1, 2], ['Human', 'LLM'])"
   ]
  },
  {
   "cell_type": "code",
   "execution_count": 458,
   "metadata": {},
   "outputs": [],
   "source": [
    "#EDA\n",
    "#Mayusculas\n",
    "#Frequencia en palabras\n",
    "#Puntuación\n",
    "\n"
   ]
  },
  {
   "cell_type": "code",
   "execution_count": 459,
   "metadata": {},
   "outputs": [],
   "source": [
    "def procesar_texto(texto):\n",
    "    tokens = word_tokenize(texto)\n",
    "    tokens = [word.lower() for word in tokens if word.isalpha() and word.lower() not in stop_words]\n",
    "    return ' '.join(tokens)\n",
    "\n",
    "data['texto_procesado'] = data['Texto'].apply(procesar_texto)"
   ]
  },
  {
   "cell_type": "code",
   "execution_count": 460,
   "metadata": {},
   "outputs": [],
   "source": [
    "df_human=data[data[\"Clasificacion\"]==\"Human\"]\n",
    "df_llm=data[data[\"Clasificacion\"]==\"LLM\"]\n",
    "\n",
    "\n",
    "\n",
    "\n"
   ]
  },
  {
   "cell_type": "code",
   "execution_count": 461,
   "metadata": {},
   "outputs": [
    {
     "data": {
      "text/html": [
       "<div>\n",
       "<style scoped>\n",
       "    .dataframe tbody tr th:only-of-type {\n",
       "        vertical-align: middle;\n",
       "    }\n",
       "\n",
       "    .dataframe tbody tr th {\n",
       "        vertical-align: top;\n",
       "    }\n",
       "\n",
       "    .dataframe thead th {\n",
       "        text-align: right;\n",
       "    }\n",
       "</style>\n",
       "<table border=\"1\" class=\"dataframe\">\n",
       "  <thead>\n",
       "    <tr style=\"text-align: right;\">\n",
       "      <th></th>\n",
       "      <th>Texto</th>\n",
       "      <th>Tipo de fuente</th>\n",
       "      <th>Clasificacion</th>\n",
       "      <th>type</th>\n",
       "      <th>stop_words/texto</th>\n",
       "      <th>numero_palabras_unicas/texto</th>\n",
       "      <th>signos_puntuacion/texto</th>\n",
       "      <th>palabras_mayusculas/texto</th>\n",
       "      <th>palabras_repetidas/texto</th>\n",
       "      <th>texto_procesado</th>\n",
       "    </tr>\n",
       "  </thead>\n",
       "  <tbody>\n",
       "    <tr>\n",
       "      <th>0</th>\n",
       "      <td>El rey de los animales Se reunieron los animal...</td>\n",
       "      <td>Cuentos</td>\n",
       "      <td>Human</td>\n",
       "      <td>0</td>\n",
       "      <td>0.370892</td>\n",
       "      <td>0.376761</td>\n",
       "      <td>0.166667</td>\n",
       "      <td>0.110329</td>\n",
       "      <td>0.645540</td>\n",
       "      <td>rey animales reunieron animales monte elegir r...</td>\n",
       "    </tr>\n",
       "    <tr>\n",
       "      <th>1</th>\n",
       "      <td>Domingo 7 Había una vez dos compadres jorobado...</td>\n",
       "      <td>Cuentos</td>\n",
       "      <td>Human</td>\n",
       "      <td>0</td>\n",
       "      <td>0.411960</td>\n",
       "      <td>0.390365</td>\n",
       "      <td>0.104651</td>\n",
       "      <td>0.068937</td>\n",
       "      <td>0.629568</td>\n",
       "      <td>domingo vez dos compadres jorobados rico pobre...</td>\n",
       "    </tr>\n",
       "    <tr>\n",
       "      <th>2</th>\n",
       "      <td>Francisco El Hombre En los albores del siglo X...</td>\n",
       "      <td>Cuentos</td>\n",
       "      <td>Human</td>\n",
       "      <td>0</td>\n",
       "      <td>0.378271</td>\n",
       "      <td>0.441713</td>\n",
       "      <td>0.114195</td>\n",
       "      <td>0.082474</td>\n",
       "      <td>0.574148</td>\n",
       "      <td>francisco hombre albores siglo xx dos comercia...</td>\n",
       "    </tr>\n",
       "    <tr>\n",
       "      <th>3</th>\n",
       "      <td>Aminta Peláez- La leyenda de Wareke Hace muchí...</td>\n",
       "      <td>Cuentos</td>\n",
       "      <td>Human</td>\n",
       "      <td>0</td>\n",
       "      <td>0.432731</td>\n",
       "      <td>0.343373</td>\n",
       "      <td>0.128514</td>\n",
       "      <td>0.063253</td>\n",
       "      <td>0.675703</td>\n",
       "      <td>aminta leyenda wareke hace muchísimos años ini...</td>\n",
       "    </tr>\n",
       "    <tr>\n",
       "      <th>4</th>\n",
       "      <td>EL OASIS DE BELISSAMA ATLAUA pASeABA Con BeLis...</td>\n",
       "      <td>Cuentos</td>\n",
       "      <td>Human</td>\n",
       "      <td>0</td>\n",
       "      <td>0.376963</td>\n",
       "      <td>0.680628</td>\n",
       "      <td>0.094241</td>\n",
       "      <td>0.120419</td>\n",
       "      <td>0.392670</td>\n",
       "      <td>oasis belissama atlaua paseaba belissama ancia...</td>\n",
       "    </tr>\n",
       "    <tr>\n",
       "      <th>...</th>\n",
       "      <td>...</td>\n",
       "      <td>...</td>\n",
       "      <td>...</td>\n",
       "      <td>...</td>\n",
       "      <td>...</td>\n",
       "      <td>...</td>\n",
       "      <td>...</td>\n",
       "      <td>...</td>\n",
       "      <td>...</td>\n",
       "      <td>...</td>\n",
       "    </tr>\n",
       "    <tr>\n",
       "      <th>3833</th>\n",
       "      <td>la educación cívica es fundamental para la con...</td>\n",
       "      <td>Tweets</td>\n",
       "      <td>LLM</td>\n",
       "      <td>1</td>\n",
       "      <td>0.458333</td>\n",
       "      <td>0.791667</td>\n",
       "      <td>0.083333</td>\n",
       "      <td>0.000000</td>\n",
       "      <td>0.208333</td>\n",
       "      <td>educación cívica fundamental construcción soci...</td>\n",
       "    </tr>\n",
       "    <tr>\n",
       "      <th>3839</th>\n",
       "      <td>la corrupción es una amenaza para la democraci...</td>\n",
       "      <td>Tweets</td>\n",
       "      <td>LLM</td>\n",
       "      <td>1</td>\n",
       "      <td>0.461538</td>\n",
       "      <td>0.846154</td>\n",
       "      <td>0.076923</td>\n",
       "      <td>0.000000</td>\n",
       "      <td>0.153846</td>\n",
       "      <td>corrupción amenaza democracia desarrollo país ...</td>\n",
       "    </tr>\n",
       "    <tr>\n",
       "      <th>3841</th>\n",
       "      <td>el sistema político necesita una reforma profu...</td>\n",
       "      <td>Tweets</td>\n",
       "      <td>LLM</td>\n",
       "      <td>1</td>\n",
       "      <td>0.413793</td>\n",
       "      <td>0.793103</td>\n",
       "      <td>0.068966</td>\n",
       "      <td>0.000000</td>\n",
       "      <td>0.206897</td>\n",
       "      <td>sistema político necesita reforma profunda gar...</td>\n",
       "    </tr>\n",
       "    <tr>\n",
       "      <th>3844</th>\n",
       "      <td>la violencia y la delincuencia son una amenaza...</td>\n",
       "      <td>Tweets</td>\n",
       "      <td>LLM</td>\n",
       "      <td>1</td>\n",
       "      <td>0.500000</td>\n",
       "      <td>0.750000</td>\n",
       "      <td>0.062500</td>\n",
       "      <td>0.000000</td>\n",
       "      <td>0.250000</td>\n",
       "      <td>violencia delincuencia amenaza seguridad ciuda...</td>\n",
       "    </tr>\n",
       "    <tr>\n",
       "      <th>3845</th>\n",
       "      <td>la educación es la base d. es importante que s...</td>\n",
       "      <td>Tweets</td>\n",
       "      <td>LLM</td>\n",
       "      <td>1</td>\n",
       "      <td>0.600000</td>\n",
       "      <td>0.800000</td>\n",
       "      <td>0.066667</td>\n",
       "      <td>0.000000</td>\n",
       "      <td>0.200000</td>\n",
       "      <td>educación base importante invierta calidad edu...</td>\n",
       "    </tr>\n",
       "  </tbody>\n",
       "</table>\n",
       "<p>3707 rows × 10 columns</p>\n",
       "</div>"
      ],
      "text/plain": [
       "                                                  Texto Tipo de fuente  \\\n",
       "0     El rey de los animales Se reunieron los animal...        Cuentos   \n",
       "1     Domingo 7 Había una vez dos compadres jorobado...        Cuentos   \n",
       "2     Francisco El Hombre En los albores del siglo X...        Cuentos   \n",
       "3     Aminta Peláez- La leyenda de Wareke Hace muchí...        Cuentos   \n",
       "4     EL OASIS DE BELISSAMA ATLAUA pASeABA Con BeLis...        Cuentos   \n",
       "...                                                 ...            ...   \n",
       "3833  la educación cívica es fundamental para la con...         Tweets   \n",
       "3839  la corrupción es una amenaza para la democraci...         Tweets   \n",
       "3841  el sistema político necesita una reforma profu...         Tweets   \n",
       "3844  la violencia y la delincuencia son una amenaza...         Tweets   \n",
       "3845  la educación es la base d. es importante que s...         Tweets   \n",
       "\n",
       "     Clasificacion  type  stop_words/texto  numero_palabras_unicas/texto  \\\n",
       "0            Human     0          0.370892                      0.376761   \n",
       "1            Human     0          0.411960                      0.390365   \n",
       "2            Human     0          0.378271                      0.441713   \n",
       "3            Human     0          0.432731                      0.343373   \n",
       "4            Human     0          0.376963                      0.680628   \n",
       "...            ...   ...               ...                           ...   \n",
       "3833           LLM     1          0.458333                      0.791667   \n",
       "3839           LLM     1          0.461538                      0.846154   \n",
       "3841           LLM     1          0.413793                      0.793103   \n",
       "3844           LLM     1          0.500000                      0.750000   \n",
       "3845           LLM     1          0.600000                      0.800000   \n",
       "\n",
       "      signos_puntuacion/texto  palabras_mayusculas/texto  \\\n",
       "0                    0.166667                   0.110329   \n",
       "1                    0.104651                   0.068937   \n",
       "2                    0.114195                   0.082474   \n",
       "3                    0.128514                   0.063253   \n",
       "4                    0.094241                   0.120419   \n",
       "...                       ...                        ...   \n",
       "3833                 0.083333                   0.000000   \n",
       "3839                 0.076923                   0.000000   \n",
       "3841                 0.068966                   0.000000   \n",
       "3844                 0.062500                   0.000000   \n",
       "3845                 0.066667                   0.000000   \n",
       "\n",
       "      palabras_repetidas/texto  \\\n",
       "0                     0.645540   \n",
       "1                     0.629568   \n",
       "2                     0.574148   \n",
       "3                     0.675703   \n",
       "4                     0.392670   \n",
       "...                        ...   \n",
       "3833                  0.208333   \n",
       "3839                  0.153846   \n",
       "3841                  0.206897   \n",
       "3844                  0.250000   \n",
       "3845                  0.200000   \n",
       "\n",
       "                                        texto_procesado  \n",
       "0     rey animales reunieron animales monte elegir r...  \n",
       "1     domingo vez dos compadres jorobados rico pobre...  \n",
       "2     francisco hombre albores siglo xx dos comercia...  \n",
       "3     aminta leyenda wareke hace muchísimos años ini...  \n",
       "4     oasis belissama atlaua paseaba belissama ancia...  \n",
       "...                                                 ...  \n",
       "3833  educación cívica fundamental construcción soci...  \n",
       "3839  corrupción amenaza democracia desarrollo país ...  \n",
       "3841  sistema político necesita reforma profunda gar...  \n",
       "3844  violencia delincuencia amenaza seguridad ciuda...  \n",
       "3845  educación base importante invierta calidad edu...  \n",
       "\n",
       "[3707 rows x 10 columns]"
      ]
     },
     "execution_count": 461,
     "metadata": {},
     "output_type": "execute_result"
    }
   ],
   "source": [
    "data"
   ]
  },
  {
   "cell_type": "code",
   "execution_count": 462,
   "metadata": {},
   "outputs": [
    {
     "data": {
      "text/plain": [
       "'El rey de los animales Se reunieron los animales del monte para elegir rey. Ya hacía días que el tigre y unos amigos venían diciendo que por qué gracia tenía que ser siempre el león, y que quién lo había elegido. Ese día, los animales fueron llegando y fueron diciendo por quién votaba cada uno. Ya por la tardecita, la votación estaba empatada: la mitá por el tigre y la mitá por el león. Se pusieron a ver qué animal faltaba por votar y el único era el conejo. Ahí mismito el tigre se voló ligerito y se fue a buscarlo a la cueva, donde vivía. Cuando llegó, lo encontró acostado. —¿Qué le pasa, Tío Conejo? ¿Cómo es que no ha venido a las elecciones, como están de buenas? —¡Qué va, Tío Tigre! Yo lo que estoy es muriéndome. Con una tontina y un desaliento… —¡Eso no quiere decir nada! Camine en un momentico vamos a votar. —Yo no voy, Tío Tigre. ¿Meterme esa caminada ahora, con este desaliento? El tigre se quedó como cavilando, y dijo: —Si es eso, Tío Conejo, camine yo lo llevo montado hasta allá. El conejo decía que no, que estaba muy maluco, y el tigre insistía en que fuera. Hasta que el conejo dijo: —Bueno pues, Tío Tigre. Yo sí voy, pero con una condición: que usted me lleve montado y me vuelva a traer a la casa.   —Listos —contestó el tigre—. ¡Apure pues! El conejo se metió otra vez a la cueva y al ratico fue saliendo quizque de sombrero alón, de poncho y carriel, de zamarros y de botas. En la mano traía una silla de vaquería. —¿Y eso qué es? —dijo el tigre, abriendo tamañas pepas de ojos. —¡Una silla! —No, Tío Conejo. ¡Ni riesgos! Yo no me dejo poner eso. Bien pueda monte así no más. Pero silla, no. —Está bien —dijo el conejo, haciendo cara como de conformidad—. Entonces no voy. Si no he de ir bien sentado, bien cómodo, no voy—. Ya se iba a echar para adentro otra vez, cuando el tigre dijo: —Aguarde, Tío Conejo. Camine, a ver... póngame esa silla pues... El conejo se la puso, le apretó bien la cincha y se volvió a entrar a la cueva. El tigre se impacientaba, viendo que ya se hacía tarde. Cuando salió el conejo con una jáquima y un freno. —¡Freno sí no! —rugió el tigre—. ¡Freno sí no, hermano! —¡Pero si yo no sé montar sin freno! —dijo el conejo. —Freno sí no. Móntese así, que yo lo llevo con harto fundamento. —No, tío Tigre. Yo sin freno no monto. Entonces dejemos así la cosa. Preste a ver yo le quito la silla para que se vaya. —Aguarde, tío Conejo. Vea… póngame pues el freno, pero con harta mañita, que yo no soy una mula. El conejo le puso la jáquima, le acomodó el freno y le apretó bien la barbada. Después se volvió a meter a la cueva y salió de espuelas. —¿Espuelas? ¿Espuelas a mí? —gemía el tigre—. Yo para qué necesito espuelas, tío Conejo. Eso es un insulto, una humillación para mí —No se preocupe, Tío Tigre, que si no las necesita, yo no se las rastrillo tampoco. Pero, vea: si no quiere, no vamos… ¿oyó? —No, no, no. No se demore más, Tío Conejo, que nos va a coger la noche. Con mucha parsimonia montó el conejo, se arrellanó bien en la silla, templó las riendas y le rastrilló las espuelas al tigre. Éste pegó qué brinco y salió corriendo a cuantas tenía. El conejo apenas templaba las patas en los estribos de cobre y se agarraba bien el sombrero. El tigre corrió como un rayo dejando atrás potreros, saltando vallados, trepando cuestas y bajando lomas, como una exhalación. A lo que llegaron donde estaban todos los animales, entró el conejo voliando el sombrero y todos le gritaban que viva y se quedaron aterrados de verlo montao en el tigre. El conejo se fue acercando, al trotecito, a la mesa donde estaban los jurados: el oso, el armadillo y la tatabra. Todos se callaron, a ver por quién iba a votar el conejo: —Yo… voto para rey de los animales… ¡por el león! Porque lo que es al tigre, lo dejo más bien para silla. '"
      ]
     },
     "execution_count": 462,
     "metadata": {},
     "output_type": "execute_result"
    }
   ],
   "source": [
    "data[\"Texto\"][0]"
   ]
  },
  {
   "cell_type": "code",
   "execution_count": 463,
   "metadata": {},
   "outputs": [
    {
     "data": {
      "text/plain": [
       "array(['Cuentos', 'Ensayos', 'Fabulas', 'Noticias', 'Poemas', 'Tweets'],\n",
       "      dtype=object)"
      ]
     },
     "execution_count": 463,
     "metadata": {},
     "output_type": "execute_result"
    }
   ],
   "source": [
    "data[\"Tipo de fuente\"].unique()\n",
    "\n"
   ]
  },
  {
   "cell_type": "code",
   "execution_count": 464,
   "metadata": {},
   "outputs": [
    {
     "data": {
      "text/plain": [
       "Index(['Texto', 'Tipo de fuente', 'Clasificacion', 'type', 'stop_words/texto',\n",
       "       'numero_palabras_unicas/texto', 'signos_puntuacion/texto',\n",
       "       'palabras_mayusculas/texto', 'palabras_repetidas/texto',\n",
       "       'texto_procesado'],\n",
       "      dtype='object')"
      ]
     },
     "execution_count": 464,
     "metadata": {},
     "output_type": "execute_result"
    }
   ],
   "source": [
    "data.columns"
   ]
  },
  {
   "cell_type": "code",
   "execution_count": 465,
   "metadata": {},
   "outputs": [
    {
     "data": {
      "text/plain": [
       "<Axes: xlabel='numero_palabras_unicas/texto', ylabel='palabras_mayusculas/texto'>"
      ]
     },
     "execution_count": 465,
     "metadata": {},
     "output_type": "execute_result"
    },
    {
     "data": {
      "image/png": "[encoded data removed]",
      "text/plain": [
       "<Figure size 640x480 with 1 Axes>"
      ]
     },
     "metadata": {},
     "output_type": "display_data"
    }
   ],
   "source": [
    "import seaborn as sns\n",
    "sns.scatterplot(data=data[data[\"Tipo de fuente\"]==\"Tweets\"], x=\"numero_palabras_unicas/texto\", y='palabras_mayusculas/texto',hue='Clasificacion')"
   ]
  },
  {
   "cell_type": "code",
   "execution_count": 467,
   "metadata": {},
   "outputs": [
    {
     "data": {
      "text/plain": [
       "Index(['Texto', 'Tipo de fuente', 'Clasificacion', 'type', 'stop_words/texto',\n",
       "       'numero_palabras_unicas/texto', 'signos_puntuacion/texto',\n",
       "       'palabras_mayusculas/texto', 'palabras_repetidas/texto',\n",
       "       'texto_procesado'],\n",
       "      dtype='object')"
      ]
     },
     "execution_count": 467,
     "metadata": {},
     "output_type": "execute_result"
    }
   ],
   "source": [
    "data.columns"
   ]
  },
  {
   "cell_type": "code",
   "execution_count": 487,
   "metadata": {},
   "outputs": [
    {
     "data": {
      "text/plain": [
       "array(['Cuentos', 'Ensayos', 'Fabulas', 'Noticias', 'Poemas', 'Tweets'],\n",
       "      dtype=object)"
      ]
     },
     "execution_count": 487,
     "metadata": {},
     "output_type": "execute_result"
    }
   ],
   "source": [
    "data['Tipo de fuente'].unique()"
   ]
  },
  {
   "cell_type": "code",
   "execution_count": 530,
   "metadata": {},
   "outputs": [],
   "source": [
    "datos_interes=data[data['Tipo de fuente']==\"Tweets\"][['type','stop_words/texto','numero_palabras_unicas/texto','signos_puntuacion/texto','palabras_mayusculas/texto','palabras_repetidas/texto']]"
   ]
  },
  {
   "cell_type": "code",
   "execution_count": 531,
   "metadata": {},
   "outputs": [
    {
     "data": {
      "text/html": [
       "<div>\n",
       "<style scoped>\n",
       "    .dataframe tbody tr th:only-of-type {\n",
       "        vertical-align: middle;\n",
       "    }\n",
       "\n",
       "    .dataframe tbody tr th {\n",
       "        vertical-align: top;\n",
       "    }\n",
       "\n",
       "    .dataframe thead th {\n",
       "        text-align: right;\n",
       "    }\n",
       "</style>\n",
       "<table border=\"1\" class=\"dataframe\">\n",
       "  <thead>\n",
       "    <tr style=\"text-align: right;\">\n",
       "      <th></th>\n",
       "      <th>type</th>\n",
       "      <th>stop_words/texto</th>\n",
       "      <th>numero_palabras_unicas/texto</th>\n",
       "      <th>signos_puntuacion/texto</th>\n",
       "      <th>palabras_mayusculas/texto</th>\n",
       "      <th>palabras_repetidas/texto</th>\n",
       "    </tr>\n",
       "  </thead>\n",
       "  <tbody>\n",
       "    <tr>\n",
       "      <th>554</th>\n",
       "      <td>0</td>\n",
       "      <td>0.388889</td>\n",
       "      <td>1.000000</td>\n",
       "      <td>0.055556</td>\n",
       "      <td>0.111111</td>\n",
       "      <td>0.000000</td>\n",
       "    </tr>\n",
       "    <tr>\n",
       "      <th>555</th>\n",
       "      <td>0</td>\n",
       "      <td>0.473684</td>\n",
       "      <td>0.894737</td>\n",
       "      <td>0.000000</td>\n",
       "      <td>0.157895</td>\n",
       "      <td>0.157895</td>\n",
       "    </tr>\n",
       "    <tr>\n",
       "      <th>556</th>\n",
       "      <td>0</td>\n",
       "      <td>0.380952</td>\n",
       "      <td>0.952381</td>\n",
       "      <td>0.000000</td>\n",
       "      <td>0.142857</td>\n",
       "      <td>0.047619</td>\n",
       "    </tr>\n",
       "    <tr>\n",
       "      <th>557</th>\n",
       "      <td>0</td>\n",
       "      <td>0.346154</td>\n",
       "      <td>0.923077</td>\n",
       "      <td>0.153846</td>\n",
       "      <td>0.076923</td>\n",
       "      <td>0.076923</td>\n",
       "    </tr>\n",
       "    <tr>\n",
       "      <th>558</th>\n",
       "      <td>0</td>\n",
       "      <td>0.473684</td>\n",
       "      <td>1.000000</td>\n",
       "      <td>0.052632</td>\n",
       "      <td>0.157895</td>\n",
       "      <td>0.052632</td>\n",
       "    </tr>\n",
       "    <tr>\n",
       "      <th>...</th>\n",
       "      <td>...</td>\n",
       "      <td>...</td>\n",
       "      <td>...</td>\n",
       "      <td>...</td>\n",
       "      <td>...</td>\n",
       "      <td>...</td>\n",
       "    </tr>\n",
       "    <tr>\n",
       "      <th>3833</th>\n",
       "      <td>1</td>\n",
       "      <td>0.458333</td>\n",
       "      <td>0.791667</td>\n",
       "      <td>0.083333</td>\n",
       "      <td>0.000000</td>\n",
       "      <td>0.208333</td>\n",
       "    </tr>\n",
       "    <tr>\n",
       "      <th>3839</th>\n",
       "      <td>1</td>\n",
       "      <td>0.461538</td>\n",
       "      <td>0.846154</td>\n",
       "      <td>0.076923</td>\n",
       "      <td>0.000000</td>\n",
       "      <td>0.153846</td>\n",
       "    </tr>\n",
       "    <tr>\n",
       "      <th>3841</th>\n",
       "      <td>1</td>\n",
       "      <td>0.413793</td>\n",
       "      <td>0.793103</td>\n",
       "      <td>0.068966</td>\n",
       "      <td>0.000000</td>\n",
       "      <td>0.206897</td>\n",
       "    </tr>\n",
       "    <tr>\n",
       "      <th>3844</th>\n",
       "      <td>1</td>\n",
       "      <td>0.500000</td>\n",
       "      <td>0.750000</td>\n",
       "      <td>0.062500</td>\n",
       "      <td>0.000000</td>\n",
       "      <td>0.250000</td>\n",
       "    </tr>\n",
       "    <tr>\n",
       "      <th>3845</th>\n",
       "      <td>1</td>\n",
       "      <td>0.600000</td>\n",
       "      <td>0.800000</td>\n",
       "      <td>0.066667</td>\n",
       "      <td>0.000000</td>\n",
       "      <td>0.200000</td>\n",
       "    </tr>\n",
       "  </tbody>\n",
       "</table>\n",
       "<p>2603 rows × 6 columns</p>\n",
       "</div>"
      ],
      "text/plain": [
       "      type  stop_words/texto  numero_palabras_unicas/texto  \\\n",
       "554      0          0.388889                      1.000000   \n",
       "555      0          0.473684                      0.894737   \n",
       "556      0          0.380952                      0.952381   \n",
       "557      0          0.346154                      0.923077   \n",
       "558      0          0.473684                      1.000000   \n",
       "...    ...               ...                           ...   \n",
       "3833     1          0.458333                      0.791667   \n",
       "3839     1          0.461538                      0.846154   \n",
       "3841     1          0.413793                      0.793103   \n",
       "3844     1          0.500000                      0.750000   \n",
       "3845     1          0.600000                      0.800000   \n",
       "\n",
       "      signos_puntuacion/texto  palabras_mayusculas/texto  \\\n",
       "554                  0.055556                   0.111111   \n",
       "555                  0.000000                   0.157895   \n",
       "556                  0.000000                   0.142857   \n",
       "557                  0.153846                   0.076923   \n",
       "558                  0.052632                   0.157895   \n",
       "...                       ...                        ...   \n",
       "3833                 0.083333                   0.000000   \n",
       "3839                 0.076923                   0.000000   \n",
       "3841                 0.068966                   0.000000   \n",
       "3844                 0.062500                   0.000000   \n",
       "3845                 0.066667                   0.000000   \n",
       "\n",
       "      palabras_repetidas/texto  \n",
       "554                   0.000000  \n",
       "555                   0.157895  \n",
       "556                   0.047619  \n",
       "557                   0.076923  \n",
       "558                   0.052632  \n",
       "...                        ...  \n",
       "3833                  0.208333  \n",
       "3839                  0.153846  \n",
       "3841                  0.206897  \n",
       "3844                  0.250000  \n",
       "3845                  0.200000  \n",
       "\n",
       "[2603 rows x 6 columns]"
      ]
     },
     "execution_count": 531,
     "metadata": {},
     "output_type": "execute_result"
    }
   ],
   "source": [
    "datos_interes"
   ]
  },
  {
   "cell_type": "code",
   "execution_count": 532,
   "metadata": {},
   "outputs": [
    {
     "name": "stdout",
     "output_type": "stream",
     "text": [
      "Accuracy: 0.944337811900192\n",
      "              precision    recall  f1-score   support\n",
      "\n",
      "           0       0.93      0.97      0.95       279\n",
      "           1       0.96      0.92      0.94       242\n",
      "\n",
      "    accuracy                           0.94       521\n",
      "   macro avg       0.95      0.94      0.94       521\n",
      "weighted avg       0.94      0.94      0.94       521\n",
      "\n"
     ]
    },
    {
     "data": {
      "image/png": "[encoded data removed]",
      "text/plain": [
       "<Figure size 640x480 with 2 Axes>"
      ]
     },
     "metadata": {},
     "output_type": "display_data"
    }
   ],
   "source": [
    "\n",
    "\n",
    "import pandas as pd\n",
    "from sklearn.model_selection import train_test_split\n",
    "from sklearn.preprocessing import StandardScaler\n",
    "from sklearn.svm import SVC\n",
    "from sklearn.metrics import accuracy_score, classification_report, confusion_matrix\n",
    "import seaborn as sns\n",
    "import matplotlib.pyplot as plt\n",
    "\n",
    "# Cargar tu conjunto de datos (asegúrate de que tenga columnas de características y una columna de etiquetas)\n",
    "# Por ejemplo, supongamos que tienes un archivo CSV llamado 'dataset.csv'\n",
    "\n",
    "\n",
    "# Separar las características (X) de las etiquetas (y)\n",
    "X = datos_interes.drop('type', axis=1)  # Ajusta 'etiqueta' al nombre de tu columna de etiquetas\n",
    "y = datos_interes['type']\n",
    "\n",
    "# Dividir el conjunto de datos en entrenamiento y prueba\n",
    "X_train, X_test, y_train, y_test = train_test_split(X, y, test_size=0.2, random_state=42)\n",
    "\n",
    "# Normalizar las características para mejorar el rendimiento de la SVM\n",
    "scaler = StandardScaler()\n",
    "X_train_scaled = scaler.fit_transform(X_train)\n",
    "X_test_scaled = scaler.transform(X_test)\n",
    "\n",
    "# Crear el clasificador SVM\n",
    "svm_classifier = SVC(kernel='linear', C=1.0)  # Puedes ajustar el tipo de kernel y otros parámetros\n",
    "\n",
    "# Entrenar el modelo SVM\n",
    "svm_classifier.fit(X_train_scaled, y_train)\n",
    "\n",
    "# Realizar predicciones en el conjunto de prueba\n",
    "y_pred = svm_classifier.predict(X_test_scaled)\n",
    "\n",
    "# Evaluar el rendimiento del modelo\n",
    "accuracy = accuracy_score(y_test, y_pred)\n",
    "print(f'Accuracy: {accuracy}')\n",
    "\n",
    "# Imprimir el informe de clasificación\n",
    "print(classification_report(y_test, y_pred))\n",
    "\n",
    "# Visualizar la matriz de confusión\n",
    "conf_matrix = confusion_matrix(y_test, y_pred)\n",
    "sns.heatmap(conf_matrix, annot=True, fmt=\"d\", cmap=\"Blues\", xticklabels=['Negativo', 'Positivo'], yticklabels=['Negativo', 'Positivo'])\n",
    "plt.title('Matriz de Confusión')\n",
    "plt.xlabel('Predicciones')\n",
    "plt.ylabel('Valores Reales')\n",
    "plt.show()\n",
    "\n"
   ]
  },
  {
   "cell_type": "code",
   "execution_count": 533,
   "metadata": {},
   "outputs": [],
   "source": [
    "texto_ejemplo_poema=\"En la penumbra de la noche sosegada, donde las estrellas sus secretos revelan, mi mente vuela en alas de la nada, donde los sueños como luciérnagas destellan.Bajo el manto plateado de la luna, se tejen historias en el silencio, donde el corazón, como una fortuna, se llena de anhelos en este trance eterno.Susurros de hojas danzan con el viento, mientras la noche abraza el suspenso, y en el lienzo del cielo, un firmamento, pintado con los sueños que llevo dentro.Allí, donde los recuerdos se entrelazan, y las sombras danzan con la melodía, se despiertan los sueños que abrazan, la esperanza en esta mágica poesía.Que las estrellas guarden mis secretos, y la luna cuente mis anhelos, en este rincón de sueños discretos, donde la noche se convierte en cielo.\""
   ]
  },
  {
   "cell_type": "code",
   "execution_count": 534,
   "metadata": {},
   "outputs": [],
   "source": [
    "def extraccion_caracteristicas(text):\n",
    "    data=pd.DataFrame(index=[1])\n",
    "    data[\"stop_words/texto\"]=numero_stop_words_por_texto(text)\n",
    "    data[\"numero_palabras_unicas/texto\"]=numero_palabras_unicas_por_texto(text)\n",
    "    data[\"signos_puntuacion/texto\"]=signos_puntuacion_por_texto(text)\n",
    "    data[\"palabras_mayusculas/texto\"]=palabras_mayusculas_por_texto(text)\n",
    "    data[\"palabras_mayusculas/texto\"]=palabras_mayusculas_por_texto(text)\n",
    "    data[\"palabras_repetidas/texto\"]=palabras_repetidas_por_texto(text)\n",
    "    datos=scaler.transform(data[['stop_words/texto','numero_palabras_unicas/texto','signos_puntuacion/texto','palabras_mayusculas/texto','palabras_repetidas/texto']])\n",
    "    return datos"
   ]
  },
  {
   "cell_type": "code",
   "execution_count": 535,
   "metadata": {},
   "outputs": [],
   "source": [
    "def predict_text(text):\n",
    "    caracteristicas=extraccion_caracteristicas(text)\n",
    "    pred=svm_classifier.predict(caracteristicas)\n",
    "    if pred[0]==0:\n",
    "        clase=\"Humano\"\n",
    "    else:\n",
    "        clase=\"LLM\"\n",
    "    return clase"
   ]
  },
  {
   "cell_type": "code",
   "execution_count": 536,
   "metadata": {},
   "outputs": [
    {
     "data": {
      "text/plain": [
       "'LLM'"
      ]
     },
     "execution_count": 536,
     "metadata": {},
     "output_type": "execute_result"
    }
   ],
   "source": [
    "predict_text(texto_ejemplo_poema)"
   ]
  }
 ],
 "metadata": {
  "kernelspec": {
   "display_name": "datasc",
   "language": "python",
   "name": "python3"
  },
  "language_info": {
   "codemirror_mode": {
    "name": "ipython",
    "version": 3
   },
   "file_extension": ".py",
   "mimetype": "text/x-python",
   "name": "python",
   "nbconvert_exporter": "python",
   "pygments_lexer": "ipython3",
   "version": "3.8.5"
  }
 },
 "nbformat": 4,
 "nbformat_minor": 2
}
