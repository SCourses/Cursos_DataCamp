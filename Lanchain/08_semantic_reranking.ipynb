{
 "cells": [
  {
   "cell_type": "markdown",
   "metadata": {},
   "source": [
    "# Re-ranking semántico\n",
    "\n",
    "La **búsqueda por palabras clave**, comúnmente utilizada en motores de búsqueda, prioriza la similitud de palabras entre la consulta del usuario y los documentos disponibles, pero suele ignorar la **semántica** de las palabras. Por ejemplo, no distinguiría entre \"banco\" como institución financiera y \"banco\" como asiento, ya que no comprende las diferencias contextuales y semánticas entre palabras. Por el contrario, la búsqueda semántica sí entiende estas diferencias, brindando resultados más precisos y relevantes.\n",
    "\n",
    "Migrar completamente a sistemas de búsqueda semántica puede ser un reto para muchas empresas debido a la profunda integración de los sistemas basados en palabras clave. Una solución es **re-rankear** los resultados de la búsqueda por palabras clave usando un modelo de búsqueda semántica basado en **word embeddings**.\n",
    "\n",
    "**Cohere Rerank** ofrece una solución de re-ranking semántico fácil de integrar en sistemas existentes, necesitando solo unas pocas líneas de código, permitiendo así una transición suave hacia métodos de búsqueda más avanzados y precisos.\n",
    "\n",
    "Para obtener más información sobre `Cohere Rerank` y cómo puede beneficiar a tu sistema de búsqueda, te invito a visitar su [blog](https://txt.cohere.com/rerank/).\n"
   ]
  },
  {
   "cell_type": "markdown",
   "metadata": {},
   "source": [
    "> Al integrar la precisión contextual de la búsqueda semántica con la eficacia de la búsqueda por palabras clave, podemos superar las limitaciones inherentes de cada método, logrando así resultados de búsqueda más relevantes, precisos y ricos en contexto."
   ]
  },
  {
   "cell_type": "markdown",
   "metadata": {},
   "source": [
    "## Librerías"
   ]
  },
  {
   "cell_type": "code",
   "execution_count": 2,
   "metadata": {},
   "outputs": [
    {
     "data": {
      "text/plain": [
       "False"
      ]
     },
     "execution_count": 2,
     "metadata": {},
     "output_type": "execute_result"
    }
   ],
   "source": [
    "import cohere\n",
    "from dotenv import load_dotenv\n",
    "from langchain.retrievers import BM25Retriever\n",
    "from langchain.schema import Document\n",
    "\n",
    "from src.langchain_docs_loader import load_langchain_docs_splitted\n",
    "\n",
    "load_dotenv()"
   ]
  },
  {
   "cell_type": "markdown",
   "metadata": {},
   "source": [
    "## Carga de datos"
   ]
  },
  {
   "cell_type": "code",
   "execution_count": 4,
   "metadata": {},
   "outputs": [],
   "source": [
    "docs = load_langchain_docs_splitted()"
   ]
  },
  {
   "cell_type": "markdown",
   "metadata": {},
   "source": [
    "## Creación de herramienta de búsqueda por palabras clave\n",
    "\n",
    "BM25 es una función de ranking avanzada usada para clasificar documentos en sistemas de recuperación de información, basándose en su relevancia respecto a una consulta de búsqueda. A diferencia de la búsqueda por palabras clave básica, que solo considera la presencia o ausencia de palabras, BM25 calcula un score de relevancia para cada documento, teniendo en cuenta la frecuencia de aparición del término y su rareza en la colección de documentos."
   ]
  },
  {
   "cell_type": "code",
   "execution_count": 6,
   "metadata": {},
   "outputs": [],
   "source": [
    "keywordk_retriever = BM25Retriever.from_documents(docs)\n",
    "\n",
    "\n",
    "def keyword_document_search(query: str, k: int) -> list[Document]:\n",
    "    keywordk_retriever.k = k\n",
    "    return keywordk_retriever.get_relevant_documents(query)"
   ]
  },
  {
   "cell_type": "markdown",
   "metadata": {},
   "source": [
    "## Búsqueda de documentos relevantes por palabras clave"
   ]
  },
  {
   "cell_type": "code",
   "execution_count": 7,
   "metadata": {},
   "outputs": [
    {
     "name": "stdout",
     "output_type": "stream",
     "text": [
      "Keyword search results:\n",
      "1. https://python.langchain.com/docs/modules/memory/\n",
      "2. https://python.langchain.com/docs/integrations/memory/remembrall\n",
      "3. https://python.langchain.com/docs/use_cases/question_answering/\n",
      "4. https://python.langchain.com/cookbook\n",
      "5. https://python.langchain.com/docs/integrations/providers/vectara/\n",
      "6. https://python.langchain.com/docs/modules/memory/adding_memory\n",
      "7. https://python.langchain.com/docs/integrations/document_loaders/tomarkdown\n",
      "8. https://python.langchain.com/docs/integrations/providers/dspy\n",
      "9. https://python.langchain.com/docs/get_started/quickstart\n",
      "10. https://python.langchain.com/docs/get_started/introduction\n",
      "11. https://python.langchain.com/docs/modules/chains\n",
      "12. https://python.langchain.com/docs/expression_language/cookbook/\n",
      "13. https://python.langchain.com/docs/additional_resources/tutorials\n",
      "14. https://python.langchain.com/docs/integrations/vectorstores/elasticsearch\n",
      "15. https://python.langchain.com/docs/templates/\n",
      "16. https://python.langchain.com/docs/integrations/memory/motorhead_memory\n",
      "17. https://python.langchain.com/docs/guides/privacy/presidio_data_anonymization/qa_privacy_protection\n",
      "18. https://python.langchain.com/docs/modules/memory/adding_memory\n",
      "19. https://python.langchain.com/docs/expression_language/\n",
      "20. https://python.langchain.com/docs/integrations/tools/semanticscholar\n",
      "21. https://python.langchain.com/docs/use_cases/question_answering/quickstart\n",
      "22. https://python.langchain.com/docs/additional_resources/tutorials\n",
      "23. https://python.langchain.com/docs/langserve\n",
      "24. https://python.langchain.com/docs/integrations/chat/mistralai\n",
      "25. https://python.langchain.com/docs/integrations/providers/promptlayer\n",
      "26. https://python.langchain.com/docs/modules/agents/quick_start\n",
      "27. https://python.langchain.com/docs/integrations/vectorstores/clarifai\n",
      "28. https://python.langchain.com/docs/templates/neo4j-vector-memory\n",
      "29. https://python.langchain.com/docs/use_cases/question_answering/chat_history\n",
      "30. https://python.langchain.com/docs/integrations/document_loaders/reddit\n",
      "31. https://python.langchain.com/docs/integrations/memory/sql_chat_message_history\n",
      "32. https://python.langchain.com/docs/integrations/providers/myscale\n",
      "33. https://python.langchain.com/docs/expression_language/cookbook/tools\n",
      "34. https://python.langchain.com/docs/integrations/vectorstores/hanavector\n",
      "35. https://python.langchain.com/docs/integrations/document_loaders/dropbox\n",
      "36. https://python.langchain.com/docs/integrations/platforms/microsoft\n",
      "37. https://python.langchain.com/docs/expression_language/why\n",
      "38. https://python.langchain.com/docs/modules/data_connection/document_transformers/split_by_token\n",
      "39. https://python.langchain.com/docs/modules/agents/agent_types/openai_tools\n",
      "40. https://python.langchain.com/docs/integrations/providers/arangodb\n",
      "41. https://python.langchain.com/docs/langgraph\n",
      "42. https://python.langchain.com/docs/additional_resources/youtube\n",
      "43. https://python.langchain.com/docs/integrations/chat/fireworks\n",
      "44. https://python.langchain.com/docs/integrations/vectorstores/neo4jvector\n",
      "45. https://python.langchain.com/docs/integrations/tools/exa_search\n",
      "46. https://python.langchain.com/docs/integrations/vectorstores/llm_rails\n",
      "47. https://python.langchain.com/docs/integrations/toolkits/gmail\n",
      "48. https://python.langchain.com/docs/modules/agents/agent_types/react\n",
      "49. https://python.langchain.com/docs/modules/data_connection/\n",
      "50. https://python.langchain.com/docs/modules/memory/types/buffer\n",
      "51. https://python.langchain.com/docs/integrations/chat/promptlayer_chatopenai\n",
      "52. https://python.langchain.com/docs/get_started/quickstart\n",
      "53. https://python.langchain.com/docs/integrations/platforms/aws\n",
      "54. https://python.langchain.com/docs/use_cases/question_answering/per_user\n",
      "55. https://python.langchain.com/docs/integrations/document_loaders/ifixit\n",
      "56. https://python.langchain.com/docs/integrations/providers/vectara/\n",
      "57. https://python.langchain.com/docs/changelog/langchain\n",
      "58. https://python.langchain.com/docs/integrations/document_loaders/ifixit\n",
      "59. https://python.langchain.com/docs/integrations/providers/vectara/vectara_summary\n",
      "60. https://python.langchain.com/docs/integrations/vectorstores/azure_cosmos_db\n",
      "61. https://python.langchain.com/docs/integrations/chat/fireworks\n",
      "62. https://python.langchain.com/docs/integrations/chat/nvidia_ai_endpoints\n",
      "63. https://python.langchain.com/docs/integrations/callbacks/promptlayer\n",
      "64. https://python.langchain.com/docs/integrations/llms/fireworks\n",
      "65. https://python.langchain.com/docs/expression_language/how_to/\n",
      "66. https://python.langchain.com/docs/templates/rag-timescale-hybrid-search-time\n",
      "67. https://python.langchain.com/docs/use_cases/question_answering/streaming\n",
      "68. https://python.langchain.com/docs/integrations/text_embedding/bedrock\n",
      "69. https://python.langchain.com/docs/integrations/chat/bedrock\n",
      "70. https://python.langchain.com/docs/langsmith/\n",
      "71. https://python.langchain.com/docs/integrations/document_loaders/rss\n",
      "72. https://python.langchain.com/docs/integrations/tools\n",
      "73. https://python.langchain.com/docs/integrations/retrievers/elastic_search_bm25\n",
      "74. https://python.langchain.com/docs/integrations/providers/momento\n",
      "75. https://python.langchain.com/docs/integrations/chat/ollama\n",
      "76. https://python.langchain.com/docs/integrations/vectorstores/elasticsearch\n",
      "77. https://python.langchain.com/docs/integrations/providers/neo4j\n",
      "78. https://python.langchain.com/docs/use_cases/question_answering/sources\n",
      "79. https://python.langchain.com/docs/contributing/\n",
      "80. https://python.langchain.com/docs/integrations/chat/everlyai\n",
      "81. https://python.langchain.com/docs/integrations/vectorstores/timescalevector\n",
      "82. https://python.langchain.com/docs/use_cases/question_answering/quickstart\n",
      "83. https://python.langchain.com/docs/modules/data_connection/document_transformers/\n",
      "84. https://python.langchain.com/docs/integrations/retrievers/self_query/supabase_self_query\n",
      "85. https://python.langchain.com/docs/use_cases/question_answering/local_retrieval_qa\n",
      "86. https://python.langchain.com/docs/integrations/vectorstores/marqo\n",
      "87. https://python.langchain.com/docs/guides/privacy/presidio_data_anonymization/qa_privacy_protection\n",
      "88. https://python.langchain.com/docs/expression_language/get_started\n",
      "89. https://python.langchain.com/docs/use_cases/chatbots\n",
      "90. https://python.langchain.com/docs/integrations/tools/semanticscholar\n",
      "91. https://python.langchain.com/docs/integrations/vectorstores/tair\n",
      "92. https://python.langchain.com/docs/integrations/chat/gpt_router\n",
      "93. https://python.langchain.com/docs/integrations/callbacks/streamlit\n",
      "94. https://python.langchain.com/docs/use_cases/question_answering/streaming\n",
      "95. https://python.langchain.com/docs/integrations/tools/dataforseo\n",
      "96. https://python.langchain.com/docs/templates/rag-google-cloud-vertexai-search\n",
      "97. https://python.langchain.com/docs/integrations/providers/yeagerai\n",
      "98. https://python.langchain.com/docs/integrations/retrievers/self_query/myscale_self_query\n",
      "99. https://python.langchain.com/docs/get_started/quickstart\n",
      "100. https://python.langchain.com/docs/expression_language/streaming\n"
     ]
    }
   ],
   "source": [
    "relevant_keyword_documents = keyword_document_search(\n",
    "    query=\"How to integrate LCEL into my Retrieval augmented generation system with a keyword search retriever?\",\n",
    "    k=100,\n",
    ")\n",
    "\n",
    "print(\"Keyword search results:\")\n",
    "for i, document in enumerate(relevant_keyword_documents):\n",
    "    print(f\"{i+1}. {document.metadata['source']}\")"
   ]
  },
  {
   "cell_type": "markdown",
   "metadata": {},
   "source": [
    "## Re-ranking semántico de los documentos relevantes\n",
    "\n",
    "Una vez que hemos obtenido los documentos más relevantes para nuestra consulta de búsqueda, podemos re-rankearlos usando un modelo de búsqueda semántica basado en **word embeddings**.\n",
    "\n",
    "En este caso, utilizaremos `Cohere Rerank` para obtener los documentos más relevantes para nuestra consulta de búsqueda, re-rankeando los documentos obtenidos por BM25.\n",
    "\n",
    "Para que `Cohere Rerank` funcione, necesitarás una cuenta de `Cohere` y un `API key`. Puedes obtener tu `API key` [aquí](https://dashboard.cohere.com/api-keys)."
   ]
  },
  {
   "cell_type": "code",
   "execution_count": 8,
   "metadata": {},
   "outputs": [],
   "source": [
    "co = cohere.Client()"
   ]
  },
  {
   "cell_type": "code",
   "execution_count": 9,
   "metadata": {},
   "outputs": [
    {
     "name": "stdout",
     "output_type": "stream",
     "text": [
      "Reranked results:\n",
      "https://python.langchain.com/cookbook\n",
      "https://python.langchain.com/docs/expression_language/get_started\n",
      "https://python.langchain.com/docs/integrations/providers/dspy\n",
      "https://python.langchain.com/docs/integrations/vectorstores/timescalevector\n",
      "https://python.langchain.com/docs/integrations/providers/vectara/\n",
      "https://python.langchain.com/docs/templates/\n",
      "https://python.langchain.com/docs/integrations/vectorstores/llm_rails\n",
      "https://python.langchain.com/docs/changelog/langchain\n",
      "https://python.langchain.com/docs/expression_language/cookbook/\n",
      "https://python.langchain.com/docs/expression_language/\n"
     ]
    }
   ],
   "source": [
    "reranked_hits = co.rerank(\n",
    "    query=\"How to integrate LCEL into my Retrieval augmented generation system with a keyword search retriever?\",\n",
    "    documents=[doc.page_content for doc in relevant_keyword_documents],\n",
    "    top_n=10,\n",
    "    model=\"rerank-multilingual-v2.0\",\n",
    ")\n",
    "\n",
    "print(\"Reranked results:\")\n",
    "for hit in reranked_hits:\n",
    "    print(relevant_keyword_documents[hit.index].metadata[\"source\"])"
   ]
  }
 ],
 "metadata": {
  "kernelspec": {
   "display_name": ".venv",
   "language": "python",
   "name": "python3"
  },
  "language_info": {
   "codemirror_mode": {
    "name": "ipython",
    "version": 3
   },
   "file_extension": ".py",
   "mimetype": "text/x-python",
   "name": "python",
   "nbconvert_exporter": "python",
   "pygments_lexer": "ipython3",
   "version": "3.11.7"
  },
  "orig_nbformat": 4
 },
 "nbformat": 4,
 "nbformat_minor": 2
}
