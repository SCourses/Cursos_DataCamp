{
 "cells": [
  {
   "cell_type": "code",
   "execution_count": 1,
   "metadata": {},
   "outputs": [
    {
     "name": "stdout",
     "output_type": "stream",
     "text": [
      "Collecting gdown\n",
      "  Downloading gdown-5.0.1-py3-none-any.whl.metadata (5.6 kB)\n",
      "Requirement already satisfied: beautifulsoup4 in /home/sergio/anaconda3/envs/datasc/lib/python3.8/site-packages (from gdown) (4.12.3)\n",
      "Requirement already satisfied: filelock in /home/sergio/anaconda3/envs/datasc/lib/python3.8/site-packages (from gdown) (3.13.1)\n",
      "Requirement already satisfied: requests[socks] in /home/sergio/anaconda3/envs/datasc/lib/python3.8/site-packages (from gdown) (2.31.0)\n",
      "Requirement already satisfied: tqdm in /home/sergio/anaconda3/envs/datasc/lib/python3.8/site-packages (from gdown) (4.66.1)\n",
      "Requirement already satisfied: soupsieve>1.2 in /home/sergio/anaconda3/envs/datasc/lib/python3.8/site-packages (from beautifulsoup4->gdown) (2.5)\n",
      "Requirement already satisfied: charset-normalizer<4,>=2 in /home/sergio/anaconda3/envs/datasc/lib/python3.8/site-packages (from requests[socks]->gdown) (3.3.2)\n",
      "Requirement already satisfied: idna<4,>=2.5 in /home/sergio/anaconda3/envs/datasc/lib/python3.8/site-packages (from requests[socks]->gdown) (3.4)\n",
      "Requirement already satisfied: urllib3<3,>=1.21.1 in /home/sergio/anaconda3/envs/datasc/lib/python3.8/site-packages (from requests[socks]->gdown) (2.1.0)\n",
      "Requirement already satisfied: certifi>=2017.4.17 in /home/sergio/anaconda3/envs/datasc/lib/python3.8/site-packages (from requests[socks]->gdown) (2023.11.17)\n",
      "Collecting PySocks!=1.5.7,>=1.5.6 (from requests[socks]->gdown)\n",
      "  Downloading PySocks-1.7.1-py3-none-any.whl (16 kB)\n",
      "Downloading gdown-5.0.1-py3-none-any.whl (16 kB)\n",
      "Installing collected packages: PySocks, gdown\n",
      "Successfully installed PySocks-1.7.1 gdown-5.0.1\n"
     ]
    }
   ],
   "source": [
    "!pip install gdown"
   ]
  },
  {
   "cell_type": "code",
   "execution_count": 2,
   "metadata": {},
   "outputs": [
    {
     "name": "stdout",
     "output_type": "stream",
     "text": [
      "Requirement already satisfied: google-auth in /home/sergio/anaconda3/envs/datasc/lib/python3.8/site-packages (2.25.2)\n",
      "Requirement already satisfied: google-auth-oauthlib in /home/sergio/anaconda3/envs/datasc/lib/python3.8/site-packages (1.0.0)\n",
      "Collecting google-auth-httplib2\n",
      "  Downloading google_auth_httplib2-0.2.0-py2.py3-none-any.whl.metadata (2.2 kB)\n",
      "Requirement already satisfied: cachetools<6.0,>=2.0.0 in /home/sergio/anaconda3/envs/datasc/lib/python3.8/site-packages (from google-auth) (5.3.2)\n",
      "Requirement already satisfied: pyasn1-modules>=0.2.1 in /home/sergio/anaconda3/envs/datasc/lib/python3.8/site-packages (from google-auth) (0.3.0)\n",
      "Requirement already satisfied: rsa<5,>=3.1.4 in /home/sergio/anaconda3/envs/datasc/lib/python3.8/site-packages (from google-auth) (4.9)\n",
      "Requirement already satisfied: requests-oauthlib>=0.7.0 in /home/sergio/anaconda3/envs/datasc/lib/python3.8/site-packages (from google-auth-oauthlib) (1.3.1)\n",
      "Collecting httplib2>=0.19.0 (from google-auth-httplib2)\n",
      "  Downloading httplib2-0.22.0-py3-none-any.whl (96 kB)\n",
      "\u001b[2K     \u001b[90m━━━━━━━━━━━━━━━━━━━━━━━━━━━━━━━━━━━━━━━━\u001b[0m \u001b[32m96.9/96.9 kB\u001b[0m \u001b[31m1.7 MB/s\u001b[0m eta \u001b[36m0:00:00\u001b[0ma \u001b[36m0:00:01\u001b[0m\n",
      "\u001b[?25hRequirement already satisfied: pyparsing!=3.0.0,!=3.0.1,!=3.0.2,!=3.0.3,<4,>=2.4.2 in /home/sergio/anaconda3/envs/datasc/lib/python3.8/site-packages (from httplib2>=0.19.0->google-auth-httplib2) (3.1.1)\n",
      "Requirement already satisfied: pyasn1<0.6.0,>=0.4.6 in /home/sergio/anaconda3/envs/datasc/lib/python3.8/site-packages (from pyasn1-modules>=0.2.1->google-auth) (0.5.1)\n",
      "Requirement already satisfied: oauthlib>=3.0.0 in /home/sergio/anaconda3/envs/datasc/lib/python3.8/site-packages (from requests-oauthlib>=0.7.0->google-auth-oauthlib) (3.2.2)\n",
      "Requirement already satisfied: requests>=2.0.0 in /home/sergio/anaconda3/envs/datasc/lib/python3.8/site-packages (from requests-oauthlib>=0.7.0->google-auth-oauthlib) (2.31.0)\n",
      "Requirement already satisfied: charset-normalizer<4,>=2 in /home/sergio/anaconda3/envs/datasc/lib/python3.8/site-packages (from requests>=2.0.0->requests-oauthlib>=0.7.0->google-auth-oauthlib) (3.3.2)\n",
      "Requirement already satisfied: idna<4,>=2.5 in /home/sergio/anaconda3/envs/datasc/lib/python3.8/site-packages (from requests>=2.0.0->requests-oauthlib>=0.7.0->google-auth-oauthlib) (3.4)\n",
      "Requirement already satisfied: urllib3<3,>=1.21.1 in /home/sergio/anaconda3/envs/datasc/lib/python3.8/site-packages (from requests>=2.0.0->requests-oauthlib>=0.7.0->google-auth-oauthlib) (2.1.0)\n",
      "Requirement already satisfied: certifi>=2017.4.17 in /home/sergio/anaconda3/envs/datasc/lib/python3.8/site-packages (from requests>=2.0.0->requests-oauthlib>=0.7.0->google-auth-oauthlib) (2023.11.17)\n",
      "Downloading google_auth_httplib2-0.2.0-py2.py3-none-any.whl (9.3 kB)\n",
      "Installing collected packages: httplib2, google-auth-httplib2\n",
      "Successfully installed google-auth-httplib2-0.2.0 httplib2-0.22.0\n",
      "Note: you may need to restart the kernel to use updated packages.\n"
     ]
    }
   ],
   "source": [
    "pip install google-auth google-auth-oauthlib google-auth-httplib2"
   ]
  },
  {
   "cell_type": "code",
   "execution_count": 4,
   "metadata": {},
   "outputs": [],
   "source": [
    "from google.auth.transport.requests import Request\n",
    "from google.oauth2.credentials import Credentials\n",
    "from googleapiclient.discovery import build\n",
    "from google_auth_oauthlib.flow import InstalledAppFlow\n",
    "import io\n",
    "from googleapiclient.http import MediaIoBaseDownload\n",
    "\n",
    "def descargar_zip_gcp(file_id, folder,dfilespath):\n",
    "    # Cargar credenciales desde el archivo JSON descargado\n",
    "\n",
    "    creds=Credentials.from_authorized_user_file(r\"/home/sergio/Desktop/Courses/Lanchain/token.json\")\n",
    "\n",
    "\n",
    "\n",
    "    # Autorizar las credenciales\n",
    "\n",
    "\n",
    "    # Crear un servicio de Google Drive\n",
    "    service = build('drive', 'v3', credentials=creds)\n",
    "\n",
    "    # Descargar el archivo ZIP\n",
    "    request = service.files().get_media(fileId=file_id)\n",
    "    fh = io.BytesIO()\n",
    "    downloader = MediaIoBaseDownload(fh, request)\n",
    "    done = False\n",
    "    while done is False:\n",
    "        status, done = downloader.next_chunk()\n",
    "    if folder:\n",
    "        with io.open(folder + \"/\" + dfilespath, \"wb\") as f: \n",
    "            fh.seek(0)\n",
    "            f.write(fh.read())\n",
    "    else:\n",
    "        with io.open(dfilespath, \"wb\") as f:\n",
    "            fh.seek(0)\n",
    "            f.write(fh.read())\n",
    "\n",
    "\n",
    "\n",
    "\n",
    "\n",
    "descargar_zip_gcp( \"1jG9bCgIycjstaVc-vReMUeF2lNmHZ3QV\", r\"/home/sergio/Desktop/Courses/Lanchain/data\",\"b.zip\")"
   ]
  },
  {
   "cell_type": "code",
   "execution_count": null,
   "metadata": {},
   "outputs": [],
   "source": [
    "vTbJe3g-A6Y.vTbJe3g-A6Y\n",
    "{'type': 'CARD_CLICKED', 'eventTime': '2024-02-29T15:25:14.952928Z', 'message': {'name': 'spaces/-y9kYMAAAAE/messages/vTbJe3g-A6Y.vTbJe3g-A6Y', 'sender': {'name': 'users/103835198009805480770', 'displayName': 'LAB:))', 'avatarUrl': 'https://lh6.googleusercontent.com/proxy/yNIjT7WKl3HxSm-u468-yf4LJHPpTC9IoXHhtCxnDSmiaJsosj3rrIXUZgLhU3mhVmsfbKaCujIhNI9nywD4btdYsqKPuMeIqHqLw1cUSok0dDV4V_ap', 'type': 'BOT'}, 'createTime': '2024-02-29T15:25:11.668687Z', 'thread': {'name': 'spaces/-y9kYMAAAAE/threads/vTbJe3g-A6Y', 'retentionSettings': {'state': 'PERMANENT'}}, 'space': {'name': 'spaces/-y9kYMAAAAE', 'type': 'DM', 'singleUserBotDm': True, 'spaceThreadingState': 'UNTHREADED_MESSAGES', 'spaceType': 'DIRECT_MESSAGE', 'spaceHistoryState': 'HISTORY_ON'}, 'cardsV2': [{'cardId': '1709220311335458698', 'card': {'header': {'title': 'GuIA', 'imageType': 'CIRCLE', 'imageUrl': 'https://i.ibb.co/smSDC7K/Logo-Dav-Negro.png', 'imageAltText': 'Avatar DaviChat'}, 'sections': [{'header': 'Respuesta', 'widgets': [{'textParagraph': {'text': '¡Hola! ¿En qué puedo ayudarte hoy?'}}, {'buttonList': {'buttons': [{'icon': {'knownIcon': 'EMAIL'}, 'onClick': {'action': {'function': 'handleClick'}}}]}}], 'collapsible': True, 'uncollapsibleWidgetsCount': 1}]}}], 'retentionSettings': {'state': 'PERMANENT'}, 'messageHistoryState': 'HISTORY_ON'}, 'user': {'name': 'users/105879470233753545511', 'displayName': 'Sergio Stiven Silva Navarrete', 'avatarUrl': 'https://lh3.googleusercontent.com/a/ACg8ocJr5gSZItZSePrc0lbaYKCGBHz6NvR3zdivZktuenPI2cE=k-no', 'email': 'est.sergios.silva@unimilitar.edu.co', 'type': 'HUMAN', 'domainId': '1gxnbnc'}, 'space': {'name': 'spaces/-y9kYMAAAAE', 'type': 'DM', 'singleUserBotDm': True, 'spaceThreadingState': 'UNTHREADED_MESSAGES', 'spaceType': 'DIRECT_MESSAGE', 'spaceHistoryState': 'HISTORY_ON'}, 'action': {'actionMethodName': 'handleClick'}, 'common': {'userLocale': 'es', 'hostApp': 'CHAT', 'timeZone': {'id': 'America/Bogota', 'offset': -18000000}, 'invokedFunction': 'handleClick'}}"
   ]
  }
 ],
 "metadata": {
  "kernelspec": {
   "display_name": "datasc",
   "language": "python",
   "name": "python3"
  },
  "language_info": {
   "codemirror_mode": {
    "name": "ipython",
    "version": 3
   },
   "file_extension": ".py",
   "mimetype": "text/x-python",
   "name": "python",
   "nbconvert_exporter": "python",
   "pygments_lexer": "ipython3",
   "version": "3.11.7"
  }
 },
 "nbformat": 4,
 "nbformat_minor": 2
}
