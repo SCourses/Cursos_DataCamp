{
 "cells": [
  {
   "cell_type": "markdown",
   "metadata": {},
   "source": [
    "# Intro to PySpark\n"
   ]
  },
  {
   "cell_type": "markdown",
   "metadata": {},
   "source": [
    "## What is Spark, anyway?"
   ]
  },
  {
   "cell_type": "markdown",
   "metadata": {},
   "source": [
    "Spark is a platform for cluster computing. Spark lets you spread data and computations over clusters with multiple nodes (think of each node as a separate computer). Splitting up your data makes it easier to work with very large datasets because each node only works with a small amount of data.\n",
    "\n",
    "As each node works on its own subset of the total data, it also carries out a part of the total calculations required, so that both data processing and computation are performed in parallel over the nodes in the cluster. It is a fact that parallel computation can make certain types of programming tasks much faster.\n",
    "\n",
    "However, with greater computing power comes greater complexity.\n",
    "\n",
    "Deciding whether or not Spark is the best solution for your problem takes some experience, but you can consider questions like:\n",
    "\n",
    "Is my data too big to work with on a single machine?\n",
    "Can my calculations be easily parallelized?\n",
    "Are you excited to learn more about Spark?"
   ]
  },
  {
   "cell_type": "markdown",
   "metadata": {},
   "source": [
    "## Using Spark in Python"
   ]
  },
  {
   "cell_type": "markdown",
   "metadata": {},
   "source": [
    "The first step in using Spark is connecting to a cluster.\n",
    "\n",
    "In practice, the cluster will be hosted on a remote machine that's connected to all other nodes. There will be one computer, called the master that manages splitting up the data and the computations. The master is connected to the rest of the computers in the cluster, which are called worker. The master sends the workers data and calculations to run, and they send their results back to the master.\n",
    "\n",
    "When you're just getting started with Spark it's simpler to just run a cluster locally. Thus, for this course, instead of connecting to another computer, all computations will be run on DataCamp's servers in a simulated cluster.\n",
    "\n",
    "Creating the connection is as simple as creating an instance of the SparkContext class. The class constructor takes a few optional arguments that allow you to specify the attributes of the cluster you're connecting to.\n",
    "\n",
    "An object holding all these attributes can be created with the SparkConf() constructor. Take a look at the documentation for all the details!\n",
    "\n",
    "For the rest of this course you'll have a SparkContext called sc already available in your workspace."
   ]
  },
  {
   "cell_type": "markdown",
   "metadata": {},
   "source": [
    "## Using DataFrames"
   ]
  },
  {
   "cell_type": "markdown",
   "metadata": {},
   "source": [
    "park's core data structure is the Resilient Distributed Dataset (RDD). This is a low level object that lets Spark work its magic by splitting data across multiple nodes in the cluster. However, RDDs are hard to work with directly, so in this course you'll be using the Spark DataFrame abstraction built on top of RDDs.\n",
    "\n",
    "The Spark DataFrame was designed to behave a lot like a SQL table (a table with variables in the columns and observations in the rows). Not only are they easier to understand, DataFrames are also more optimized for complicated operations than RDDs.\n",
    "\n",
    "When you start modifying and combining columns and rows of data, there are many ways to arrive at the same result, but some often take much longer than others. When using RDDs, it's up to the data scientist to figure out the right way to optimize the query, but the DataFrame implementation has much of this optimization built in!\n",
    "\n",
    "To start working with Spark DataFrames, you first have to create a SparkSession object from your SparkContext. You can think of the SparkContext as your connection to the cluster and the SparkSession as your interface with that connection.\n",
    "\n",
    "Remember, for the rest of this course you'll have a SparkSession called spark available in your workspace!"
   ]
  },
  {
   "cell_type": "code",
   "execution_count": 1,
   "metadata": {},
   "outputs": [
    {
     "name": "stderr",
     "output_type": "stream",
     "text": [
      "23/10/04 20:16:05 WARN Utils: Your hostname, sergio-Lenovo-Y520-15IKBN resolves to a loopback address: 127.0.1.1; using 192.168.1.17 instead (on interface wlp3s0)\n",
      "23/10/04 20:16:05 WARN Utils: Set SPARK_LOCAL_IP if you need to bind to another address\n",
      "Setting default log level to \"WARN\".\n",
      "To adjust logging level use sc.setLogLevel(newLevel). For SparkR, use setLogLevel(newLevel).\n",
      "23/10/04 20:16:06 WARN NativeCodeLoader: Unable to load native-hadoop library for your platform... using builtin-java classes where applicable\n"
     ]
    },
    {
     "name": "stdout",
     "output_type": "stream",
     "text": [
      "<pyspark.sql.session.SparkSession object at 0x7fa3db6be2e0>\n",
      "[]\n"
     ]
    }
   ],
   "source": [
    "# Import SparkSession from pyspark.sql\n",
    "from pyspark.sql import SparkSession\n",
    "import pandas as pd\n",
    "\n",
    "# Create my_spark\n",
    "spark = SparkSession.builder.getOrCreate()\n",
    "\n",
    "# Print my_spark\n",
    "print(spark)\n",
    "print(spark.catalog.listTables())"
   ]
  },
  {
   "cell_type": "code",
   "execution_count": 2,
   "metadata": {},
   "outputs": [
    {
     "name": "stdout",
     "output_type": "stream",
     "text": [
      "+----+-----+---+--------+---------+--------+---------+-------+-------+------+------+----+--------+--------+----+------+\n",
      "|year|month|day|dep_time|dep_delay|arr_time|arr_delay|carrier|tailnum|flight|origin|dest|air_time|distance|hour|minute|\n",
      "+----+-----+---+--------+---------+--------+---------+-------+-------+------+------+----+--------+--------+----+------+\n",
      "|2014|   12|  8|   658.0|     -7.0|   935.0|     -5.0|     VX| N846VA|  1780|   SEA| LAX|   132.0|     954| 6.0|  58.0|\n",
      "|2014|    1| 22|  1040.0|      5.0|  1505.0|      5.0|     AS| N559AS|   851|   SEA| HNL|   360.0|    2677|10.0|  40.0|\n",
      "|2014|    3|  9|  1443.0|     -2.0|  1652.0|      2.0|     VX| N847VA|   755|   SEA| SFO|   111.0|     679|14.0|  43.0|\n",
      "|2014|    4|  9|  1705.0|     45.0|  1839.0|     34.0|     WN| N360SW|   344|   PDX| SJC|    83.0|     569|17.0|   5.0|\n",
      "|2014|    3|  9|   754.0|     -1.0|  1015.0|      1.0|     AS| N612AS|   522|   SEA| BUR|   127.0|     937| 7.0|  54.0|\n",
      "|2014|    1| 15|  1037.0|      7.0|  1352.0|      2.0|     WN| N646SW|    48|   PDX| DEN|   121.0|     991|10.0|  37.0|\n",
      "|2014|    7|  2|   847.0|     42.0|  1041.0|     51.0|     WN| N422WN|  1520|   PDX| OAK|    90.0|     543| 8.0|  47.0|\n",
      "|2014|    5| 12|  1655.0|     -5.0|  1842.0|    -18.0|     VX| N361VA|   755|   SEA| SFO|    98.0|     679|16.0|  55.0|\n",
      "|2014|    4| 19|  1236.0|     -4.0|  1508.0|     -7.0|     AS| N309AS|   490|   SEA| SAN|   135.0|    1050|12.0|  36.0|\n",
      "|2014|   11| 19|  1812.0|     -3.0|  2352.0|     -4.0|     AS| N564AS|    26|   SEA| ORD|   198.0|    1721|18.0|  12.0|\n",
      "+----+-----+---+--------+---------+--------+---------+-------+-------+------+------+----+--------+--------+----+------+\n",
      "\n"
     ]
    }
   ],
   "source": [
    "df=spark.read.option(\"delimiter\", \",\").option(\"header\", True).csv(\"Fligths.csv\")\n",
    "df.createOrReplaceTempView(\"flights\")\n",
    "# Don't change this query\n",
    "query = \"FROM flights SELECT * LIMIT 10\"\n",
    "\n",
    "# Get the first 10 rows of flights\n",
    "flights10 = spark.sql(query)\n",
    "\n",
    "# Show the results\n",
    "flights10.show()"
   ]
  },
  {
   "cell_type": "code",
   "execution_count": 3,
   "metadata": {},
   "outputs": [
    {
     "name": "stdout",
     "output_type": "stream",
     "text": [
      "  origin dest    N\n",
      "0    SEA  RNO    8\n",
      "1    SEA  DTW   98\n",
      "2    SEA  CLE    2\n",
      "3    SEA  LAX  450\n",
      "4    PDX  SEA  144\n"
     ]
    }
   ],
   "source": [
    "# Don't change this query\n",
    "query = \"SELECT origin, dest, COUNT(*) as N FROM flights GROUP BY origin, dest\"\n",
    "\n",
    "# Run the query\n",
    "flight_counts = spark.sql(query)\n",
    "\n",
    "# Convert the results to a pandas DataFrame\n",
    "pd_counts = flight_counts.toPandas()\n",
    "\n",
    "# Print the head of pd_counts\n",
    "print(pd_counts.head())"
   ]
  },
  {
   "cell_type": "markdown",
   "metadata": {},
   "source": [
    "### Put some Spark in your data"
   ]
  },
  {
   "attachments": {
    "image.png": {
     "image/png": "[encoded data removed]"
    }
   },
   "cell_type": "markdown",
   "metadata": {},
   "source": [
    "In the last exercise, you saw how to move data from Spark to pandas. However, maybe you want to go the other direction, and put a pandas DataFrame into a Spark cluster! The SparkSession class has a method for this as well.\n",
    "\n",
    "The .createDataFrame() method takes a pandas DataFrame and returns a Spark DataFrame.\n",
    "\n",
    "The output of this method is stored locally, not in the SparkSession catalog. This means that you can use all the Spark DataFrame methods on it, but you can't access the data in other contexts.\n",
    "\n",
    "For example, a SQL query (using the .sql() method) that references your DataFrame will throw an error. To access the data in this way, you have to save it as a temporary table.\n",
    "\n",
    "You can do this using the .createTempView() Spark DataFrame method, which takes as its only argument the name of the temporary table you'd like to register. This method registers the DataFrame as a table in the catalog, but as this table is temporary, it can only be accessed from the specific SparkSession used to create the Spark DataFrame.\n",
    "\n",
    "There is also the method .createOrReplaceTempView(). This safely creates a new temporary table if nothing was there before, or updates an existing table if one was already defined. You'll use this method to avoid running into problems with duplicate tables.\n",
    "\n",
    "Check out the diagram to see all the different ways your Spark data structures interact with each other.\n",
    "\n",
    "![image.png](attachment:image.png)"
   ]
  },
  {
   "cell_type": "code",
   "execution_count": 4,
   "metadata": {},
   "outputs": [
    {
     "name": "stdout",
     "output_type": "stream",
     "text": [
      "[Table(name='flights', catalog=None, namespace=[], description=None, tableType='TEMPORARY', isTemporary=True)]\n",
      "[Table(name='flights', catalog=None, namespace=[], description=None, tableType='TEMPORARY', isTemporary=True), Table(name='temp', catalog=None, namespace=[], description=None, tableType='TEMPORARY', isTemporary=True)]\n"
     ]
    }
   ],
   "source": [
    "import numpy as np \n",
    "# Create pd_temp\n",
    "pd_temp = pd.DataFrame(np.random.random(10))\n",
    "\n",
    "# Create spark_temp from pd_temp\n",
    "spark_temp = spark.createDataFrame(pd_temp)\n",
    "\n",
    "# Examine the tables in the catalog\n",
    "print(spark.catalog.listTables())\n",
    "\n",
    "# Add spark_temp to the catalog\n",
    "spark_temp.createOrReplaceTempView(\"temp\")\n",
    "\n",
    "# Examine the tables in the catalog again\n",
    "print(spark.catalog.listTables())"
   ]
  },
  {
   "cell_type": "code",
   "execution_count": 5,
   "metadata": {},
   "outputs": [
    {
     "name": "stdout",
     "output_type": "stream",
     "text": [
      "+---+--------------------+----------------+-----------------+----+---+---+\n",
      "|faa|                name|             lat|              lon| alt| tz|dst|\n",
      "+---+--------------------+----------------+-----------------+----+---+---+\n",
      "|04G|   Lansdowne Airport|      41.1304722|      -80.6195833|1044| -5|  A|\n",
      "|06A|Moton Field Munic...|      32.4605722|      -85.6800278| 264| -5|  A|\n",
      "|06C| Schaumburg Regional|      41.9893408|      -88.1012428| 801| -6|  A|\n",
      "|06N|     Randall Airport|       41.431912|      -74.3915611| 523| -5|  A|\n",
      "|09J|Jekyll Island Air...|      31.0744722|      -81.4277778|  11| -4|  A|\n",
      "|0A9|Elizabethton Muni...|      36.3712222|      -82.1734167|1593| -4|  A|\n",
      "|0G6|Williams County A...|      41.4673056|      -84.5067778| 730| -5|  A|\n",
      "|0G7|Finger Lakes Regi...|      42.8835647|      -76.7812318| 492| -5|  A|\n",
      "|0P2|Shoestring Aviati...|      39.7948244|      -76.6471914|1000| -5|  U|\n",
      "|0S9|Jefferson County ...|      48.0538086|     -122.8106436| 108| -8|  A|\n",
      "|0W3|Harford County Ai...|      39.5668378|      -76.2024028| 409| -5|  A|\n",
      "|10C|  Galt Field Airport|      42.4028889|      -88.3751111| 875| -6|  U|\n",
      "|17G|Port Bucyrus-Craw...|      40.7815556|      -82.9748056|1003| -5|  A|\n",
      "|19A|Jackson County Ai...|      34.1758638|      -83.5615972| 951| -4|  U|\n",
      "|1A3|Martin Campbell F...|      35.0158056|      -84.3468333|1789| -4|  A|\n",
      "|1B9| Mansfield Municipal|      42.0001331|      -71.1967714| 122| -5|  A|\n",
      "|1C9|Frazier Lake Airpark|54.0133333333333|-124.768333333333| 152| -8|  A|\n",
      "|1CS|Clow Internationa...|      41.6959744|      -88.1292306| 670| -6|  U|\n",
      "|1G3|  Kent State Airport|      41.1513889|      -81.4151111|1134| -4|  A|\n",
      "|1OH|     Fortman Airport|      40.5553253|      -84.3866186| 885| -5|  U|\n",
      "+---+--------------------+----------------+-----------------+----+---+---+\n",
      "only showing top 20 rows\n",
      "\n"
     ]
    }
   ],
   "source": [
    "# Don't change this file path\n",
    "file_path = \"airports.csv\"\n",
    "\n",
    "# Read in the airports data\n",
    "airports = spark.read.csv(file_path, header=True)\n",
    "\n",
    "# Show the data\n",
    "airports.show()"
   ]
  },
  {
   "cell_type": "markdown",
   "metadata": {},
   "source": [
    "## Manipulating Data"
   ]
  },
  {
   "cell_type": "markdown",
   "metadata": {},
   "source": [
    "## Creating columns"
   ]
  },
  {
   "cell_type": "markdown",
   "metadata": {},
   "source": [
    "In this chapter, you'll learn how to use the methods defined by Spark's DataFrame class to perform common data operations.\n",
    "\n",
    "Let's look at performing column-wise operations. In Spark you can do this using the .withColumn() method, which takes two arguments. First, a string with the name of your new column, and second the new column itself.\n",
    "\n",
    "The new column must be an object of class Column. Creating one of these is as easy as extracting a column from your DataFrame using df.colName.\n",
    "\n",
    "Updating a Spark DataFrame is somewhat different than working in pandas because the Spark DataFrame is immutable. This means that it can't be changed, and so columns can't be updated in place.\n",
    "\n",
    "Thus, all these methods return a new DataFrame. To overwrite the original DataFrame you must reassign the returned DataFrame using the method like so:\n",
    "\n",
    "df = df.withColumn(\"newCol\", df.oldCol + 1)\n",
    "\n",
    "The above code creates a DataFrame with the same columns as df plus a new column, newCol, where every entry is equal to the corresponding entry from oldCol, plus one.\n",
    "\n",
    "To overwrite an existing column, just pass the name of the column as the first argument!\n",
    "\n",
    "Remember, a SparkSession called spark is already in your workspace."
   ]
  },
  {
   "cell_type": "code",
   "execution_count": 6,
   "metadata": {},
   "outputs": [
    {
     "name": "stdout",
     "output_type": "stream",
     "text": [
      "+----+-----+---+--------+---------+--------+---------+-------+-------+------+------+----+--------+--------+----+------+\n",
      "|year|month|day|dep_time|dep_delay|arr_time|arr_delay|carrier|tailnum|flight|origin|dest|air_time|distance|hour|minute|\n",
      "+----+-----+---+--------+---------+--------+---------+-------+-------+------+------+----+--------+--------+----+------+\n",
      "|2014|   12|  8|   658.0|     -7.0|   935.0|     -5.0|     VX| N846VA|  1780|   SEA| LAX|   132.0|     954| 6.0|  58.0|\n",
      "|2014|    1| 22|  1040.0|      5.0|  1505.0|      5.0|     AS| N559AS|   851|   SEA| HNL|   360.0|    2677|10.0|  40.0|\n",
      "|2014|    3|  9|  1443.0|     -2.0|  1652.0|      2.0|     VX| N847VA|   755|   SEA| SFO|   111.0|     679|14.0|  43.0|\n",
      "|2014|    4|  9|  1705.0|     45.0|  1839.0|     34.0|     WN| N360SW|   344|   PDX| SJC|    83.0|     569|17.0|   5.0|\n",
      "|2014|    3|  9|   754.0|     -1.0|  1015.0|      1.0|     AS| N612AS|   522|   SEA| BUR|   127.0|     937| 7.0|  54.0|\n",
      "|2014|    1| 15|  1037.0|      7.0|  1352.0|      2.0|     WN| N646SW|    48|   PDX| DEN|   121.0|     991|10.0|  37.0|\n",
      "|2014|    7|  2|   847.0|     42.0|  1041.0|     51.0|     WN| N422WN|  1520|   PDX| OAK|    90.0|     543| 8.0|  47.0|\n",
      "|2014|    5| 12|  1655.0|     -5.0|  1842.0|    -18.0|     VX| N361VA|   755|   SEA| SFO|    98.0|     679|16.0|  55.0|\n",
      "|2014|    4| 19|  1236.0|     -4.0|  1508.0|     -7.0|     AS| N309AS|   490|   SEA| SAN|   135.0|    1050|12.0|  36.0|\n",
      "|2014|   11| 19|  1812.0|     -3.0|  2352.0|     -4.0|     AS| N564AS|    26|   SEA| ORD|   198.0|    1721|18.0|  12.0|\n",
      "|2014|   11|  8|  1653.0|     -2.0|  1924.0|     -1.0|     AS| N323AS|   448|   SEA| LAX|   130.0|     954|16.0|  53.0|\n",
      "|2014|    8|  3|  1120.0|      0.0|  1415.0|      2.0|     AS| N305AS|   656|   SEA| PHX|   154.0|    1107|11.0|  20.0|\n",
      "|2014|   10| 30|   811.0|     21.0|  1038.0|     29.0|     AS| N433AS|   608|   SEA| LAS|   127.0|     867| 8.0|  11.0|\n",
      "|2014|   11| 12|  2346.0|     -4.0|   217.0|    -28.0|     AS| N765AS|   121|   SEA| ANC|   183.0|    1448|23.0|  46.0|\n",
      "|2014|   10| 31|  1314.0|     89.0|  1544.0|    111.0|     AS| N713AS|   306|   SEA| SFO|   129.0|     679|13.0|  14.0|\n",
      "|2014|    1| 29|  2009.0|      3.0|  2159.0|      9.0|     UA| N27205|  1458|   PDX| SFO|    90.0|     550|20.0|   9.0|\n",
      "|2014|   12| 17|  2015.0|     50.0|  2150.0|     41.0|     AS| N626AS|   368|   SEA| SMF|    76.0|     605|20.0|  15.0|\n",
      "|2014|    8| 11|  1017.0|     -3.0|  1613.0|     -7.0|     WN| N8634A|   827|   SEA| MDW|   216.0|    1733|10.0|  17.0|\n",
      "|2014|    1| 13|  2156.0|     -9.0|   607.0|    -15.0|     AS| N597AS|    24|   SEA| BOS|   290.0|    2496|21.0|  56.0|\n",
      "|2014|    6|  5|  1733.0|    -12.0|  1945.0|    -10.0|     OO| N215AG|  3488|   PDX| BUR|   111.0|     817|17.0|  33.0|\n",
      "+----+-----+---+--------+---------+--------+---------+-------+-------+------+------+----+--------+--------+----+------+\n",
      "only showing top 20 rows\n",
      "\n"
     ]
    }
   ],
   "source": [
    "# Create the DataFrame flights\n",
    "flights = spark.table(\"flights\")\n",
    "\n",
    "# Show the head\n",
    "flights.show()\n",
    "\n",
    "# Add duration_hrs\n",
    "flights = flights.withColumn(\"duration_hrs\",flights.air_time/60)"
   ]
  },
  {
   "cell_type": "code",
   "execution_count": 7,
   "metadata": {},
   "outputs": [
    {
     "name": "stdout",
     "output_type": "stream",
     "text": [
      "+----+-----+---+--------+---------+--------+---------+-------+-------+------+------+----+--------+--------+----+------+------------------+\n",
      "|year|month|day|dep_time|dep_delay|arr_time|arr_delay|carrier|tailnum|flight|origin|dest|air_time|distance|hour|minute|      duration_hrs|\n",
      "+----+-----+---+--------+---------+--------+---------+-------+-------+------+------+----+--------+--------+----+------+------------------+\n",
      "|2014|   12|  8|   658.0|     -7.0|   935.0|     -5.0|     VX| N846VA|  1780|   SEA| LAX|   132.0|     954| 6.0|  58.0|               2.2|\n",
      "|2014|    1| 22|  1040.0|      5.0|  1505.0|      5.0|     AS| N559AS|   851|   SEA| HNL|   360.0|    2677|10.0|  40.0|               6.0|\n",
      "|2014|    3|  9|  1443.0|     -2.0|  1652.0|      2.0|     VX| N847VA|   755|   SEA| SFO|   111.0|     679|14.0|  43.0|              1.85|\n",
      "|2014|    4|  9|  1705.0|     45.0|  1839.0|     34.0|     WN| N360SW|   344|   PDX| SJC|    83.0|     569|17.0|   5.0|1.3833333333333333|\n",
      "|2014|    3|  9|   754.0|     -1.0|  1015.0|      1.0|     AS| N612AS|   522|   SEA| BUR|   127.0|     937| 7.0|  54.0|2.1166666666666667|\n",
      "|2014|    1| 15|  1037.0|      7.0|  1352.0|      2.0|     WN| N646SW|    48|   PDX| DEN|   121.0|     991|10.0|  37.0|2.0166666666666666|\n",
      "|2014|    7|  2|   847.0|     42.0|  1041.0|     51.0|     WN| N422WN|  1520|   PDX| OAK|    90.0|     543| 8.0|  47.0|               1.5|\n",
      "|2014|    5| 12|  1655.0|     -5.0|  1842.0|    -18.0|     VX| N361VA|   755|   SEA| SFO|    98.0|     679|16.0|  55.0|1.6333333333333333|\n",
      "|2014|    4| 19|  1236.0|     -4.0|  1508.0|     -7.0|     AS| N309AS|   490|   SEA| SAN|   135.0|    1050|12.0|  36.0|              2.25|\n",
      "|2014|   11| 19|  1812.0|     -3.0|  2352.0|     -4.0|     AS| N564AS|    26|   SEA| ORD|   198.0|    1721|18.0|  12.0|               3.3|\n",
      "|2014|   11|  8|  1653.0|     -2.0|  1924.0|     -1.0|     AS| N323AS|   448|   SEA| LAX|   130.0|     954|16.0|  53.0|2.1666666666666665|\n",
      "|2014|    8|  3|  1120.0|      0.0|  1415.0|      2.0|     AS| N305AS|   656|   SEA| PHX|   154.0|    1107|11.0|  20.0| 2.566666666666667|\n",
      "|2014|   10| 30|   811.0|     21.0|  1038.0|     29.0|     AS| N433AS|   608|   SEA| LAS|   127.0|     867| 8.0|  11.0|2.1166666666666667|\n",
      "|2014|   11| 12|  2346.0|     -4.0|   217.0|    -28.0|     AS| N765AS|   121|   SEA| ANC|   183.0|    1448|23.0|  46.0|              3.05|\n",
      "|2014|   10| 31|  1314.0|     89.0|  1544.0|    111.0|     AS| N713AS|   306|   SEA| SFO|   129.0|     679|13.0|  14.0|              2.15|\n",
      "|2014|    1| 29|  2009.0|      3.0|  2159.0|      9.0|     UA| N27205|  1458|   PDX| SFO|    90.0|     550|20.0|   9.0|               1.5|\n",
      "|2014|   12| 17|  2015.0|     50.0|  2150.0|     41.0|     AS| N626AS|   368|   SEA| SMF|    76.0|     605|20.0|  15.0|1.2666666666666666|\n",
      "|2014|    8| 11|  1017.0|     -3.0|  1613.0|     -7.0|     WN| N8634A|   827|   SEA| MDW|   216.0|    1733|10.0|  17.0|               3.6|\n",
      "|2014|    1| 13|  2156.0|     -9.0|   607.0|    -15.0|     AS| N597AS|    24|   SEA| BOS|   290.0|    2496|21.0|  56.0| 4.833333333333333|\n",
      "|2014|    6|  5|  1733.0|    -12.0|  1945.0|    -10.0|     OO| N215AG|  3488|   PDX| BUR|   111.0|     817|17.0|  33.0|              1.85|\n",
      "+----+-----+---+--------+---------+--------+---------+-------+-------+------+------+----+--------+--------+----+------+------------------+\n",
      "only showing top 20 rows\n",
      "\n"
     ]
    }
   ],
   "source": [
    "flights.show()"
   ]
  },
  {
   "cell_type": "markdown",
   "metadata": {},
   "source": [
    "## Filtering Data\n",
    "Now that you have a bit of SQL know-how under your belt, it's easier to talk about the analogous operations using Spark DataFrames.\n",
    "\n",
    "Let's take a look at the .filter() method. As you might suspect, this is the Spark counterpart of SQL's WHERE clause. The .filter() method takes either an expression that would follow the WHERE clause of a SQL expression as a string, or a Spark Column of boolean (True/False) values.\n",
    "\n",
    "For example, the following two expressions will produce the same output:\n",
    "\n",
    "flights.filter(\"air_time > 120\").show()\n",
    "```flights.filter(flights.air_time > 120).show()```"
   ]
  },
  {
   "cell_type": "code",
   "execution_count": 8,
   "metadata": {},
   "outputs": [
    {
     "name": "stdout",
     "output_type": "stream",
     "text": [
      "+----+-----+---+--------+---------+--------+---------+-------+-------+------+------+----+--------+--------+----+------+------------------+\n",
      "|year|month|day|dep_time|dep_delay|arr_time|arr_delay|carrier|tailnum|flight|origin|dest|air_time|distance|hour|minute|      duration_hrs|\n",
      "+----+-----+---+--------+---------+--------+---------+-------+-------+------+------+----+--------+--------+----+------+------------------+\n",
      "|2014|    1| 22|  1040.0|      5.0|  1505.0|      5.0|     AS| N559AS|   851|   SEA| HNL|   360.0|    2677|10.0|  40.0|               6.0|\n",
      "|2014|    4| 19|  1236.0|     -4.0|  1508.0|     -7.0|     AS| N309AS|   490|   SEA| SAN|   135.0|    1050|12.0|  36.0|              2.25|\n",
      "|2014|   11| 19|  1812.0|     -3.0|  2352.0|     -4.0|     AS| N564AS|    26|   SEA| ORD|   198.0|    1721|18.0|  12.0|               3.3|\n",
      "|2014|    8|  3|  1120.0|      0.0|  1415.0|      2.0|     AS| N305AS|   656|   SEA| PHX|   154.0|    1107|11.0|  20.0| 2.566666666666667|\n",
      "|2014|   11| 12|  2346.0|     -4.0|   217.0|    -28.0|     AS| N765AS|   121|   SEA| ANC|   183.0|    1448|23.0|  46.0|              3.05|\n",
      "|2014|    8| 11|  1017.0|     -3.0|  1613.0|     -7.0|     WN| N8634A|   827|   SEA| MDW|   216.0|    1733|10.0|  17.0|               3.6|\n",
      "|2014|    1| 13|  2156.0|     -9.0|   607.0|    -15.0|     AS| N597AS|    24|   SEA| BOS|   290.0|    2496|21.0|  56.0| 4.833333333333333|\n",
      "|2014|    9| 26|   610.0|     -5.0|  1523.0|     65.0|     US| N127UW|   616|   SEA| PHL|   293.0|    2378| 6.0|  10.0| 4.883333333333334|\n",
      "|2014|   12|  4|   954.0|     -6.0|  1348.0|    -17.0|     HA| N395HA|    29|   SEA| OGG|   333.0|    2640| 9.0|  54.0|              5.55|\n",
      "|2014|    6|  4|  1115.0|      0.0|  1346.0|     -3.0|     AS| N461AS|   488|   SEA| SAN|   133.0|    1050|11.0|  15.0| 2.216666666666667|\n",
      "|2014|    6| 26|  2054.0|     -1.0|  2318.0|     -6.0|     B6| N590JB|   907|   SEA| ANC|   179.0|    1448|20.0|  54.0|2.9833333333333334|\n",
      "|2014|    6|  7|  1823.0|     -7.0|  2112.0|    -28.0|     AS| N512AS|   815|   SEA| LIH|   335.0|    2701|18.0|  23.0| 5.583333333333333|\n",
      "|2014|    4| 30|   801.0|      1.0|  1757.0|     90.0|     AS| N407AS|    18|   SEA| MCO|   342.0|    2554| 8.0|   1.0|               5.7|\n",
      "|2014|   11| 29|   905.0|    155.0|  1655.0|    170.0|     DL| N824DN|  1598|   SEA| ATL|   229.0|    2182| 9.0|   5.0| 3.816666666666667|\n",
      "|2014|    6|  2|  2222.0|      7.0|    55.0|     15.0|     AS| N402AS|    99|   SEA| ANC|   190.0|    1448|22.0|  22.0|3.1666666666666665|\n",
      "|2014|   11| 15|  1034.0|     -6.0|  1414.0|    -26.0|     AS| N589AS|   794|   SEA| ABQ|   139.0|    1180|10.0|  34.0| 2.316666666666667|\n",
      "|2014|   10| 20|  1328.0|     -1.0|  1949.0|      4.0|     UA| N68805|  1212|   SEA| IAH|   228.0|    1874|13.0|  28.0|               3.8|\n",
      "|2014|   12| 16|  1500.0|      0.0|  1906.0|     19.0|     US| N662AW|   500|   SEA| PHX|   151.0|    1107|15.0|   0.0|2.5166666666666666|\n",
      "|2014|   11| 19|  1319.0|     -6.0|  1821.0|    -14.0|     DL| N309US|  2164|   PDX| MSP|   169.0|    1426|13.0|  19.0| 2.816666666666667|\n",
      "|2014|    5| 21|   515.0|      0.0|   757.0|      0.0|     US| N172US|   593|   SEA| PHX|   143.0|    1107| 5.0|  15.0|2.3833333333333333|\n",
      "+----+-----+---+--------+---------+--------+---------+-------+-------+------+------+----+--------+--------+----+------+------------------+\n",
      "only showing top 20 rows\n",
      "\n",
      "+----+-----+---+--------+---------+--------+---------+-------+-------+------+------+----+--------+--------+----+------+------------------+\n",
      "|year|month|day|dep_time|dep_delay|arr_time|arr_delay|carrier|tailnum|flight|origin|dest|air_time|distance|hour|minute|      duration_hrs|\n",
      "+----+-----+---+--------+---------+--------+---------+-------+-------+------+------+----+--------+--------+----+------+------------------+\n",
      "|2014|    1| 22|  1040.0|      5.0|  1505.0|      5.0|     AS| N559AS|   851|   SEA| HNL|   360.0|    2677|10.0|  40.0|               6.0|\n",
      "|2014|    4| 19|  1236.0|     -4.0|  1508.0|     -7.0|     AS| N309AS|   490|   SEA| SAN|   135.0|    1050|12.0|  36.0|              2.25|\n",
      "|2014|   11| 19|  1812.0|     -3.0|  2352.0|     -4.0|     AS| N564AS|    26|   SEA| ORD|   198.0|    1721|18.0|  12.0|               3.3|\n",
      "|2014|    8|  3|  1120.0|      0.0|  1415.0|      2.0|     AS| N305AS|   656|   SEA| PHX|   154.0|    1107|11.0|  20.0| 2.566666666666667|\n",
      "|2014|   11| 12|  2346.0|     -4.0|   217.0|    -28.0|     AS| N765AS|   121|   SEA| ANC|   183.0|    1448|23.0|  46.0|              3.05|\n",
      "|2014|    8| 11|  1017.0|     -3.0|  1613.0|     -7.0|     WN| N8634A|   827|   SEA| MDW|   216.0|    1733|10.0|  17.0|               3.6|\n",
      "|2014|    1| 13|  2156.0|     -9.0|   607.0|    -15.0|     AS| N597AS|    24|   SEA| BOS|   290.0|    2496|21.0|  56.0| 4.833333333333333|\n",
      "|2014|    9| 26|   610.0|     -5.0|  1523.0|     65.0|     US| N127UW|   616|   SEA| PHL|   293.0|    2378| 6.0|  10.0| 4.883333333333334|\n",
      "|2014|   12|  4|   954.0|     -6.0|  1348.0|    -17.0|     HA| N395HA|    29|   SEA| OGG|   333.0|    2640| 9.0|  54.0|              5.55|\n",
      "|2014|    6|  4|  1115.0|      0.0|  1346.0|     -3.0|     AS| N461AS|   488|   SEA| SAN|   133.0|    1050|11.0|  15.0| 2.216666666666667|\n",
      "|2014|    6| 26|  2054.0|     -1.0|  2318.0|     -6.0|     B6| N590JB|   907|   SEA| ANC|   179.0|    1448|20.0|  54.0|2.9833333333333334|\n",
      "|2014|    6|  7|  1823.0|     -7.0|  2112.0|    -28.0|     AS| N512AS|   815|   SEA| LIH|   335.0|    2701|18.0|  23.0| 5.583333333333333|\n",
      "|2014|    4| 30|   801.0|      1.0|  1757.0|     90.0|     AS| N407AS|    18|   SEA| MCO|   342.0|    2554| 8.0|   1.0|               5.7|\n",
      "|2014|   11| 29|   905.0|    155.0|  1655.0|    170.0|     DL| N824DN|  1598|   SEA| ATL|   229.0|    2182| 9.0|   5.0| 3.816666666666667|\n",
      "|2014|    6|  2|  2222.0|      7.0|    55.0|     15.0|     AS| N402AS|    99|   SEA| ANC|   190.0|    1448|22.0|  22.0|3.1666666666666665|\n",
      "|2014|   11| 15|  1034.0|     -6.0|  1414.0|    -26.0|     AS| N589AS|   794|   SEA| ABQ|   139.0|    1180|10.0|  34.0| 2.316666666666667|\n",
      "|2014|   10| 20|  1328.0|     -1.0|  1949.0|      4.0|     UA| N68805|  1212|   SEA| IAH|   228.0|    1874|13.0|  28.0|               3.8|\n",
      "|2014|   12| 16|  1500.0|      0.0|  1906.0|     19.0|     US| N662AW|   500|   SEA| PHX|   151.0|    1107|15.0|   0.0|2.5166666666666666|\n",
      "|2014|   11| 19|  1319.0|     -6.0|  1821.0|    -14.0|     DL| N309US|  2164|   PDX| MSP|   169.0|    1426|13.0|  19.0| 2.816666666666667|\n",
      "|2014|    5| 21|   515.0|      0.0|   757.0|      0.0|     US| N172US|   593|   SEA| PHX|   143.0|    1107| 5.0|  15.0|2.3833333333333333|\n",
      "+----+-----+---+--------+---------+--------+---------+-------+-------+------+------+----+--------+--------+----+------+------------------+\n",
      "only showing top 20 rows\n",
      "\n"
     ]
    }
   ],
   "source": [
    "# Filter flights by passing a string\n",
    "long_flights1 = flights.filter(\"distance > 1000\")\n",
    "\n",
    "# Filter flights by passing a column of boolean values\n",
    "long_flights2 = flights.filter(flights.distance > 1000)\n",
    "\n",
    "# Print the data to check they're equal\n",
    "long_flights1.show()\n",
    "long_flights2.show()\n"
   ]
  },
  {
   "cell_type": "markdown",
   "metadata": {},
   "source": [
    "## Selecting"
   ]
  },
  {
   "cell_type": "markdown",
   "metadata": {},
   "source": [
    "The Spark variant of SQL's SELECT is the .select() method. This method takes multiple arguments - one for each column you want to select. These arguments can either be the column name as a string (one for each column) or a column object (using the df.colName syntax). When you pass a column object, you can perform operations like addition or subtraction on the column to change the data contained in it, much like inside .withColumn().\n",
    "\n",
    "The difference between .select() and .withColumn() methods is that .select() returns only the columns you specify, while .withColumn() returns all the columns of the DataFrame in addition to the one you defined. It's often a good idea to drop columns you don't need at the beginning of an operation so that you're not dragging around extra data as you're wrangling. In this case, you would use .select() and not .withColumn()."
   ]
  },
  {
   "cell_type": "code",
   "execution_count": 9,
   "metadata": {},
   "outputs": [
    {
     "name": "stdout",
     "output_type": "stream",
     "text": [
      "+------+----+-------+\n",
      "|origin|dest|carrier|\n",
      "+------+----+-------+\n",
      "|   SEA| PDX|     OO|\n",
      "|   SEA| PDX|     OO|\n",
      "|   SEA| PDX|     OO|\n",
      "|   SEA| PDX|     OO|\n",
      "|   SEA| PDX|     OO|\n",
      "|   SEA| PDX|     AS|\n",
      "|   SEA| PDX|     OO|\n",
      "|   SEA| PDX|     OO|\n",
      "|   SEA| PDX|     OO|\n",
      "|   SEA| PDX|     OO|\n",
      "|   SEA| PDX|     OO|\n",
      "|   SEA| PDX|     OO|\n",
      "|   SEA| PDX|     OO|\n",
      "|   SEA| PDX|     OO|\n",
      "|   SEA| PDX|     AS|\n",
      "|   SEA| PDX|     OO|\n",
      "|   SEA| PDX|     OO|\n",
      "|   SEA| PDX|     OO|\n",
      "|   SEA| PDX|     OO|\n",
      "|   SEA| PDX|     OO|\n",
      "+------+----+-------+\n",
      "only showing top 20 rows\n",
      "\n"
     ]
    }
   ],
   "source": [
    "# Select the first set of columns\n",
    "selected1 = flights.select(\"tailnum\", \"origin\", \"dest\")\n",
    "\n",
    "# Select the second set of columns\n",
    "temp = flights.select(flights.origin, flights.dest, flights.carrier)\n",
    "\n",
    "# Define first filter\n",
    "filterA = flights.origin == \"SEA\"\n",
    "\n",
    "# Define second filter\n",
    "filterB = flights.dest == \"PDX\"\n",
    "\n",
    "# Filter the data, first by filterA then by filterB\n",
    "selected2 = temp.filter(filterA).filter(filterB)\n",
    "\n",
    "selected2.show()"
   ]
  },
  {
   "cell_type": "markdown",
   "metadata": {},
   "source": [
    "## Selecting II"
   ]
  },
  {
   "cell_type": "markdown",
   "metadata": {},
   "source": [
    "Similar to SQL, you can also use the .select() method to perform column-wise operations. When you're selecting a column using the df.colName notation, you can perform any column operation and the .select() method will return the transformed column. For example,\n",
    "\n",
    "```flights.select(flights.air_time/60)```\n",
    "\n",
    "returns a column of flight durations in hours instead of minutes. You can also use the .alias() method to rename a column you're selecting. So if you wanted to .select() the column duration_hrs (which isn't in your DataFrame) you could do\n",
    "\n",
    "```flights.select((flights.air_time/60).alias(\"duration_hrs\"))```\n",
    "\n",
    "The equivalent Spark DataFrame method .selectExpr() takes SQL expressions as a string:\n",
    "\n",
    "```flights.selectExpr(\"air_time/60 as duration_hrs\")```\n",
    "\n",
    "with the SQL as keyword being equivalent to the .alias() method. To select multiple columns, you can pass multiple strings."
   ]
  },
  {
   "cell_type": "code",
   "execution_count": 10,
   "metadata": {},
   "outputs": [],
   "source": [
    "# Define avg_speed\n",
    "avg_speed = (flights.distance/(flights.air_time/60)).alias(\"avg_speed\")\n",
    "\n",
    "# Select the correct columns\n",
    "speed1 = flights.select(\"origin\", \"dest\", \"tailnum\", avg_speed)\n",
    "\n",
    "# Create the same table using a SQL expression\n",
    "speed2 = flights.selectExpr(\"origin\", \"dest\", \"tailnum\", \"distance/(air_time/60) as avg_speed\")"
   ]
  },
  {
   "cell_type": "markdown",
   "metadata": {},
   "source": [
    "## Aggregating"
   ]
  },
  {
   "cell_type": "markdown",
   "metadata": {},
   "source": [
    "All of the common aggregation methods, like .min(), .max(), and .count() are GroupedData methods. These are created by calling the .groupBy() DataFrame method. You'll learn exactly what that means in a few exercises. For now, all you have to do to use these functions is call that method on your DataFrame. For example, to find the minimum value of a column, col, in a DataFrame, df, you could do\n",
    "\n",
    "```df.groupBy().min(\"col\").show()```\n",
    "\n",
    "This creates a GroupedData object (so you can use the .min() method), then finds the minimum value in col, and returns it as a DataFrame."
   ]
  },
  {
   "cell_type": "code",
   "execution_count": 11,
   "metadata": {},
   "outputs": [
    {
     "data": {
      "text/plain": [
       "DataFrame[summary: string, year: string, month: string, day: string, dep_time: string, dep_delay: string, arr_time: string, arr_delay: string, carrier: string, tailnum: string, flight: string, origin: string, dest: string, air_time: string, distance: string, hour: string, minute: string, duration_hrs: string]"
      ]
     },
     "execution_count": 11,
     "metadata": {},
     "output_type": "execute_result"
    }
   ],
   "source": [
    "flights.describe()"
   ]
  },
  {
   "cell_type": "code",
   "execution_count": 12,
   "metadata": {},
   "outputs": [],
   "source": [
    "\n",
    "flights = flights.withColumn(\"distance\", flights.distance.cast(\"float\"))\n",
    "\n",
    "flights = flights.withColumn(\"air_time\", flights.air_time.cast(\"float\"))\n",
    "\n",
    "flights = flights.withColumn(\"dep_delay\", flights.air_time.cast(\"float\"))"
   ]
  },
  {
   "cell_type": "code",
   "execution_count": 13,
   "metadata": {},
   "outputs": [
    {
     "name": "stdout",
     "output_type": "stream",
     "text": [
      "+-------+------------------+-----------------+\n",
      "|summary|          air_time|         distance|\n",
      "+-------+------------------+-----------------+\n",
      "|  count|              9925|            10000|\n",
      "|   mean|152.88423173803525|        1208.1516|\n",
      "| stddev|  72.8656286392139|656.8599023464376|\n",
      "|    min|              20.0|             93.0|\n",
      "|    max|             409.0|           2724.0|\n",
      "+-------+------------------+-----------------+\n",
      "\n"
     ]
    }
   ],
   "source": [
    "flights.describe('air_time', 'distance').show()"
   ]
  },
  {
   "cell_type": "code",
   "execution_count": 14,
   "metadata": {},
   "outputs": [
    {
     "name": "stdout",
     "output_type": "stream",
     "text": [
      "+-------------+\n",
      "|min(distance)|\n",
      "+-------------+\n",
      "|        106.0|\n",
      "+-------------+\n",
      "\n",
      "+-------------+\n",
      "|max(air_time)|\n",
      "+-------------+\n",
      "|        409.0|\n",
      "+-------------+\n",
      "\n"
     ]
    }
   ],
   "source": [
    "# Find the shortest flight from PDX in terms of distance\n",
    "flights.filter(flights.origin == \"PDX\").groupBy().min(\"distance\").show()\n",
    "\n",
    "# Find the longest flight from SEA in terms of air time\n",
    "flights.filter(flights.origin == \"SEA\").groupBy().max(\"air_time\").show()"
   ]
  },
  {
   "cell_type": "code",
   "execution_count": 15,
   "metadata": {},
   "outputs": [
    {
     "name": "stdout",
     "output_type": "stream",
     "text": [
      "+------------------+\n",
      "|     avg(air_time)|\n",
      "+------------------+\n",
      "|188.20689655172413|\n",
      "+------------------+\n",
      "\n",
      "+------------------+\n",
      "| sum(duration_hrs)|\n",
      "+------------------+\n",
      "|25289.600000000126|\n",
      "+------------------+\n",
      "\n"
     ]
    }
   ],
   "source": [
    "# Average duration of Delta flights\n",
    "flights.filter(flights.carrier == \"DL\").filter(flights.origin == \"SEA\").groupBy().avg(\"air_time\").show()\n",
    "\n",
    "# Total hours in the air\n",
    "flights.withColumn(\"duration_hrs\", flights.air_time/60).groupBy().sum(\"duration_hrs\").show()"
   ]
  },
  {
   "cell_type": "markdown",
   "metadata": {},
   "source": [
    "## Grouping and Aggregating I"
   ]
  },
  {
   "cell_type": "code",
   "execution_count": 16,
   "metadata": {},
   "outputs": [
    {
     "name": "stdout",
     "output_type": "stream",
     "text": [
      "+-------+-----+\n",
      "|tailnum|count|\n",
      "+-------+-----+\n",
      "| N442AS|   38|\n",
      "| N102UW|    2|\n",
      "| N36472|    4|\n",
      "| N38451|    4|\n",
      "| N73283|    4|\n",
      "| N513UA|    2|\n",
      "| N954WN|    5|\n",
      "| N388DA|    3|\n",
      "| N567AA|    1|\n",
      "| N516UA|    2|\n",
      "| N927DN|    1|\n",
      "| N8322X|    1|\n",
      "| N466SW|    1|\n",
      "|  N6700|    1|\n",
      "| N607AS|   45|\n",
      "| N622SW|    4|\n",
      "| N584AS|   31|\n",
      "| N914WN|    4|\n",
      "| N654AW|    2|\n",
      "| N336NW|    1|\n",
      "+-------+-----+\n",
      "only showing top 20 rows\n",
      "\n",
      "+------+------------------+\n",
      "|origin|     avg(air_time)|\n",
      "+------+------------------+\n",
      "|   SEA| 160.4361496051259|\n",
      "|   PDX|137.11543248288737|\n",
      "+------+------------------+\n",
      "\n"
     ]
    }
   ],
   "source": [
    "# Group by tailnum\n",
    "by_plane = flights.groupBy(\"tailnum\")\n",
    "\n",
    "# Number of flights each plane made\n",
    "by_plane.count().show()\n",
    "\n",
    "# Group by origin\n",
    "by_origin = flights.groupBy(\"origin\")\n",
    "\n",
    "# Average duration of flights from PDX and SEA\n",
    "by_origin.avg(\"air_time\").show()"
   ]
  },
  {
   "cell_type": "code",
   "execution_count": 17,
   "metadata": {},
   "outputs": [
    {
     "name": "stdout",
     "output_type": "stream",
     "text": [
      "+-----+----+------------------+\n",
      "|month|dest|    avg(dep_delay)|\n",
      "+-----+----+------------------+\n",
      "|   11| TUS|140.33333333333334|\n",
      "|   11| ANC|192.91176470588235|\n",
      "|    1| BUR|             114.0|\n",
      "|    1| PDX| 33.84615384615385|\n",
      "|    6| SBA|            115.25|\n",
      "|    5| LAX|122.89473684210526|\n",
      "|   10| DTW|             217.4|\n",
      "|    6| SIT|             123.0|\n",
      "|   10| DFW| 193.8181818181818|\n",
      "|    3| FAI|             198.8|\n",
      "|   10| SEA|31.733333333333334|\n",
      "|    2| TUS|132.66666666666666|\n",
      "|   12| OGG| 340.8181818181818|\n",
      "|    9| DFW|195.16666666666666|\n",
      "|    5| EWR| 285.0833333333333|\n",
      "|    3| RDM|              29.2|\n",
      "|    8| DCA|             278.1|\n",
      "|    7| ATL|247.54054054054055|\n",
      "|    4| JFK|276.61538461538464|\n",
      "|   10| SNA|             131.4|\n",
      "+-----+----+------------------+\n",
      "only showing top 20 rows\n",
      "\n",
      "+-----+----+------------------+\n",
      "|month|dest| stddev(dep_delay)|\n",
      "+-----+----+------------------+\n",
      "|   11| TUS|1.1547005383792517|\n",
      "|   11| ANC|17.462284287830716|\n",
      "|    1| BUR|7.8337999114498444|\n",
      "|    1| PDX| 3.131723536280351|\n",
      "|    6| SBA|              10.5|\n",
      "|    5| LAX| 7.691690663512013|\n",
      "|   10| DTW| 8.264381404557751|\n",
      "|    6| SIT|              NULL|\n",
      "|   10| DFW|10.892814562403467|\n",
      "|    3| FAI| 6.610597552415363|\n",
      "|   10| SEA|2.9146591730832094|\n",
      "|    2| TUS| 7.234178138070235|\n",
      "|   12| OGG|14.274580076612983|\n",
      "|    9| DFW| 8.391635134458902|\n",
      "|    5| EWR|12.609219811012276|\n",
      "|    3| RDM|1.3038404810405293|\n",
      "|    8| DCA|19.985828312415116|\n",
      "|    7| ATL| 9.923581887477798|\n",
      "|    4| JFK|6.0074739774504025|\n",
      "|   10| SNA|10.342699288456018|\n",
      "+-----+----+------------------+\n",
      "only showing top 20 rows\n",
      "\n"
     ]
    }
   ],
   "source": [
    "# Import pyspark.sql.functions as F\n",
    "import pyspark.sql.functions as F\n",
    "\n",
    "# Group by month and dest\n",
    "by_month_dest = flights.groupBy(\"month\",\"dest\")\n",
    "\n",
    "# Average departure delay by month and destination\n",
    "by_month_dest.avg(\"dep_delay\").show()\n",
    "\n",
    "# Standard deviation of departure delay\n",
    "by_month_dest.agg(F.stddev(\"dep_delay\")).show()"
   ]
  },
  {
   "cell_type": "markdown",
   "metadata": {},
   "source": [
    "## Join"
   ]
  },
  {
   "cell_type": "code",
   "execution_count": 18,
   "metadata": {},
   "outputs": [
    {
     "name": "stdout",
     "output_type": "stream",
     "text": [
      "+---+--------------------+----------------+-----------------+----+---+---+\n",
      "|faa|                name|             lat|              lon| alt| tz|dst|\n",
      "+---+--------------------+----------------+-----------------+----+---+---+\n",
      "|04G|   Lansdowne Airport|      41.1304722|      -80.6195833|1044| -5|  A|\n",
      "|06A|Moton Field Munic...|      32.4605722|      -85.6800278| 264| -5|  A|\n",
      "|06C| Schaumburg Regional|      41.9893408|      -88.1012428| 801| -6|  A|\n",
      "|06N|     Randall Airport|       41.431912|      -74.3915611| 523| -5|  A|\n",
      "|09J|Jekyll Island Air...|      31.0744722|      -81.4277778|  11| -4|  A|\n",
      "|0A9|Elizabethton Muni...|      36.3712222|      -82.1734167|1593| -4|  A|\n",
      "|0G6|Williams County A...|      41.4673056|      -84.5067778| 730| -5|  A|\n",
      "|0G7|Finger Lakes Regi...|      42.8835647|      -76.7812318| 492| -5|  A|\n",
      "|0P2|Shoestring Aviati...|      39.7948244|      -76.6471914|1000| -5|  U|\n",
      "|0S9|Jefferson County ...|      48.0538086|     -122.8106436| 108| -8|  A|\n",
      "|0W3|Harford County Ai...|      39.5668378|      -76.2024028| 409| -5|  A|\n",
      "|10C|  Galt Field Airport|      42.4028889|      -88.3751111| 875| -6|  U|\n",
      "|17G|Port Bucyrus-Craw...|      40.7815556|      -82.9748056|1003| -5|  A|\n",
      "|19A|Jackson County Ai...|      34.1758638|      -83.5615972| 951| -4|  U|\n",
      "|1A3|Martin Campbell F...|      35.0158056|      -84.3468333|1789| -4|  A|\n",
      "|1B9| Mansfield Municipal|      42.0001331|      -71.1967714| 122| -5|  A|\n",
      "|1C9|Frazier Lake Airpark|54.0133333333333|-124.768333333333| 152| -8|  A|\n",
      "|1CS|Clow Internationa...|      41.6959744|      -88.1292306| 670| -6|  U|\n",
      "|1G3|  Kent State Airport|      41.1513889|      -81.4151111|1134| -4|  A|\n",
      "|1OH|     Fortman Airport|      40.5553253|      -84.3866186| 885| -5|  U|\n",
      "+---+--------------------+----------------+-----------------+----+---+---+\n",
      "only showing top 20 rows\n",
      "\n",
      "None\n"
     ]
    }
   ],
   "source": [
    "\n",
    "airports.createOrReplaceTempView(\"airports\")\n",
    "airports=spark.table(\"airports\")\n",
    "\n",
    "# Examine the data\n",
    "print(airports.show())\n",
    "\n",
    "# Rename the faa column\n",
    "airports = airports.withColumnRenamed(\"faa\", \"dest\")\n",
    "\n",
    "# Join the DataFrames\n",
    "flights_with_airports = flights.join(airports,on=\"dest\",how=\"leftouter\")"
   ]
  },
  {
   "cell_type": "code",
   "execution_count": 19,
   "metadata": {},
   "outputs": [
    {
     "name": "stdout",
     "output_type": "stream",
     "text": [
      "+----+----+-----+---+--------+---------+--------+---------+-------+-------+------+------+--------+--------+----+------+------------------+--------------------+---------+-----------+----+---+---+\n",
      "|dest|year|month|day|dep_time|dep_delay|arr_time|arr_delay|carrier|tailnum|flight|origin|air_time|distance|hour|minute|      duration_hrs|                name|      lat|        lon| alt| tz|dst|\n",
      "+----+----+-----+---+--------+---------+--------+---------+-------+-------+------+------+--------+--------+----+------+------------------+--------------------+---------+-----------+----+---+---+\n",
      "| LAX|2014|   12|  8|   658.0|    132.0|   935.0|     -5.0|     VX| N846VA|  1780|   SEA|   132.0|   954.0| 6.0|  58.0|               2.2|    Los Angeles Intl|33.942536|-118.408075| 126| -8|  A|\n",
      "| HNL|2014|    1| 22|  1040.0|    360.0|  1505.0|      5.0|     AS| N559AS|   851|   SEA|   360.0|  2677.0|10.0|  40.0|               6.0|       Honolulu Intl|21.318681|-157.922428|  13|-10|  N|\n",
      "| SFO|2014|    3|  9|  1443.0|    111.0|  1652.0|      2.0|     VX| N847VA|   755|   SEA|   111.0|   679.0|14.0|  43.0|              1.85|  San Francisco Intl|37.618972|-122.374889|  13| -8|  A|\n",
      "| SJC|2014|    4|  9|  1705.0|     83.0|  1839.0|     34.0|     WN| N360SW|   344|   PDX|    83.0|   569.0|17.0|   5.0|1.3833333333333333|Norman Y Mineta S...|  37.3626|-121.929022|  62| -8|  A|\n",
      "| BUR|2014|    3|  9|   754.0|    127.0|  1015.0|      1.0|     AS| N612AS|   522|   SEA|   127.0|   937.0| 7.0|  54.0|2.1166666666666667|            Bob Hope|34.200667|-118.358667| 778| -8|  A|\n",
      "| DEN|2014|    1| 15|  1037.0|    121.0|  1352.0|      2.0|     WN| N646SW|    48|   PDX|   121.0|   991.0|10.0|  37.0|2.0166666666666666|         Denver Intl|39.861656|-104.673178|5431| -7|  A|\n",
      "| OAK|2014|    7|  2|   847.0|     90.0|  1041.0|     51.0|     WN| N422WN|  1520|   PDX|    90.0|   543.0| 8.0|  47.0|               1.5|Metropolitan Oakl...|37.721278|-122.220722|   9| -8|  A|\n",
      "| SFO|2014|    5| 12|  1655.0|     98.0|  1842.0|    -18.0|     VX| N361VA|   755|   SEA|    98.0|   679.0|16.0|  55.0|1.6333333333333333|  San Francisco Intl|37.618972|-122.374889|  13| -8|  A|\n",
      "| SAN|2014|    4| 19|  1236.0|    135.0|  1508.0|     -7.0|     AS| N309AS|   490|   SEA|   135.0|  1050.0|12.0|  36.0|              2.25|      San Diego Intl|32.733556|-117.189667|  17| -8|  A|\n",
      "| ORD|2014|   11| 19|  1812.0|    198.0|  2352.0|     -4.0|     AS| N564AS|    26|   SEA|   198.0|  1721.0|18.0|  12.0|               3.3|  Chicago Ohare Intl|41.978603| -87.904842| 668| -6|  A|\n",
      "| LAX|2014|   11|  8|  1653.0|    130.0|  1924.0|     -1.0|     AS| N323AS|   448|   SEA|   130.0|   954.0|16.0|  53.0|2.1666666666666665|    Los Angeles Intl|33.942536|-118.408075| 126| -8|  A|\n",
      "| PHX|2014|    8|  3|  1120.0|    154.0|  1415.0|      2.0|     AS| N305AS|   656|   SEA|   154.0|  1107.0|11.0|  20.0| 2.566666666666667|Phoenix Sky Harbo...|33.434278|-112.011583|1135| -7|  N|\n",
      "| LAS|2014|   10| 30|   811.0|    127.0|  1038.0|     29.0|     AS| N433AS|   608|   SEA|   127.0|   867.0| 8.0|  11.0|2.1166666666666667|      Mc Carran Intl|36.080056| -115.15225|2141| -8|  A|\n",
      "| ANC|2014|   11| 12|  2346.0|    183.0|   217.0|    -28.0|     AS| N765AS|   121|   SEA|   183.0|  1448.0|23.0|  46.0|              3.05|Ted Stevens Ancho...|61.174361|-149.996361| 152| -9|  A|\n",
      "| SFO|2014|   10| 31|  1314.0|    129.0|  1544.0|    111.0|     AS| N713AS|   306|   SEA|   129.0|   679.0|13.0|  14.0|              2.15|  San Francisco Intl|37.618972|-122.374889|  13| -8|  A|\n",
      "| SFO|2014|    1| 29|  2009.0|     90.0|  2159.0|      9.0|     UA| N27205|  1458|   PDX|    90.0|   550.0|20.0|   9.0|               1.5|  San Francisco Intl|37.618972|-122.374889|  13| -8|  A|\n",
      "| SMF|2014|   12| 17|  2015.0|     76.0|  2150.0|     41.0|     AS| N626AS|   368|   SEA|    76.0|   605.0|20.0|  15.0|1.2666666666666666|     Sacramento Intl|38.695417|-121.590778|  27| -8|  A|\n",
      "| MDW|2014|    8| 11|  1017.0|    216.0|  1613.0|     -7.0|     WN| N8634A|   827|   SEA|   216.0|  1733.0|10.0|  17.0|               3.6| Chicago Midway Intl|41.785972| -87.752417| 620| -6|  A|\n",
      "| BOS|2014|    1| 13|  2156.0|    290.0|   607.0|    -15.0|     AS| N597AS|    24|   SEA|   290.0|  2496.0|21.0|  56.0| 4.833333333333333|General Edward La...|42.364347| -71.005181|  19| -5|  A|\n",
      "| BUR|2014|    6|  5|  1733.0|    111.0|  1945.0|    -10.0|     OO| N215AG|  3488|   PDX|   111.0|   817.0|17.0|  33.0|              1.85|            Bob Hope|34.200667|-118.358667| 778| -8|  A|\n",
      "+----+----+-----+---+--------+---------+--------+---------+-------+-------+------+------+--------+--------+----+------+------------------+--------------------+---------+-----------+----+---+---+\n",
      "only showing top 20 rows\n",
      "\n",
      "None\n"
     ]
    }
   ],
   "source": [
    "# Examine the new DataFrame\n",
    "print(flights_with_airports.show())"
   ]
  },
  {
   "cell_type": "code",
   "execution_count": 20,
   "metadata": {},
   "outputs": [
    {
     "name": "stdout",
     "output_type": "stream",
     "text": [
      "+----+--------------------+----------------+-----------------+----+---+---+\n",
      "|dest|                name|             lat|              lon| alt| tz|dst|\n",
      "+----+--------------------+----------------+-----------------+----+---+---+\n",
      "| 04G|   Lansdowne Airport|      41.1304722|      -80.6195833|1044| -5|  A|\n",
      "| 06A|Moton Field Munic...|      32.4605722|      -85.6800278| 264| -5|  A|\n",
      "| 06C| Schaumburg Regional|      41.9893408|      -88.1012428| 801| -6|  A|\n",
      "| 06N|     Randall Airport|       41.431912|      -74.3915611| 523| -5|  A|\n",
      "| 09J|Jekyll Island Air...|      31.0744722|      -81.4277778|  11| -4|  A|\n",
      "| 0A9|Elizabethton Muni...|      36.3712222|      -82.1734167|1593| -4|  A|\n",
      "| 0G6|Williams County A...|      41.4673056|      -84.5067778| 730| -5|  A|\n",
      "| 0G7|Finger Lakes Regi...|      42.8835647|      -76.7812318| 492| -5|  A|\n",
      "| 0P2|Shoestring Aviati...|      39.7948244|      -76.6471914|1000| -5|  U|\n",
      "| 0S9|Jefferson County ...|      48.0538086|     -122.8106436| 108| -8|  A|\n",
      "| 0W3|Harford County Ai...|      39.5668378|      -76.2024028| 409| -5|  A|\n",
      "| 10C|  Galt Field Airport|      42.4028889|      -88.3751111| 875| -6|  U|\n",
      "| 17G|Port Bucyrus-Craw...|      40.7815556|      -82.9748056|1003| -5|  A|\n",
      "| 19A|Jackson County Ai...|      34.1758638|      -83.5615972| 951| -4|  U|\n",
      "| 1A3|Martin Campbell F...|      35.0158056|      -84.3468333|1789| -4|  A|\n",
      "| 1B9| Mansfield Municipal|      42.0001331|      -71.1967714| 122| -5|  A|\n",
      "| 1C9|Frazier Lake Airpark|54.0133333333333|-124.768333333333| 152| -8|  A|\n",
      "| 1CS|Clow Internationa...|      41.6959744|      -88.1292306| 670| -6|  U|\n",
      "| 1G3|  Kent State Airport|      41.1513889|      -81.4151111|1134| -4|  A|\n",
      "| 1OH|     Fortman Airport|      40.5553253|      -84.3866186| 885| -5|  U|\n",
      "+----+--------------------+----------------+-----------------+----+---+---+\n",
      "only showing top 20 rows\n",
      "\n"
     ]
    }
   ],
   "source": [
    "airports.show()"
   ]
  },
  {
   "cell_type": "markdown",
   "metadata": {},
   "source": [
    "## Machine Learning Pipelines\n"
   ]
  },
  {
   "cell_type": "code",
   "execution_count": 21,
   "metadata": {},
   "outputs": [
    {
     "name": "stdout",
     "output_type": "stream",
     "text": [
      "+-------+------+--------------------+----------------+--------+-------+-----+-----+---------+\n",
      "|tailnum|  year|                type|    manufacturer|   model|engines|seats|speed|   engine|\n",
      "+-------+------+--------------------+----------------+--------+-------+-----+-----+---------+\n",
      "| N102UW|1998.0|Fixed wing multi ...|AIRBUS INDUSTRIE|A320-214|      2|  182| NULL|Turbo-fan|\n",
      "| N103US|1999.0|Fixed wing multi ...|AIRBUS INDUSTRIE|A320-214|      2|  182| NULL|Turbo-fan|\n",
      "| N104UW|1999.0|Fixed wing multi ...|AIRBUS INDUSTRIE|A320-214|      2|  182| NULL|Turbo-fan|\n",
      "| N105UW|1999.0|Fixed wing multi ...|AIRBUS INDUSTRIE|A320-214|      2|  182| NULL|Turbo-fan|\n",
      "| N107US|1999.0|Fixed wing multi ...|AIRBUS INDUSTRIE|A320-214|      2|  182| NULL|Turbo-fan|\n",
      "| N108UW|1999.0|Fixed wing multi ...|AIRBUS INDUSTRIE|A320-214|      2|  182| NULL|Turbo-fan|\n",
      "| N109UW|1999.0|Fixed wing multi ...|AIRBUS INDUSTRIE|A320-214|      2|  182| NULL|Turbo-fan|\n",
      "| N110UW|1999.0|Fixed wing multi ...|AIRBUS INDUSTRIE|A320-214|      2|  182| NULL|Turbo-fan|\n",
      "| N111US|1999.0|Fixed wing multi ...|AIRBUS INDUSTRIE|A320-214|      2|  182| NULL|Turbo-fan|\n",
      "| N11206|2000.0|Fixed wing multi ...|          BOEING| 737-824|      2|  149| NULL|Turbo-fan|\n",
      "| N112US|1999.0|Fixed wing multi ...|AIRBUS INDUSTRIE|A320-214|      2|  182| NULL|Turbo-fan|\n",
      "| N113UW|1999.0|Fixed wing multi ...|AIRBUS INDUSTRIE|A320-214|      2|  182| NULL|Turbo-fan|\n",
      "| N114UW|1999.0|Fixed wing multi ...|AIRBUS INDUSTRIE|A320-214|      2|  182| NULL|Turbo-fan|\n",
      "| N117UW|2000.0|Fixed wing multi ...|AIRBUS INDUSTRIE|A320-214|      2|  182| NULL|Turbo-fan|\n",
      "| N118US|2000.0|Fixed wing multi ...|AIRBUS INDUSTRIE|A320-214|      2|  182| NULL|Turbo-fan|\n",
      "| N119US|2000.0|Fixed wing multi ...|AIRBUS INDUSTRIE|A320-214|      2|  182| NULL|Turbo-fan|\n",
      "| N1200K|1998.0|Fixed wing multi ...|          BOEING| 767-332|      2|  330| NULL|Turbo-fan|\n",
      "| N1201P|1998.0|Fixed wing multi ...|          BOEING| 767-332|      2|  330| NULL|Turbo-fan|\n",
      "| N12114|1995.0|Fixed wing multi ...|          BOEING| 757-224|      2|  178| NULL|Turbo-jet|\n",
      "| N121DE|1987.0|Fixed wing multi ...|          BOEING| 767-332|      2|  330| NULL|Turbo-fan|\n",
      "+-------+------+--------------------+----------------+--------+-------+-----+-----+---------+\n",
      "only showing top 20 rows\n",
      "\n"
     ]
    }
   ],
   "source": [
    "planes=spark.read.csv(\"planes.csv\",header=True)\n",
    "planes.createOrReplaceTempView(\"planes\")\n",
    "planes=spark.table(\"planes\")\n",
    "planes.show()"
   ]
  },
  {
   "cell_type": "code",
   "execution_count": 22,
   "metadata": {},
   "outputs": [],
   "source": [
    "# Rename year column\n",
    "planes = planes.withColumnRenamed(\"year\",\"plane_year\")\n",
    "\n",
    "# Join the DataFrames\n",
    "model_data = flights.join(planes, on=\"tailnum\", how=\"leftouter\")"
   ]
  },
  {
   "cell_type": "code",
   "execution_count": 23,
   "metadata": {},
   "outputs": [],
   "source": [
    "# Cast the columns to integers\n",
    "model_data = model_data.withColumn(\"arr_delay\", model_data.arr_delay.cast(\"integer\"))\n",
    "model_data = model_data.withColumn(\"air_time\", model_data.air_time.cast(\"integer\"))\n",
    "model_data = model_data.withColumn(\"month\", model_data.month.cast(\"integer\"))\n",
    "model_data = model_data.withColumn(\"plane_year\", model_data.plane_year.cast(\"integer\"))"
   ]
  },
  {
   "cell_type": "code",
   "execution_count": 24,
   "metadata": {},
   "outputs": [],
   "source": [
    "# Create the column plane_age\n",
    "model_data = model_data.withColumn(\"plane_age\", model_data.year - model_data.plane_year)"
   ]
  },
  {
   "cell_type": "code",
   "execution_count": 25,
   "metadata": {},
   "outputs": [],
   "source": [
    "# Create is_late\n",
    "model_data = model_data.withColumn(\"is_late\", model_data.arr_delay > 0)\n",
    "\n",
    "# Convert to an integer\n",
    "model_data = model_data.withColumn(\"label\", model_data.is_late.cast(\"integer\"))\n",
    "\n",
    "# Remove missing values\n",
    "model_data = model_data.filter(\"arr_delay is not NULL and dep_delay is not NULL and air_time is not NULL and plane_year is not NULL\")"
   ]
  },
  {
   "cell_type": "code",
   "execution_count": 26,
   "metadata": {},
   "outputs": [
    {
     "name": "stderr",
     "output_type": "stream",
     "text": [
      "23/10/04 20:16:24 WARN SparkStringUtils: Truncated the string representation of a plan since it was too large. This behavior can be adjusted by setting 'spark.sql.debug.maxToStringFields'.\n"
     ]
    },
    {
     "name": "stdout",
     "output_type": "stream",
     "text": [
      "+-------+----+-----+---+--------+---------+--------+---------+-------+------+------+----+--------+--------+----+------+------------------+----------+--------------------+--------------+-----------+-------+-----+-----+---------+---------+-------+-----+\n",
      "|tailnum|year|month|day|dep_time|dep_delay|arr_time|arr_delay|carrier|flight|origin|dest|air_time|distance|hour|minute|      duration_hrs|plane_year|                type|  manufacturer|      model|engines|seats|speed|   engine|plane_age|is_late|label|\n",
      "+-------+----+-----+---+--------+---------+--------+---------+-------+------+------+----+--------+--------+----+------+------------------+----------+--------------------+--------------+-----------+-------+-----+-----+---------+---------+-------+-----+\n",
      "| N846VA|2014|   12|  8|   658.0|    132.0|   935.0|       -5|     VX|  1780|   SEA| LAX|     132|   954.0| 6.0|  58.0|               2.2|      2011|Fixed wing multi ...|        AIRBUS|   A320-214|      2|  182| NULL|Turbo-fan|      3.0|  false|    0|\n",
      "| N559AS|2014|    1| 22|  1040.0|    360.0|  1505.0|        5|     AS|   851|   SEA| HNL|     360|  2677.0|10.0|  40.0|               6.0|      2006|Fixed wing multi ...|        BOEING|    737-890|      2|  149| NULL|Turbo-fan|      8.0|   true|    1|\n",
      "| N847VA|2014|    3|  9|  1443.0|    111.0|  1652.0|        2|     VX|   755|   SEA| SFO|     111|   679.0|14.0|  43.0|              1.85|      2011|Fixed wing multi ...|        AIRBUS|   A320-214|      2|  182| NULL|Turbo-fan|      3.0|   true|    1|\n",
      "| N360SW|2014|    4|  9|  1705.0|     83.0|  1839.0|       34|     WN|   344|   PDX| SJC|      83|   569.0|17.0|   5.0|1.3833333333333333|      1992|Fixed wing multi ...|        BOEING|    737-3H4|      2|  149| NULL|Turbo-fan|     22.0|   true|    1|\n",
      "| N612AS|2014|    3|  9|   754.0|    127.0|  1015.0|        1|     AS|   522|   SEA| BUR|     127|   937.0| 7.0|  54.0|2.1166666666666667|      1999|Fixed wing multi ...|        BOEING|    737-790|      2|  151| NULL|Turbo-jet|     15.0|   true|    1|\n",
      "| N646SW|2014|    1| 15|  1037.0|    121.0|  1352.0|        2|     WN|    48|   PDX| DEN|     121|   991.0|10.0|  37.0|2.0166666666666666|      1997|Fixed wing multi ...|        BOEING|    737-3H4|      2|  149| NULL|Turbo-fan|     17.0|   true|    1|\n",
      "| N422WN|2014|    7|  2|   847.0|     90.0|  1041.0|       51|     WN|  1520|   PDX| OAK|      90|   543.0| 8.0|  47.0|               1.5|      2002|Fixed wing multi ...|        BOEING|    737-7H4|      2|  140| NULL|Turbo-fan|     12.0|   true|    1|\n",
      "| N361VA|2014|    5| 12|  1655.0|     98.0|  1842.0|      -18|     VX|   755|   SEA| SFO|      98|   679.0|16.0|  55.0|1.6333333333333333|      2013|Fixed wing multi ...|        AIRBUS|   A320-214|      2|  182| NULL|Turbo-fan|      1.0|  false|    0|\n",
      "| N309AS|2014|    4| 19|  1236.0|    135.0|  1508.0|       -7|     AS|   490|   SEA| SAN|     135|  1050.0|12.0|  36.0|              2.25|      2001|Fixed wing multi ...|        BOEING|    737-990|      2|  149| NULL|Turbo-jet|     13.0|  false|    0|\n",
      "| N564AS|2014|   11| 19|  1812.0|    198.0|  2352.0|       -4|     AS|    26|   SEA| ORD|     198|  1721.0|18.0|  12.0|               3.3|      2006|Fixed wing multi ...|        BOEING|    737-890|      2|  149| NULL|Turbo-fan|      8.0|  false|    0|\n",
      "| N323AS|2014|   11|  8|  1653.0|    130.0|  1924.0|       -1|     AS|   448|   SEA| LAX|     130|   954.0|16.0|  53.0|2.1666666666666665|      2004|Fixed wing multi ...|        BOEING|    737-990|      2|  149| NULL|Turbo-jet|     10.0|  false|    0|\n",
      "| N305AS|2014|    8|  3|  1120.0|    154.0|  1415.0|        2|     AS|   656|   SEA| PHX|     154|  1107.0|11.0|  20.0| 2.566666666666667|      2001|Fixed wing multi ...|        BOEING|    737-990|      2|  149| NULL|Turbo-jet|     13.0|   true|    1|\n",
      "| N433AS|2014|   10| 30|   811.0|    127.0|  1038.0|       29|     AS|   608|   SEA| LAS|     127|   867.0| 8.0|  11.0|2.1166666666666667|      2013|Fixed wing multi ...|        BOEING|  737-990ER|      2|  222| NULL|Turbo-fan|      1.0|   true|    1|\n",
      "| N765AS|2014|   11| 12|  2346.0|    183.0|   217.0|      -28|     AS|   121|   SEA| ANC|     183|  1448.0|23.0|  46.0|              3.05|      1992|Fixed wing multi ...|        BOEING|    737-4Q8|      2|  149| NULL|Turbo-fan|     22.0|  false|    0|\n",
      "| N713AS|2014|   10| 31|  1314.0|    129.0|  1544.0|      111|     AS|   306|   SEA| SFO|     129|   679.0|13.0|  14.0|              2.15|      1999|Fixed wing multi ...|        BOEING|    737-490|      2|  149| NULL|Turbo-jet|     15.0|   true|    1|\n",
      "| N27205|2014|    1| 29|  2009.0|     90.0|  2159.0|        9|     UA|  1458|   PDX| SFO|      90|   550.0|20.0|   9.0|               1.5|      2000|Fixed wing multi ...|        BOEING|    737-824|      2|  149| NULL|Turbo-fan|     14.0|   true|    1|\n",
      "| N626AS|2014|   12| 17|  2015.0|     76.0|  2150.0|       41|     AS|   368|   SEA| SMF|      76|   605.0|20.0|  15.0|1.2666666666666666|      2001|Fixed wing multi ...|        BOEING|    737-790|      2|  151| NULL|Turbo-jet|     13.0|   true|    1|\n",
      "| N8634A|2014|    8| 11|  1017.0|    216.0|  1613.0|       -7|     WN|   827|   SEA| MDW|     216|  1733.0|10.0|  17.0|               3.6|      2014|Fixed wing multi ...|        BOEING|    737-8H4|      2|  140| NULL|Turbo-fan|      0.0|  false|    0|\n",
      "| N597AS|2014|    1| 13|  2156.0|    290.0|   607.0|      -15|     AS|    24|   SEA| BOS|     290|  2496.0|21.0|  56.0| 4.833333333333333|      2008|Fixed wing multi ...|        BOEING|    737-890|      2|  149| NULL|Turbo-fan|      6.0|  false|    0|\n",
      "| N215AG|2014|    6|  5|  1733.0|    111.0|  1945.0|      -10|     OO|  3488|   PDX| BUR|     111|   817.0|17.0|  33.0|              1.85|      2001|Fixed wing multi ...|BOMBARDIER INC|CL-600-2C10|      2|   80| NULL|Turbo-fan|     13.0|  false|    0|\n",
      "+-------+----+-----+---+--------+---------+--------+---------+-------+------+------+----+--------+--------+----+------+------------------+----------+--------------------+--------------+-----------+-------+-----+-----+---------+---------+-------+-----+\n",
      "only showing top 20 rows\n",
      "\n"
     ]
    }
   ],
   "source": [
    "model_data.show()"
   ]
  },
  {
   "cell_type": "markdown",
   "metadata": {},
   "source": [
    "## Strings and factors\n",
    "\n"
   ]
  },
  {
   "cell_type": "markdown",
   "metadata": {},
   "source": [
    "As you know, Spark requires numeric data for modeling. So far this hasn't been an issue; even boolean columns can easily be converted to integers without any trouble. But you'll also be using the airline and the plane's destination as features in your model. These are coded as strings and there isn't any obvious way to convert them to a numeric data type.\n",
    "\n",
    "Fortunately, PySpark has functions for handling this built into the pyspark.ml.features submodule. You can create what are called 'one-hot vectors' to represent the carrier and the destination of each flight. A one-hot vector is a way of representing a categorical feature where every observation has a vector in which all elements are zero except for at most one element, which has a value of one (1).\n",
    "\n",
    "Each element in the vector corresponds to a level of the feature, so it's possible to tell what the right level is by seeing which element of the vector is equal to one (1).\n",
    "\n",
    "The first step to encoding your categorical feature is to create a StringIndexer. Members of this class are Estimators that take a DataFrame with a column of strings and map each unique string to a number. Then, the Estimator returns a Transformer that takes a DataFrame, attaches the mapping to it as metadata, and returns a new DataFrame with a numeric column corresponding to the string column.\n",
    "\n",
    "The second step is to encode this numeric column as a one-hot vector using a OneHotEncoder. This works exactly the same way as the StringIndexer by creating an Estimator and then a Transformer. The end result is a column that encodes your categorical feature as a vector that's suitable for machine learning routines!\n",
    "\n",
    "This may seem complicated, but don't worry! All you have to remember is that you need to create a StringIndexer and a OneHotEncoder, and the Pipeline will take care of the rest."
   ]
  },
  {
   "cell_type": "code",
   "execution_count": 27,
   "metadata": {},
   "outputs": [],
   "source": [
    "from pyspark.ml.feature import StringIndexer\n",
    "from pyspark.ml.feature import OneHotEncoder\n",
    "from pyspark.ml.feature import VectorAssembler\n",
    "# Create a StringIndexer\n",
    "carr_indexer = StringIndexer(inputCol=\"carrier\",outputCol=\"carrier_index\")\n",
    "\n",
    "# Create a OneHotEncoder\n",
    "carr_encoder = OneHotEncoder(inputCol=\"carrier_index\",outputCol=\"carrier_fact\")\n",
    "\n",
    "# Create a StringIndexer\n",
    "dest_indexer = StringIndexer(inputCol=\"dest\",outputCol=\"dest_index\")\n",
    "\n",
    "# Create a OneHotEncoder\n",
    "dest_encoder = OneHotEncoder(inputCol=\"dest_index\",outputCol=\"dest_fact\")"
   ]
  },
  {
   "cell_type": "markdown",
   "metadata": {},
   "source": [
    "### Assemble a vector\n",
    "The last step in the Pipeline is to combine all of the columns containing our features into a single column. This has to be done before modeling can take place because every Spark modeling routine expects the data to be in this form. You can do this by storing each of the values from a column as an entry in a vector. Then, from the model's point of view, every observation is a vector that contains all of the information about it and a label that tells the modeler what value that observation corresponds to."
   ]
  },
  {
   "cell_type": "code",
   "execution_count": 28,
   "metadata": {},
   "outputs": [],
   "source": [
    "# Make a VectorAssembler\n",
    "vec_assembler = VectorAssembler(inputCols=[\"month\", \"air_time\", \"carrier_fact\", \"dest_fact\", \"plane_age\"], outputCol=\"features\")"
   ]
  },
  {
   "cell_type": "markdown",
   "metadata": {},
   "source": [
    "### Create the pipeline"
   ]
  },
  {
   "cell_type": "code",
   "execution_count": 29,
   "metadata": {},
   "outputs": [],
   "source": [
    "# Import Pipeline\n",
    "from pyspark.ml import Pipeline\n",
    "\n",
    "# Make the pipeline\n",
    "flights_pipe = Pipeline(stages=[dest_indexer, dest_encoder, carr_indexer, carr_encoder, vec_assembler])"
   ]
  },
  {
   "cell_type": "code",
   "execution_count": 30,
   "metadata": {},
   "outputs": [],
   "source": [
    "# Fit and transform the data\n",
    "piped_data = flights_pipe.fit(model_data).transform(model_data)"
   ]
  },
  {
   "cell_type": "code",
   "execution_count": 31,
   "metadata": {},
   "outputs": [
    {
     "name": "stdout",
     "output_type": "stream",
     "text": [
      "+-------+----+-----+---+--------+---------+--------+---------+-------+------+------+----+--------+--------+----+------+------------------+----------+--------------------+--------------+-----------+-------+-----+-----+---------+---------+-------+-----+----------+---------------+-------------+--------------+--------------------+\n",
      "|tailnum|year|month|day|dep_time|dep_delay|arr_time|arr_delay|carrier|flight|origin|dest|air_time|distance|hour|minute|      duration_hrs|plane_year|                type|  manufacturer|      model|engines|seats|speed|   engine|plane_age|is_late|label|dest_index|      dest_fact|carrier_index|  carrier_fact|            features|\n",
      "+-------+----+-----+---+--------+---------+--------+---------+-------+------+------+----+--------+--------+----+------+------------------+----------+--------------------+--------------+-----------+-------+-----+-----+---------+---------+-------+-----+----------+---------------+-------------+--------------+--------------------+\n",
      "| N846VA|2014|   12|  8|   658.0|    132.0|   935.0|       -5|     VX|  1780|   SEA| LAX|     132|   954.0| 6.0|  58.0|               2.2|      2011|Fixed wing multi ...|        AIRBUS|   A320-214|      2|  182| NULL|Turbo-fan|      3.0|  false|    0|       1.0| (68,[1],[1.0])|          7.0|(10,[7],[1.0])|(81,[0,1,9,13,80]...|\n",
      "| N559AS|2014|    1| 22|  1040.0|    360.0|  1505.0|        5|     AS|   851|   SEA| HNL|     360|  2677.0|10.0|  40.0|               6.0|      2006|Fixed wing multi ...|        BOEING|    737-890|      2|  149| NULL|Turbo-fan|      8.0|   true|    1|      19.0|(68,[19],[1.0])|          0.0|(10,[0],[1.0])|(81,[0,1,2,31,80]...|\n",
      "| N847VA|2014|    3|  9|  1443.0|    111.0|  1652.0|        2|     VX|   755|   SEA| SFO|     111|   679.0|14.0|  43.0|              1.85|      2011|Fixed wing multi ...|        AIRBUS|   A320-214|      2|  182| NULL|Turbo-fan|      3.0|   true|    1|       0.0| (68,[0],[1.0])|          7.0|(10,[7],[1.0])|(81,[0,1,9,12,80]...|\n",
      "| N360SW|2014|    4|  9|  1705.0|     83.0|  1839.0|       34|     WN|   344|   PDX| SJC|      83|   569.0|17.0|   5.0|1.3833333333333333|      1992|Fixed wing multi ...|        BOEING|    737-3H4|      2|  149| NULL|Turbo-fan|     22.0|   true|    1|       7.0| (68,[7],[1.0])|          1.0|(10,[1],[1.0])|(81,[0,1,3,19,80]...|\n",
      "| N612AS|2014|    3|  9|   754.0|    127.0|  1015.0|        1|     AS|   522|   SEA| BUR|     127|   937.0| 7.0|  54.0|2.1166666666666667|      1999|Fixed wing multi ...|        BOEING|    737-790|      2|  151| NULL|Turbo-jet|     15.0|   true|    1|      22.0|(68,[22],[1.0])|          0.0|(10,[0],[1.0])|(81,[0,1,2,34,80]...|\n",
      "| N646SW|2014|    1| 15|  1037.0|    121.0|  1352.0|        2|     WN|    48|   PDX| DEN|     121|   991.0|10.0|  37.0|2.0166666666666666|      1997|Fixed wing multi ...|        BOEING|    737-3H4|      2|  149| NULL|Turbo-fan|     17.0|   true|    1|       2.0| (68,[2],[1.0])|          1.0|(10,[1],[1.0])|(81,[0,1,3,14,80]...|\n",
      "| N422WN|2014|    7|  2|   847.0|     90.0|  1041.0|       51|     WN|  1520|   PDX| OAK|      90|   543.0| 8.0|  47.0|               1.5|      2002|Fixed wing multi ...|        BOEING|    737-7H4|      2|  140| NULL|Turbo-fan|     12.0|   true|    1|       8.0| (68,[8],[1.0])|          1.0|(10,[1],[1.0])|(81,[0,1,3,20,80]...|\n",
      "| N361VA|2014|    5| 12|  1655.0|     98.0|  1842.0|      -18|     VX|   755|   SEA| SFO|      98|   679.0|16.0|  55.0|1.6333333333333333|      2013|Fixed wing multi ...|        AIRBUS|   A320-214|      2|  182| NULL|Turbo-fan|      1.0|  false|    0|       0.0| (68,[0],[1.0])|          7.0|(10,[7],[1.0])|(81,[0,1,9,12,80]...|\n",
      "| N309AS|2014|    4| 19|  1236.0|    135.0|  1508.0|       -7|     AS|   490|   SEA| SAN|     135|  1050.0|12.0|  36.0|              2.25|      2001|Fixed wing multi ...|        BOEING|    737-990|      2|  149| NULL|Turbo-jet|     13.0|  false|    0|      10.0|(68,[10],[1.0])|          0.0|(10,[0],[1.0])|(81,[0,1,2,22,80]...|\n",
      "| N564AS|2014|   11| 19|  1812.0|    198.0|  2352.0|       -4|     AS|    26|   SEA| ORD|     198|  1721.0|18.0|  12.0|               3.3|      2006|Fixed wing multi ...|        BOEING|    737-890|      2|  149| NULL|Turbo-fan|      8.0|  false|    0|      11.0|(68,[11],[1.0])|          0.0|(10,[0],[1.0])|(81,[0,1,2,23,80]...|\n",
      "| N323AS|2014|   11|  8|  1653.0|    130.0|  1924.0|       -1|     AS|   448|   SEA| LAX|     130|   954.0|16.0|  53.0|2.1666666666666665|      2004|Fixed wing multi ...|        BOEING|    737-990|      2|  149| NULL|Turbo-jet|     10.0|  false|    0|       1.0| (68,[1],[1.0])|          0.0|(10,[0],[1.0])|(81,[0,1,2,13,80]...|\n",
      "| N305AS|2014|    8|  3|  1120.0|    154.0|  1415.0|        2|     AS|   656|   SEA| PHX|     154|  1107.0|11.0|  20.0| 2.566666666666667|      2001|Fixed wing multi ...|        BOEING|    737-990|      2|  149| NULL|Turbo-jet|     13.0|   true|    1|       4.0| (68,[4],[1.0])|          0.0|(10,[0],[1.0])|(81,[0,1,2,16,80]...|\n",
      "| N433AS|2014|   10| 30|   811.0|    127.0|  1038.0|       29|     AS|   608|   SEA| LAS|     127|   867.0| 8.0|  11.0|2.1166666666666667|      2013|Fixed wing multi ...|        BOEING|  737-990ER|      2|  222| NULL|Turbo-fan|      1.0|   true|    1|       3.0| (68,[3],[1.0])|          0.0|(10,[0],[1.0])|(81,[0,1,2,15,80]...|\n",
      "| N765AS|2014|   11| 12|  2346.0|    183.0|   217.0|      -28|     AS|   121|   SEA| ANC|     183|  1448.0|23.0|  46.0|              3.05|      1992|Fixed wing multi ...|        BOEING|    737-4Q8|      2|  149| NULL|Turbo-fan|     22.0|  false|    0|       5.0| (68,[5],[1.0])|          0.0|(10,[0],[1.0])|(81,[0,1,2,17,80]...|\n",
      "| N713AS|2014|   10| 31|  1314.0|    129.0|  1544.0|      111|     AS|   306|   SEA| SFO|     129|   679.0|13.0|  14.0|              2.15|      1999|Fixed wing multi ...|        BOEING|    737-490|      2|  149| NULL|Turbo-jet|     15.0|   true|    1|       0.0| (68,[0],[1.0])|          0.0|(10,[0],[1.0])|(81,[0,1,2,12,80]...|\n",
      "| N27205|2014|    1| 29|  2009.0|     90.0|  2159.0|        9|     UA|  1458|   PDX| SFO|      90|   550.0|20.0|   9.0|               1.5|      2000|Fixed wing multi ...|        BOEING|    737-824|      2|  149| NULL|Turbo-fan|     14.0|   true|    1|       0.0| (68,[0],[1.0])|          4.0|(10,[4],[1.0])|(81,[0,1,6,12,80]...|\n",
      "| N626AS|2014|   12| 17|  2015.0|     76.0|  2150.0|       41|     AS|   368|   SEA| SMF|      76|   605.0|20.0|  15.0|1.2666666666666666|      2001|Fixed wing multi ...|        BOEING|    737-790|      2|  151| NULL|Turbo-jet|     13.0|   true|    1|       9.0| (68,[9],[1.0])|          0.0|(10,[0],[1.0])|(81,[0,1,2,21,80]...|\n",
      "| N8634A|2014|    8| 11|  1017.0|    216.0|  1613.0|       -7|     WN|   827|   SEA| MDW|     216|  1733.0|10.0|  17.0|               3.6|      2014|Fixed wing multi ...|        BOEING|    737-8H4|      2|  140| NULL|Turbo-fan|      0.0|  false|    0|      31.0|(68,[31],[1.0])|          1.0|(10,[1],[1.0])|(81,[0,1,3,43],[8...|\n",
      "| N597AS|2014|    1| 13|  2156.0|    290.0|   607.0|      -15|     AS|    24|   SEA| BOS|     290|  2496.0|21.0|  56.0| 4.833333333333333|      2008|Fixed wing multi ...|        BOEING|    737-890|      2|  149| NULL|Turbo-fan|      6.0|  false|    0|      24.0|(68,[24],[1.0])|          0.0|(10,[0],[1.0])|(81,[0,1,2,36,80]...|\n",
      "| N215AG|2014|    6|  5|  1733.0|    111.0|  1945.0|      -10|     OO|  3488|   PDX| BUR|     111|   817.0|17.0|  33.0|              1.85|      2001|Fixed wing multi ...|BOMBARDIER INC|CL-600-2C10|      2|   80| NULL|Turbo-fan|     13.0|  false|    0|      22.0|(68,[22],[1.0])|          2.0|(10,[2],[1.0])|(81,[0,1,4,34,80]...|\n",
      "+-------+----+-----+---+--------+---------+--------+---------+-------+------+------+----+--------+--------+----+------+------------------+----------+--------------------+--------------+-----------+-------+-----+-----+---------+---------+-------+-----+----------+---------------+-------------+--------------+--------------------+\n",
      "only showing top 20 rows\n",
      "\n"
     ]
    }
   ],
   "source": [
    "piped_data.show()"
   ]
  },
  {
   "cell_type": "markdown",
   "metadata": {},
   "source": [
    "### Split the data"
   ]
  },
  {
   "cell_type": "markdown",
   "metadata": {},
   "source": [
    "Use the DataFrame method .randomSplit() to split piped_data into two pieces, training with 60% of the data, and test with 40% of the data by passing the list [.6, .4] to the .randomSplit() method."
   ]
  },
  {
   "cell_type": "code",
   "execution_count": 32,
   "metadata": {},
   "outputs": [],
   "source": [
    "# Split the data into training and test sets\n",
    "training, test = piped_data.randomSplit([.6, .4])"
   ]
  },
  {
   "cell_type": "code",
   "execution_count": 33,
   "metadata": {},
   "outputs": [],
   "source": [
    "import requests\n",
    "url=\"https://assets.datacamp.com/production/repositories/1237/datasets/231480a2696c55fde829ce76d936596123f12c0c/planes.csv\"\n",
    "r=requests.get(url)\n",
    "\n",
    "from io import StringIO\n",
    "\n",
    "data = StringIO(r.text)\n",
    "df_ = pd.read_csv(data)\n",
    "\n",
    "df_.to_csv(\"planes.csv\",index=False)"
   ]
  },
  {
   "cell_type": "markdown",
   "metadata": {},
   "source": [
    "## logistic regression"
   ]
  },
  {
   "cell_type": "markdown",
   "metadata": {},
   "source": [
    "The model you'll be fitting in this chapter is called a logistic regression. This model is very similar to a linear regression, but instead of predicting a numeric variable, it predicts the probability (between 0 and 1) of an event.\n",
    "\n",
    "To use this as a classification algorithm, all you have to do is assign a cutoff point to these probabilities. If the predicted probability is above the cutoff point, you classify that observation as a 'yes' (in this case, the flight being late), if it's below, you classify it as a 'no'!\n",
    "\n",
    "You'll tune this model by testing different values for several hyperparameters. A hyperparameter is just a value in the model that's not estimated from the data, but rather is supplied by the user to maximize performance. For this course it's not necessary to understand the mathematics behind all of these values - what's important is that you'll try out a few different choices and pick the best one."
   ]
  },
  {
   "cell_type": "code",
   "execution_count": 34,
   "metadata": {},
   "outputs": [],
   "source": [
    "# Import LogisticRegression\n",
    "from pyspark.ml.classification import LogisticRegression\n",
    "\n",
    "# Create a LogisticRegression Estimator\n",
    "lr = LogisticRegression()"
   ]
  },
  {
   "cell_type": "markdown",
   "metadata": {},
   "source": [
    "## Cross validation\n"
   ]
  },
  {
   "cell_type": "markdown",
   "metadata": {},
   "source": [
    "In the next few exercises you'll be tuning your logistic regression model using a procedure called k-fold cross validation. This is a method of estimating the model's performance on unseen data (like your test DataFrame).\n",
    "\n",
    "It works by splitting the training data into a few different partitions. The exact number is up to you, but in this course you'll be using PySpark's default value of three. Once the data is split up, one of the partitions is set aside, and the model is fit to the others. Then the error is measured against the held out partition. This is repeated for each of the partitions, so that every block of data is held out and used as a test set exactly once. Then the error on each of the partitions is averaged. This is called the cross validation error of the model, and is a good estimate of the actual error on the held out data.\n",
    "\n",
    "You'll be using cross validation to choose the hyperparameters by creating a grid of the possible pairs of values for the two hyperparameters, elasticNetParam and regParam, and using the cross validation error to compare all the different models so you can choose the best one!"
   ]
  },
  {
   "cell_type": "code",
   "execution_count": 38,
   "metadata": {},
   "outputs": [],
   "source": [
    "# Import the evaluation submodule\n",
    "import pyspark.ml.evaluation as evals\n",
    "\n",
    "# Create a BinaryClassificationEvaluator\n",
    "evaluator = evals.BinaryClassificationEvaluator(metricName=\"areaUnderROC\")\n",
    "\n",
    "# Import the tuning submodule\n",
    "import pyspark.ml.tuning as tune\n",
    "\n",
    "# Create the parameter grid\n",
    "grid = tune.ParamGridBuilder()\n",
    "\n",
    "# Add the hyperparameter\n",
    "grid = grid.addGrid(lr.regParam, np.arange(0, .1, .01))\n",
    "grid = grid.addGrid(lr.elasticNetParam, [0, 1])\n",
    "\n",
    "# Build the grid\n",
    "grid = grid.build()"
   ]
  },
  {
   "cell_type": "code",
   "execution_count": 39,
   "metadata": {},
   "outputs": [],
   "source": [
    "# Create the CrossValidator\n",
    "cv = tune.CrossValidator(estimator=lr,\n",
    "               estimatorParamMaps=grid,\n",
    "               evaluator=evaluator\n",
    "               )"
   ]
  },
  {
   "cell_type": "code",
   "execution_count": 40,
   "metadata": {},
   "outputs": [
    {
     "name": "stdout",
     "output_type": "stream",
     "text": [
      "LogisticRegressionModel: uid=LogisticRegression_1728920c7e0b, numClasses=2, numFeatures=81\n"
     ]
    }
   ],
   "source": [
    "# Call lr.fit()\n",
    "best_lr = lr.fit(training)\n",
    "\n",
    "# Print best_lr\n",
    "print(best_lr)"
   ]
  },
  {
   "cell_type": "code",
   "execution_count": 41,
   "metadata": {},
   "outputs": [
    {
     "name": "stdout",
     "output_type": "stream",
     "text": [
      "0.6966338370331949\n"
     ]
    }
   ],
   "source": [
    "# Use the model to predict the test set\n",
    "test_results = best_lr.transform(test)\n",
    "\n",
    "# Evaluate the predictions\n",
    "print(evaluator.evaluate(test_results))"
   ]
  }
 ],
 "metadata": {
  "kernelspec": {
   "display_name": "datasc",
   "language": "python",
   "name": "python3"
  },
  "language_info": {
   "codemirror_mode": {
    "name": "ipython",
    "version": 3
   },
   "file_extension": ".py",
   "mimetype": "text/x-python",
   "name": "python",
   "nbconvert_exporter": "python",
   "pygments_lexer": "ipython3",
   "version": "3.9.0"
  },
  "orig_nbformat": 4
 },
 "nbformat": 4,
 "nbformat_minor": 2
}
